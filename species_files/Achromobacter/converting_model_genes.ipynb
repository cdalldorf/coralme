{
 "cells": [
  {
   "cell_type": "code",
   "execution_count": 20,
   "id": "b36c49e7-3e44-40e0-b3d3-dd03715bf4cd",
   "metadata": {},
   "outputs": [
    {
     "name": "stderr",
     "output_type": "stream",
     "text": [
      "No defined compartments in model model. Compartments will be deduced heuristically using regular expressions.\n",
      "Using regular expression found the following compartments:c, e, p\n"
     ]
    }
   ],
   "source": [
    "from cobra.io import load_matlab_model, save_json_model\n",
    "import numpy as np\n",
    "\n",
    "# Load the MATLAB model\n",
    "model = load_matlab_model('./og_model_genome_files/Ax_model_Jan_17_2025.mat')"
   ]
  },
  {
   "cell_type": "code",
   "execution_count": 21,
   "id": "60b5d41a-94f2-411a-8a84-bffe5727d704",
   "metadata": {},
   "outputs": [
    {
     "data": {
      "text/html": [
       "\n",
       "        <table>\n",
       "            <tr>\n",
       "                <td><strong>Reaction identifier</strong></td><td>CYTDK2</td>\n",
       "            </tr><tr>\n",
       "                <td><strong>Name</strong></td><td>Cytidine kinase (GTP)</td>\n",
       "            </tr><tr>\n",
       "                <td><strong>Memory address</strong></td>\n",
       "                <td>0x7f67fb2cd2a0</td>\n",
       "            </tr><tr>\n",
       "                <td><strong>Stoichiometry</strong></td>\n",
       "                <td>\n",
       "                    <p style='text-align:right'>cytd_c + gtp_c --> cmp_c + gdp_c + h_c</p>\n",
       "                    <p style='text-align:right'>Cytidine + GTP C10H12N5O14P3 --> CMP C9H12N3O8P + GDP C10H12N5O11P2 + H+</p>\n",
       "                </td>\n",
       "            </tr><tr>\n",
       "                <td><strong>GPR</strong></td><td>222.273.peg.2193</td>\n",
       "            </tr><tr>\n",
       "                <td><strong>Lower bound</strong></td><td>0.0</td>\n",
       "            </tr><tr>\n",
       "                <td><strong>Upper bound</strong></td><td>1000.0</td>\n",
       "            </tr>\n",
       "        </table>\n",
       "        "
      ],
      "text/plain": [
       "<Reaction CYTDK2 at 0x7f67fb2cd2a0>"
      ]
     },
     "execution_count": 21,
     "metadata": {},
     "output_type": "execute_result"
    }
   ],
   "source": [
    "model.reactions[0]"
   ]
  },
  {
   "cell_type": "code",
   "execution_count": null,
   "id": "365e5efb-f4cf-4564-8138-ac0ff3396aca",
   "metadata": {},
   "outputs": [],
   "source": []
  },
  {
   "cell_type": "code",
   "execution_count": 16,
   "id": "76a7f1f5",
   "metadata": {},
   "outputs": [],
   "source": [
    "from cobra.io import load_matlab_model, save_json_model\n",
    "import numpy as np\n",
    "\n",
    "# Load the MATLAB model\n",
    "model = load_matlab_model('./og_model_genome_files/Ax_model_Jan_17_2025.mat')\n",
    "\n",
    "# Function to recursively handle NaN values in nested structures\n",
    "def replace_nan(obj):\n",
    "    if isinstance(obj, dict):\n",
    "        return {k: replace_nan(v) for k, v in obj.items()}\n",
    "    elif isinstance(obj, list):\n",
    "        return [replace_nan(x) for x in obj]\n",
    "    elif isinstance(obj, (float, np.floating)) and np.isnan(obj):\n",
    "        return 0.0  # or another appropriate value\n",
    "    return obj\n",
    "\n",
    "# Replace NaN values in various model attributes\n",
    "for reaction in model.reactions:\n",
    "    # Handle reaction bounds\n",
    "    if np.isnan(reaction.upper_bound):\n",
    "        reaction.upper_bound = 1000.0\n",
    "    if np.isnan(reaction.lower_bound):\n",
    "        reaction.lower_bound = -1000.0\n",
    "    \n",
    "    # Handle other numerical attributes\n",
    "    for attr in dir(reaction):\n",
    "        if not attr.startswith('_'):  # Skip private attributes\n",
    "            try:\n",
    "                value = getattr(reaction, attr)\n",
    "            except:\n",
    "                continue\n",
    "            if isinstance(value, (float, np.floating)) and np.isnan(value):\n",
    "                setattr(reaction, attr, 0.0)\n",
    "\n",
    "for metabolite in model.metabolites:\n",
    "    # Handle charge\n",
    "    if hasattr(metabolite, 'charge') and (metabolite.charge is None or (isinstance(metabolite.charge, (float, np.floating)) and np.isnan(metabolite.charge))):\n",
    "        metabolite.charge = 0\n",
    "    \n",
    "    # Handle other numerical attributes\n",
    "    for attr in dir(metabolite):\n",
    "        if not attr.startswith('_'):\n",
    "            try:\n",
    "                value = getattr(metabolite, attr)\n",
    "            except:\n",
    "                continue\n",
    "            if isinstance(value, (float, np.floating)) and np.isnan(value):\n",
    "                setattr(metabolite, attr, 0.0)\n",
    "\n",
    "# Handle model attributes carefully\n",
    "SKIP_MODEL_ATTRS = {'boundary', 'reactions', 'metabolites', 'genes', 'groups', 'solver'}\n",
    "for attr in dir(model):\n",
    "    if (not attr.startswith('_') and \n",
    "        attr not in SKIP_MODEL_ATTRS and \n",
    "        not callable(getattr(model, attr))):\n",
    "        try:\n",
    "            value = getattr(model, attr)\n",
    "            if is_nan(value):\n",
    "                setattr(model, attr, 0.0)\n",
    "        except:\n",
    "            continue  # Skip any attributes that cause errors\n"
   ]
  },
  {
   "cell_type": "code",
   "execution_count": 1,
   "id": "0f9a6603-fe0b-4696-8e59-67778df564e1",
   "metadata": {},
   "outputs": [
    {
     "ename": "FileNotFoundError",
     "evalue": "[Errno 2] No such file or directory: './inputs/i_ZM4_481.json'",
     "output_type": "error",
     "traceback": [
      "\u001b[0;31m---------------------------------------------------------------------------\u001b[0m",
      "\u001b[0;31mFileNotFoundError\u001b[0m                         Traceback (most recent call last)",
      "Cell \u001b[0;32mIn[1], line 2\u001b[0m\n\u001b[1;32m      1\u001b[0m \u001b[38;5;66;03m# convert model values\u001b[39;00m\n\u001b[0;32m----> 2\u001b[0m f \u001b[38;5;241m=\u001b[39m \u001b[38;5;28;43mopen\u001b[39;49m\u001b[43m(\u001b[49m\u001b[38;5;124;43m'\u001b[39;49m\u001b[38;5;124;43m./inputs/i_ZM4_481.json\u001b[39;49m\u001b[38;5;124;43m'\u001b[39;49m\u001b[43m,\u001b[49m\u001b[43m \u001b[49m\u001b[38;5;124;43m'\u001b[39;49m\u001b[38;5;124;43mr\u001b[39;49m\u001b[38;5;124;43m'\u001b[39;49m\u001b[43m)\u001b[49m\n\u001b[1;32m      3\u001b[0m lines \u001b[38;5;241m=\u001b[39m f\u001b[38;5;241m.\u001b[39mreadlines()\n\u001b[1;32m      4\u001b[0m f\u001b[38;5;241m.\u001b[39mclose()\n",
      "File \u001b[0;32m~/miniforge3/envs/coralme/lib/python3.10/site-packages/IPython/core/interactiveshell.py:324\u001b[0m, in \u001b[0;36m_modified_open\u001b[0;34m(file, *args, **kwargs)\u001b[0m\n\u001b[1;32m    317\u001b[0m \u001b[38;5;28;01mif\u001b[39;00m file \u001b[38;5;129;01min\u001b[39;00m {\u001b[38;5;241m0\u001b[39m, \u001b[38;5;241m1\u001b[39m, \u001b[38;5;241m2\u001b[39m}:\n\u001b[1;32m    318\u001b[0m     \u001b[38;5;28;01mraise\u001b[39;00m \u001b[38;5;167;01mValueError\u001b[39;00m(\n\u001b[1;32m    319\u001b[0m         \u001b[38;5;124mf\u001b[39m\u001b[38;5;124m\"\u001b[39m\u001b[38;5;124mIPython won\u001b[39m\u001b[38;5;124m'\u001b[39m\u001b[38;5;124mt let you open fd=\u001b[39m\u001b[38;5;132;01m{\u001b[39;00mfile\u001b[38;5;132;01m}\u001b[39;00m\u001b[38;5;124m by default \u001b[39m\u001b[38;5;124m\"\u001b[39m\n\u001b[1;32m    320\u001b[0m         \u001b[38;5;124m\"\u001b[39m\u001b[38;5;124mas it is likely to crash IPython. If you know what you are doing, \u001b[39m\u001b[38;5;124m\"\u001b[39m\n\u001b[1;32m    321\u001b[0m         \u001b[38;5;124m\"\u001b[39m\u001b[38;5;124myou can use builtins\u001b[39m\u001b[38;5;124m'\u001b[39m\u001b[38;5;124m open.\u001b[39m\u001b[38;5;124m\"\u001b[39m\n\u001b[1;32m    322\u001b[0m     )\n\u001b[0;32m--> 324\u001b[0m \u001b[38;5;28;01mreturn\u001b[39;00m \u001b[43mio_open\u001b[49m\u001b[43m(\u001b[49m\u001b[43mfile\u001b[49m\u001b[43m,\u001b[49m\u001b[43m \u001b[49m\u001b[38;5;241;43m*\u001b[39;49m\u001b[43margs\u001b[49m\u001b[43m,\u001b[49m\u001b[43m \u001b[49m\u001b[38;5;241;43m*\u001b[39;49m\u001b[38;5;241;43m*\u001b[39;49m\u001b[43mkwargs\u001b[49m\u001b[43m)\u001b[49m\n",
      "\u001b[0;31mFileNotFoundError\u001b[0m: [Errno 2] No such file or directory: './inputs/i_ZM4_481.json'"
     ]
    }
   ],
   "source": [
    "# convert model values\n",
    "f = open('./inputs/i_ZM4_481.json', 'r')\n",
    "lines = f.readlines()\n",
    "f.close()\n",
    "f = open('./inputs/converted_model.json', 'w')\n",
    "new_lines = []\n",
    "for line in lines:\n",
    "    if 'kegg.gene' in line:\n",
    "        pre_gene = line.split('zmo')[0]\n",
    "        gene = line.split('zmo:')[1].split('\\\"')[0]\n",
    "        if gene in ZM_gene_to_biocyc:\n",
    "            new_gene = ZM_gene_to_biocyc[gene]\n",
    "        else:\n",
    "            new_gene = gene\n",
    "        post_gene = '\\\"'+post_gene.split('\\\"')[1]\n",
    "        new_line = pre_gene+new_gene+post_gene\n",
    "    else:\n",
    "        new_line = line\n",
    "    f.write(new_line)\n",
    "f.close()\n",
    "\n",
    "\n",
    "\n",
    "# Save as JSON\n",
    "save_json_model(model, './inputs/converted_model.json')"
   ]
  },
  {
   "cell_type": "code",
   "execution_count": null,
   "id": "1901a275-1037-44ea-b4c5-855e9a1a6664",
   "metadata": {},
   "outputs": [],
   "source": []
  }
 ],
 "metadata": {
  "kernelspec": {
   "display_name": "Python 3 (ipykernel)",
   "language": "python",
   "name": "python3"
  },
  "language_info": {
   "codemirror_mode": {
    "name": "ipython",
    "version": 3
   },
   "file_extension": ".py",
   "mimetype": "text/x-python",
   "name": "python",
   "nbconvert_exporter": "python",
   "pygments_lexer": "ipython3",
   "version": "3.10.16"
  }
 },
 "nbformat": 4,
 "nbformat_minor": 5
}
