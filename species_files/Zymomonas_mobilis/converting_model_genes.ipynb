{
 "cells": [
  {
   "cell_type": "code",
   "execution_count": 2,
   "id": "8dbf4dd4-dd63-42c8-a059-290081ce9978",
   "metadata": {},
   "outputs": [
    {
     "name": "stdout",
     "output_type": "stream",
     "text": [
      "extracted_genes.fasta  genomic.fasta.fai  results.txt\n",
      "genomic.fasta          genomic.gff\n"
     ]
    }
   ],
   "source": [
    "ls ./og_model_genome_files"
   ]
  },
  {
   "cell_type": "code",
   "execution_count": 51,
   "id": "ccf000b3-df4e-4718-8083-d2b18e26ba59",
   "metadata": {},
   "outputs": [],
   "source": [
    "# convert blast_id to ZM id for model genes\n",
    "f = open('./og_model_genome_files/genomic.gff', 'r')\n",
    "lines = f.readlines()\n",
    "f.close()\n",
    "id_to_locus = {}\n",
    "for line in lines[7:-1]:\n",
    "    opts = line.split('\\t')\n",
    "    if opts[2] != 'gene':\n",
    "        continue\n",
    "    new_name = opts[0]+':'+str(int(opts[3])-1)+'-'+opts[4]\n",
    "    id_to_locus.update({new_name : opts[-1].split('Name=')[1].split(';')[0]})\n"
   ]
  },
  {
   "cell_type": "code",
   "execution_count": 52,
   "id": "26b76110-fbb3-4688-81ca-f21f7448d109",
   "metadata": {},
   "outputs": [],
   "source": [
    "# convert model genes to biocyc genes\n",
    "f = open('./og_model_genome_files/results.txt', 'r')\n",
    "lines = f.readlines()\n",
    "f.close()\n",
    "ZM_gene_to_biocyc = {}\n",
    "for line in lines:\n",
    "    opts = line.split('\\t')\n",
    "    if opts[0] not in id_to_locus:\n",
    "        continue\n",
    "    ZM_gene = id_to_locus[opts[0]]\n",
    "    biocyc_gene = opts[1].split('|')[2]\n",
    "    ZM_gene_to_biocyc.update({ZM_gene : biocyc_gene})"
   ]
  },
  {
   "cell_type": "code",
   "execution_count": 83,
   "id": "0f9a6603-fe0b-4696-8e59-67778df564e1",
   "metadata": {},
   "outputs": [],
   "source": [
    "# convert model values\n",
    "f = open('./inputs/i_ZM4_481.json', 'r')\n",
    "lines = f.readlines()\n",
    "f.close()\n",
    "f = open('./inputs/converted_model.json', 'w')\n",
    "new_lines = []\n",
    "for line in lines:\n",
    "    if 'kegg.gene' in line:\n",
    "        pre_gene = line.split('zmo')[0]\n",
    "        gene = line.split('zmo:')[1].split('\\\"')[0]\n",
    "        if gene in ZM_gene_to_biocyc:\n",
    "            new_gene = ZM_gene_to_biocyc[gene]\n",
    "        else:\n",
    "            new_gene = gene\n",
    "        post_gene = '\\\"'+post_gene.split('\\\"')[1]\n",
    "        new_line = pre_gene+new_gene+post_gene\n",
    "    else:\n",
    "        new_line = line\n",
    "    f.write(new_line)\n",
    "f.close()"
   ]
  },
  {
   "cell_type": "code",
   "execution_count": null,
   "id": "1901a275-1037-44ea-b4c5-855e9a1a6664",
   "metadata": {},
   "outputs": [],
   "source": []
  }
 ],
 "metadata": {
  "kernelspec": {
   "display_name": "Python 3 (ipykernel)",
   "language": "python",
   "name": "python3"
  },
  "language_info": {
   "codemirror_mode": {
    "name": "ipython",
    "version": 3
   },
   "file_extension": ".py",
   "mimetype": "text/x-python",
   "name": "python",
   "nbconvert_exporter": "python",
   "pygments_lexer": "ipython3",
   "version": "3.10.16"
  }
 },
 "nbformat": 4,
 "nbformat_minor": 5
}
