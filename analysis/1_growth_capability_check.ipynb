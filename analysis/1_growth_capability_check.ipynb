{
 "cells": [
  {
   "cell_type": "code",
   "execution_count": 29,
   "id": "54203365-3735-4b6d-b284-07665a913925",
   "metadata": {},
   "outputs": [],
   "source": [
    "import sys\n",
    "sys.path.insert(0, '../')\n",
    "\n",
    "import importlib\n",
    "import coralme\n",
    "import coralme.solver.solver\n",
    "import coralme.builder.main\n",
    "import coralme.core.model\n",
    "import cobra\n",
    "from coralme.util.helpers import get_nlp,optimize\n",
    "\n",
    "#model = cobra.io.load_json_model\n",
    "me = coralme.io.pickle.load_pickle_me_model('../species_files/Zymomonas_mobilis/outputs/MEModel-step3-zymomonas-TS.pkl')\n",
    "nlp = get_nlp(model)\n",
    "rxn_index_dct = {r.id : me.reactions.index(r) for r in me.reactions}\n",
    "met_index_dct = {m.id : me.metabolites.index(m) for m in me.metabolites}"
   ]
  },
  {
   "cell_type": "code",
   "execution_count": 30,
   "id": "92a73a57-5be0-42cb-8f42-008a979d3306",
   "metadata": {},
   "outputs": [],
   "source": [
    "nlp = get_nlp(model)"
   ]
  },
  {
   "cell_type": "code",
   "execution_count": null,
   "id": "020d5e3d-dad1-4f59-a237-a04602915743",
   "metadata": {},
   "outputs": [],
   "source": []
  },
  {
   "cell_type": "code",
   "execution_count": 33,
   "id": "fd15999f-131b-4753-9c0c-77fb78ffce49",
   "metadata": {},
   "outputs": [],
   "source": [
    "rxn_index_dct = {r.id : me.reactions.index(r) for r in me.reactions}\n",
    "met_index_dct = {m.id : me.metabolites.index(m) for m in me.metabolites}"
   ]
  },
  {
   "cell_type": "code",
   "execution_count": 34,
   "id": "dd9a2c75-961a-4803-8b0f-05294dc565cf",
   "metadata": {},
   "outputs": [
    {
     "name": "stdout",
     "output_type": "stream",
     "text": [
      "Iteration\t Solution to check\tSolver Status\n",
      "---------\t------------------\t-------------\n",
      "        0\t0.1000000000000000\tOptimal\n",
      "CPU times: user 22.4 s, sys: 30.3 ms, total: 22.4 s\n",
      "Wall time: 22.4 s\n"
     ]
    }
   ],
   "source": [
    "%%time\n",
    "sol,basis = optimize(rxn_index_dct,met_index_dct,nlp,max_mu = 0.1, min_mu = 0., maxIter = 100,\n",
    "\t\ttolerance = 1e-6, precision = 'quad', verbose = True, basis = None)"
   ]
  },
  {
   "cell_type": "code",
   "execution_count": 35,
   "id": "fc612906-5439-40e8-9f6d-e4b2ca581830",
   "metadata": {},
   "outputs": [
    {
     "data": {
      "text/html": [
       "<strong><em>Optimal</em> solution with objective value 0.100</strong><br><div>\n",
       "<style scoped>\n",
       "    .dataframe tbody tr th:only-of-type {\n",
       "        vertical-align: middle;\n",
       "    }\n",
       "\n",
       "    .dataframe tbody tr th {\n",
       "        vertical-align: top;\n",
       "    }\n",
       "\n",
       "    .dataframe thead th {\n",
       "        text-align: right;\n",
       "    }\n",
       "</style>\n",
       "<table border=\"1\" class=\"dataframe\">\n",
       "  <thead>\n",
       "    <tr style=\"text-align: right;\">\n",
       "      <th></th>\n",
       "      <th>fluxes</th>\n",
       "      <th>reduced_costs</th>\n",
       "    </tr>\n",
       "  </thead>\n",
       "  <tbody>\n",
       "    <tr>\n",
       "      <th>biomass_dilution</th>\n",
       "      <td>1.000000e-01</td>\n",
       "      <td>1.403950e-02</td>\n",
       "    </tr>\n",
       "    <tr>\n",
       "      <th>protein_biomass_to_biomass</th>\n",
       "      <td>5.448134e-02</td>\n",
       "      <td>-6.340615e-36</td>\n",
       "    </tr>\n",
       "    <tr>\n",
       "      <th>mRNA_biomass_to_biomass</th>\n",
       "      <td>1.831993e-04</td>\n",
       "      <td>0.000000e+00</td>\n",
       "    </tr>\n",
       "    <tr>\n",
       "      <th>tRNA_biomass_to_biomass</th>\n",
       "      <td>1.105558e-03</td>\n",
       "      <td>0.000000e+00</td>\n",
       "    </tr>\n",
       "    <tr>\n",
       "      <th>rRNA_biomass_to_biomass</th>\n",
       "      <td>7.632764e-03</td>\n",
       "      <td>1.781177e-36</td>\n",
       "    </tr>\n",
       "    <tr>\n",
       "      <th>...</th>\n",
       "      <td>...</td>\n",
       "      <td>...</td>\n",
       "    </tr>\n",
       "    <tr>\n",
       "      <th>TS_for_c</th>\n",
       "      <td>2.773743e-03</td>\n",
       "      <td>0.000000e+00</td>\n",
       "    </tr>\n",
       "    <tr>\n",
       "      <th>TS_cobalt2_c</th>\n",
       "      <td>-6.279887e-07</td>\n",
       "      <td>0.000000e+00</td>\n",
       "    </tr>\n",
       "    <tr>\n",
       "      <th>TS_zn2_c</th>\n",
       "      <td>-2.615265e-07</td>\n",
       "      <td>0.000000e+00</td>\n",
       "    </tr>\n",
       "    <tr>\n",
       "      <th>TS_mn2_c</th>\n",
       "      <td>-8.949355e-08</td>\n",
       "      <td>0.000000e+00</td>\n",
       "    </tr>\n",
       "    <tr>\n",
       "      <th>TS_4fe4s_c</th>\n",
       "      <td>-4.026993e-08</td>\n",
       "      <td>0.000000e+00</td>\n",
       "    </tr>\n",
       "  </tbody>\n",
       "</table>\n",
       "<p>5384 rows × 2 columns</p>\n",
       "</div>"
      ],
      "text/plain": [
       "<Solution 0.100 at 0x7f740d663910>"
      ]
     },
     "execution_count": 35,
     "metadata": {},
     "output_type": "execute_result"
    }
   ],
   "source": [
    "sol"
   ]
  },
  {
   "cell_type": "code",
   "execution_count": 27,
   "id": "c9e34870-b342-4402-9aad-f8b01516fcea",
   "metadata": {},
   "outputs": [
    {
     "data": {
      "text/plain": [
       "True"
      ]
     },
     "execution_count": 27,
     "metadata": {},
     "output_type": "execute_result"
    }
   ],
   "source": [
    "solution"
   ]
  },
  {
   "cell_type": "code",
   "execution_count": 25,
   "id": "40ca7dd7-c63f-42c3-9c91-4605b7f99e2e",
   "metadata": {},
   "outputs": [
    {
     "ename": "KeyError",
     "evalue": "'biomass_dilution'",
     "output_type": "error",
     "traceback": [
      "\u001b[0;31m---------------------------------------------------------------------------\u001b[0m",
      "\u001b[0;31mTypeError\u001b[0m                                 Traceback (most recent call last)",
      "File \u001b[0;32m~/miniforge3/envs/coralme/lib/python3.10/site-packages/optlang/container.py:82\u001b[0m, in \u001b[0;36mContainer.__getitem__\u001b[0;34m(self, item)\u001b[0m\n\u001b[1;32m     81\u001b[0m \u001b[38;5;28;01mtry\u001b[39;00m:\n\u001b[0;32m---> 82\u001b[0m     \u001b[38;5;28;01mreturn\u001b[39;00m \u001b[38;5;28;43mself\u001b[39;49m\u001b[38;5;241;43m.\u001b[39;49m\u001b[43m_object_list\u001b[49m\u001b[43m[\u001b[49m\u001b[43mitem\u001b[49m\u001b[43m]\u001b[49m  \u001b[38;5;66;03m# Try treating item as int or slice\u001b[39;00m\n\u001b[1;32m     83\u001b[0m \u001b[38;5;28;01mexcept\u001b[39;00m \u001b[38;5;167;01mTypeError\u001b[39;00m:  \u001b[38;5;66;03m# Not int or slice\u001b[39;00m\n",
      "\u001b[0;31mTypeError\u001b[0m: list indices must be integers or slices, not str",
      "\nDuring handling of the above exception, another exception occurred:\n",
      "\u001b[0;31mKeyError\u001b[0m                                  Traceback (most recent call last)",
      "Cell \u001b[0;32mIn[25], line 1\u001b[0m\n\u001b[0;32m----> 1\u001b[0m \u001b[43mmodel\u001b[49m\u001b[38;5;241;43m.\u001b[39;49m\u001b[43msummary\u001b[49m\u001b[43m(\u001b[49m\u001b[43m)\u001b[49m\n",
      "File \u001b[0;32m~/miniforge3/envs/coralme/lib/python3.10/site-packages/cobra/core/model.py:1387\u001b[0m, in \u001b[0;36mModel.summary\u001b[0;34m(self, solution, fva)\u001b[0m\n\u001b[1;32m   1360\u001b[0m \u001b[38;5;250m\u001b[39m\u001b[38;5;124;03m\"\"\"\u001b[39;00m\n\u001b[1;32m   1361\u001b[0m \u001b[38;5;124;03mCreate a summary of the exchange fluxes of the model.\u001b[39;00m\n\u001b[1;32m   1362\u001b[0m \n\u001b[0;32m   (...)\u001b[0m\n\u001b[1;32m   1383\u001b[0m \n\u001b[1;32m   1384\u001b[0m \u001b[38;5;124;03m\"\"\"\u001b[39;00m\n\u001b[1;32m   1385\u001b[0m \u001b[38;5;28;01mfrom\u001b[39;00m\u001b[38;5;250m \u001b[39m\u001b[38;5;21;01mcobra\u001b[39;00m\u001b[38;5;21;01m.\u001b[39;00m\u001b[38;5;21;01msummary\u001b[39;00m\u001b[38;5;250m \u001b[39m\u001b[38;5;28;01mimport\u001b[39;00m ModelSummary\n\u001b[0;32m-> 1387\u001b[0m \u001b[38;5;28;01mreturn\u001b[39;00m \u001b[43mModelSummary\u001b[49m\u001b[43m(\u001b[49m\u001b[43mmodel\u001b[49m\u001b[38;5;241;43m=\u001b[39;49m\u001b[38;5;28;43mself\u001b[39;49m\u001b[43m,\u001b[49m\u001b[43m \u001b[49m\u001b[43msolution\u001b[49m\u001b[38;5;241;43m=\u001b[39;49m\u001b[43msolution\u001b[49m\u001b[43m,\u001b[49m\u001b[43m \u001b[49m\u001b[43mfva\u001b[49m\u001b[38;5;241;43m=\u001b[39;49m\u001b[43mfva\u001b[49m\u001b[43m)\u001b[49m\n",
      "File \u001b[0;32m~/miniforge3/envs/coralme/lib/python3.10/site-packages/cobra/summary/model_summary.py:85\u001b[0m, in \u001b[0;36mModelSummary.__init__\u001b[0;34m(self, model, solution, fva, **kwargs)\u001b[0m\n\u001b[1;32m     83\u001b[0m \u001b[38;5;28mself\u001b[39m\u001b[38;5;241m.\u001b[39muptake_flux: Optional[pd\u001b[38;5;241m.\u001b[39mDataFrame] \u001b[38;5;241m=\u001b[39m \u001b[38;5;28;01mNone\u001b[39;00m\n\u001b[1;32m     84\u001b[0m \u001b[38;5;28mself\u001b[39m\u001b[38;5;241m.\u001b[39msecretion_flux: Optional[pd\u001b[38;5;241m.\u001b[39mDataFrame] \u001b[38;5;241m=\u001b[39m \u001b[38;5;28;01mNone\u001b[39;00m\n\u001b[0;32m---> 85\u001b[0m \u001b[38;5;28;43mself\u001b[39;49m\u001b[38;5;241;43m.\u001b[39;49m\u001b[43m_generate\u001b[49m\u001b[43m(\u001b[49m\u001b[43mmodel\u001b[49m\u001b[43m,\u001b[49m\u001b[43m \u001b[49m\u001b[43msolution\u001b[49m\u001b[43m,\u001b[49m\u001b[43m \u001b[49m\u001b[43mfva\u001b[49m\u001b[43m)\u001b[49m\n",
      "File \u001b[0;32m~/miniforge3/envs/coralme/lib/python3.10/site-packages/cobra/summary/model_summary.py:113\u001b[0m, in \u001b[0;36mModelSummary._generate\u001b[0;34m(self, model, solution, fva)\u001b[0m\n\u001b[1;32m     93\u001b[0m \u001b[38;5;250m\u001b[39m\u001b[38;5;124;03m\"\"\"\u001b[39;00m\n\u001b[1;32m     94\u001b[0m \u001b[38;5;124;03mPrepare the data for the summary instance.\u001b[39;00m\n\u001b[1;32m     95\u001b[0m \n\u001b[0;32m   (...)\u001b[0m\n\u001b[1;32m    109\u001b[0m \n\u001b[1;32m    110\u001b[0m \u001b[38;5;124;03m\"\"\"\u001b[39;00m\n\u001b[1;32m    111\u001b[0m \u001b[38;5;28msuper\u001b[39m()\u001b[38;5;241m.\u001b[39m_generate(model\u001b[38;5;241m=\u001b[39mmodel, solution\u001b[38;5;241m=\u001b[39msolution, fva\u001b[38;5;241m=\u001b[39mfva)\n\u001b[0;32m--> 113\u001b[0m coefficients \u001b[38;5;241m=\u001b[39m \u001b[43mlinear_reaction_coefficients\u001b[49m\u001b[43m(\u001b[49m\u001b[43mmodel\u001b[49m\u001b[43m)\u001b[49m\n\u001b[1;32m    114\u001b[0m \u001b[38;5;28;01mif\u001b[39;00m solution \u001b[38;5;129;01mis\u001b[39;00m \u001b[38;5;28;01mNone\u001b[39;00m:\n\u001b[1;32m    115\u001b[0m     logger\u001b[38;5;241m.\u001b[39minfo(\u001b[38;5;124m\"\u001b[39m\u001b[38;5;124mGenerating new parsimonious flux distribution.\u001b[39m\u001b[38;5;124m\"\u001b[39m)\n",
      "File \u001b[0;32m~/miniforge3/envs/coralme/lib/python3.10/site-packages/cobra/util/solver.py:100\u001b[0m, in \u001b[0;36mlinear_reaction_coefficients\u001b[0;34m(model, reactions)\u001b[0m\n\u001b[1;32m     98\u001b[0m     \u001b[38;5;28;01mreturn\u001b[39;00m linear_coefficients\n\u001b[1;32m     99\u001b[0m \u001b[38;5;28;01mfor\u001b[39;00m rxn \u001b[38;5;129;01min\u001b[39;00m reactions:\n\u001b[0;32m--> 100\u001b[0m     forward_coefficient \u001b[38;5;241m=\u001b[39m coefficients\u001b[38;5;241m.\u001b[39mget(\u001b[43mrxn\u001b[49m\u001b[38;5;241;43m.\u001b[39;49m\u001b[43mforward_variable\u001b[49m, \u001b[38;5;241m0\u001b[39m)\n\u001b[1;32m    101\u001b[0m     reverse_coefficient \u001b[38;5;241m=\u001b[39m coefficients\u001b[38;5;241m.\u001b[39mget(rxn\u001b[38;5;241m.\u001b[39mreverse_variable, \u001b[38;5;241m0\u001b[39m)\n\u001b[1;32m    102\u001b[0m     \u001b[38;5;28;01mif\u001b[39;00m forward_coefficient \u001b[38;5;241m!=\u001b[39m \u001b[38;5;241m0\u001b[39m:\n",
      "File \u001b[0;32m~/zuniga/coralme/analysis/../coralme/core/reaction.py:693\u001b[0m, in \u001b[0;36mMEReaction.forward_variable\u001b[0;34m(self)\u001b[0m\n\u001b[1;32m    684\u001b[0m \u001b[38;5;250m\u001b[39m\u001b[38;5;124;03m\"\"\"Get an optlang variable representing the forward flux.\u001b[39;00m\n\u001b[1;32m    685\u001b[0m \n\u001b[1;32m    686\u001b[0m \u001b[38;5;124;03mReturns\u001b[39;00m\n\u001b[0;32m   (...)\u001b[0m\n\u001b[1;32m    690\u001b[0m \u001b[38;5;124;03m\tnot associated with a model.\u001b[39;00m\n\u001b[1;32m    691\u001b[0m \u001b[38;5;124;03m\"\"\"\u001b[39;00m\n\u001b[1;32m    692\u001b[0m \u001b[38;5;28;01mif\u001b[39;00m \u001b[38;5;28mself\u001b[39m\u001b[38;5;241m.\u001b[39mmodel \u001b[38;5;129;01mis\u001b[39;00m \u001b[38;5;129;01mnot\u001b[39;00m \u001b[38;5;28;01mNone\u001b[39;00m:\n\u001b[0;32m--> 693\u001b[0m \t\u001b[38;5;28;01mreturn\u001b[39;00m \u001b[38;5;28;43mself\u001b[39;49m\u001b[38;5;241;43m.\u001b[39;49m\u001b[43mmodel\u001b[49m\u001b[38;5;241;43m.\u001b[39;49m\u001b[43mvariables\u001b[49m\u001b[43m[\u001b[49m\u001b[38;5;28;43mself\u001b[39;49m\u001b[38;5;241;43m.\u001b[39;49m\u001b[43mid\u001b[49m\u001b[43m]\u001b[49m\n\u001b[1;32m    694\u001b[0m \u001b[38;5;28;01melse\u001b[39;00m:\n\u001b[1;32m    695\u001b[0m \t\u001b[38;5;28;01mreturn\u001b[39;00m \u001b[38;5;28;01mNone\u001b[39;00m\n",
      "File \u001b[0;32m~/miniforge3/envs/coralme/lib/python3.10/site-packages/optlang/container.py:84\u001b[0m, in \u001b[0;36mContainer.__getitem__\u001b[0;34m(self, item)\u001b[0m\n\u001b[1;32m     82\u001b[0m     \u001b[38;5;28;01mreturn\u001b[39;00m \u001b[38;5;28mself\u001b[39m\u001b[38;5;241m.\u001b[39m_object_list[item]  \u001b[38;5;66;03m# Try treating item as int or slice\u001b[39;00m\n\u001b[1;32m     83\u001b[0m \u001b[38;5;28;01mexcept\u001b[39;00m \u001b[38;5;167;01mTypeError\u001b[39;00m:  \u001b[38;5;66;03m# Not int or slice\u001b[39;00m\n\u001b[0;32m---> 84\u001b[0m     \u001b[38;5;28;01mreturn\u001b[39;00m \u001b[38;5;28;43mself\u001b[39;49m\u001b[38;5;241;43m.\u001b[39;49m\u001b[43m_dict\u001b[49m\u001b[43m[\u001b[49m\u001b[43mitem\u001b[49m\u001b[43m]\u001b[49m\n",
      "\u001b[0;31mKeyError\u001b[0m: 'biomass_dilution'"
     ]
    }
   ],
   "source": [
    "model.summary()"
   ]
  },
  {
   "cell_type": "code",
   "execution_count": null,
   "id": "dcf2d351-636a-401b-aa49-2a572ebde9b0",
   "metadata": {},
   "outputs": [],
   "source": []
  }
 ],
 "metadata": {
  "kernelspec": {
   "display_name": "Python 3 (ipykernel)",
   "language": "python",
   "name": "python3"
  },
  "language_info": {
   "codemirror_mode": {
    "name": "ipython",
    "version": 3
   },
   "file_extension": ".py",
   "mimetype": "text/x-python",
   "name": "python",
   "nbconvert_exporter": "python",
   "pygments_lexer": "ipython3",
   "version": "3.10.16"
  }
 },
 "nbformat": 4,
 "nbformat_minor": 5
}
