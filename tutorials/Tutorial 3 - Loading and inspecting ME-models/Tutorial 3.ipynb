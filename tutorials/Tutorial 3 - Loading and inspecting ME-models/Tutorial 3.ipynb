{
 "cells": [
  {
   "cell_type": "markdown",
   "id": "fb270ec2-29da-4100-9485-39da5cce1663",
   "metadata": {},
   "source": [
    "# Tutorial 3: Loading and inspecting ME-models\n",
    "\n",
    "In this tutorial we will load and inspect the reconstructed _Bacillus subtilis_ ME-model."
   ]
  },
  {
   "cell_type": "markdown",
   "id": "d37fa4bb-3c8f-4a62-923c-6c1747ebb652",
   "metadata": {},
   "source": [
    "## Import libraries"
   ]
  },
  {
   "cell_type": "code",
   "execution_count": 1,
   "id": "d048f35f-6a3b-4642-86cd-49e4c4e4a187",
   "metadata": {
    "ExecuteTime": {
     "end_time": "2022-12-12T06:27:35.182100Z",
     "start_time": "2022-12-12T06:27:35.157355Z"
    }
   },
   "outputs": [],
   "source": [
    "import sys\n",
    "sys.path.insert(0, '../../')\n",
    "from coralme.builder.main import MEBuilder\n",
    "import coralme"
   ]
  },
  {
   "cell_type": "markdown",
   "id": "051e8ee6-15ba-4017-8fc0-5f54da314cd8",
   "metadata": {},
   "source": [
    "## Load"
   ]
  },
  {
   "cell_type": "markdown",
   "id": "77a83a0a-a0b6-4b74-b0b8-9331a34162d7",
   "metadata": {},
   "source": [
    "Load the ME-model coming out of the Troubleshooter"
   ]
  },
  {
   "cell_type": "code",
   "execution_count": 2,
   "id": "4757b952-93f2-446b-ba26-967e1698e07f",
   "metadata": {},
   "outputs": [],
   "source": [
    "#me = coralme.io.json.load_json_me_model(\"MEModel-step3-bsubtilis-TS.json\")\n",
    "me = coralme.io.pickle.load_pickle_me_model('../../Zymomonas_mobilis/./outputs/MEModel-step3-zymomonas-TS.pkl')"
   ]
  },
  {
   "cell_type": "markdown",
   "id": "66554f57-e2e9-4c76-a0e4-f16f8d151874",
   "metadata": {},
   "source": [
    "## Solve"
   ]
  },
  {
   "cell_type": "code",
   "execution_count": 3,
   "id": "cad55474-5c9a-46ea-9305-79ea2d44df66",
   "metadata": {},
   "outputs": [
    {
     "name": "stdout",
     "output_type": "stream",
     "text": [
      "Iteration\t Solution to check\tSolver Status\n",
      "---------\t------------------\t-------------\n",
      "        1\t1.4050280687025918\tNot feasible\n",
      "        2\t0.7025140343512959\tNot feasible\n",
      "        3\t0.3512570171756479\tOptimal\n",
      "        4\t0.5268855257634719\tNot feasible\n",
      "        5\t0.4390712714695599\tOptimal\n",
      "        6\t0.4829783986165159\tOptimal\n",
      "        7\t0.5049319621899939\tNot feasible\n",
      "        8\t0.4939551804032549\tNot feasible\n",
      "        9\t0.4884667895098854\tNot feasible\n",
      "       10\t0.4857225940632007\tNot feasible\n",
      "       11\t0.4843504963398583\tNot feasible\n",
      "       12\t0.4836644474781871\tOptimal\n",
      "       13\t0.4840074719090227\tNot feasible\n",
      "       14\t0.4838359596936049\tOptimal\n",
      "       15\t0.4839217158013138\tOptimal\n",
      "       16\t0.4839645938551683\tNot feasible\n",
      "       17\t0.4839431548282410\tNot feasible\n",
      "       18\t0.4839324353147774\tNot feasible\n",
      "       19\t0.4839270755580456\tNot feasible\n",
      "       20\t0.4839243956796797\tNot feasible\n",
      "       21\t0.4839230557404968\tOptimal\n",
      "       22\t0.4839237257100882\tOptimal\n"
     ]
    },
    {
     "data": {
      "text/plain": [
       "True"
      ]
     },
     "execution_count": 3,
     "metadata": {},
     "output_type": "execute_result"
    }
   ],
   "source": [
    "me.optimize()"
   ]
  },
  {
   "cell_type": "markdown",
   "id": "b8874ac5-e7a4-473b-80e5-5b3bca962fe5",
   "metadata": {},
   "source": [
    "## Inspecting ME-model properties"
   ]
  },
  {
   "cell_type": "markdown",
   "id": "caca0f28-cbf2-437e-b2ef-9af6bee233ff",
   "metadata": {},
   "source": [
    "### Summary of the ME-model"
   ]
  },
  {
   "cell_type": "code",
   "execution_count": 4,
   "id": "a6c4835c-97d5-4583-8ccd-cec067baa26e",
   "metadata": {},
   "outputs": [
    {
     "data": {
      "text/html": [
       "\n",
       "        <table>\n",
       "            <tr>\n",
       "                <td><strong>Name</strong></td>\n",
       "                <td>zymomonas</td>\n",
       "            </tr><tr>\n",
       "                <td><strong>Memory address</strong></td>\n",
       "                <td>7f201a36bfa0</td>\n",
       "            </tr><tr>\n",
       "                <td><strong>Number of metabolites</strong></td>\n",
       "                <td>3138</td>\n",
       "            </tr><tr>\n",
       "                <td><strong>Number of reactions</strong></td>\n",
       "                <td>5384</td>\n",
       "            </tr><tr>\n",
       "                <td><strong>Number of genes</strong></td>\n",
       "                <td>0</td>\n",
       "            </tr><tr>\n",
       "                <td><strong>Number of groups</strong></td>\n",
       "                <td>0</td>\n",
       "            </tr><tr>\n",
       "                <td><strong>Objective expression</strong></td>\n",
       "                <td>0</td>\n",
       "            </tr><tr>\n",
       "                <td><strong>Compartments</strong></td>\n",
       "                <td>ME-model Constraint, Extracellular, Cytoplasm, Periplasm, m, im</td>\n",
       "            </tr>\n",
       "          </table>"
      ],
      "text/plain": [
       "<MEModel zymomonas at 0x7f201a36bfa0>"
      ]
     },
     "execution_count": 4,
     "metadata": {},
     "output_type": "execute_result"
    }
   ],
   "source": [
    "me"
   ]
  },
  {
   "cell_type": "code",
   "execution_count": 5,
   "id": "bf36850f-1484-4f61-a501-8d3356fa3f31",
   "metadata": {},
   "outputs": [
    {
     "name": "stdout",
     "output_type": "stream",
     "text": [
      "ME-model has 5384 reactions\n"
     ]
    }
   ],
   "source": [
    "print(\"ME-model has {} reactions\".format(len(me.reactions)))"
   ]
  },
  {
   "cell_type": "code",
   "execution_count": 6,
   "id": "78545e33-afe5-4b86-87b1-6236cbb8d4f0",
   "metadata": {},
   "outputs": [
    {
     "name": "stdout",
     "output_type": "stream",
     "text": [
      "ME-model has 3138 metabolites\n"
     ]
    }
   ],
   "source": [
    "print(\"ME-model has {} metabolites\".format(len(me.metabolites)))"
   ]
  },
  {
   "cell_type": "code",
   "execution_count": 7,
   "id": "b49bbb17-4e2a-4b62-bad7-51a4322557e6",
   "metadata": {},
   "outputs": [
    {
     "name": "stdout",
     "output_type": "stream",
     "text": [
      "ME-model has 786 genes\n"
     ]
    }
   ],
   "source": [
    "print(\"ME-model has {} genes\".format(len(me.all_genes)))"
   ]
  },
  {
   "cell_type": "markdown",
   "id": "3d86778d-1cee-400e-89d4-9c3503a44288",
   "metadata": {},
   "source": [
    "### Reactions"
   ]
  },
  {
   "cell_type": "markdown",
   "id": "6ec98d84-41ca-4c08-bd6f-3b9815c01795",
   "metadata": {},
   "source": [
    "#### Metabolic reaction"
   ]
  },
  {
   "cell_type": "code",
   "execution_count": 8,
   "id": "4aa94f07-6bef-4df1-884e-ea9463e164e7",
   "metadata": {},
   "outputs": [
    {
     "data": {
      "text/html": [
       "\n",
       "\t\t<table>\n",
       "\t\t\t<tr><td><strong>Reaction identifier</strong></td><td>2DGLCNR_REV_ZMO0788-MONOMER</td></tr>\n",
       "\t\t\t<tr><td><strong>Name</strong></td><td></td></tr>\n",
       "\t\t\t<tr><td><strong>Memory address</strong></td><td>0x7f1f596716f0</td></tr>\n",
       "\t\t\t<tr><td><strong>Stoichiometry</strong>\n",
       "\t\t\t</td><td>\n",
       "\t\t\t\t<p style='text-align:right'>1.0 2dhglcn_c + [3.03273559895468e-6*mu1] ZMO0788-MONOMER + 1.0 h_c + 1.0 nadh_c --> 1.0 glcn_c + 1.0 nad_c</p>\n",
       "\t\t\t\t<p style='text-align:right'>1.0 2-Dehydro-D-gluconate + [3.03273559895468e-6*mu1] ZMO0788-MONOMER + 1.0 H+ + 1.0 Nicotinamide adenine dinucleotide - reduced --> 1.0 D-Gluconate + 1.0 Nicotinamide adenine dinucleotide</p>\n",
       "\t\t\t</td></tr>\n",
       "\t\t\t<tr><td><strong>GPR</strong></td><td></td></tr>\n",
       "\t\t\t<tr><td><strong>Lower bound</strong></td><td>0</td></tr>\n",
       "\t\t\t<tr><td><strong>Upper bound</strong></td><td>0</td></tr>\n",
       "\t\t\t<tr><td><strong>Reaction type</strong></td><td>coralme.core.reaction.MetabolicReaction</td></tr>\n",
       "\t\t\t<tr><td><strong>Flux</strong></td><td>0 ($\\mu$= 0.483924)</td></tr>\n",
       "\t\t\t<tr><td><strong>Reduced cost</strong></td><td>5.77503e-06 ($\\mu$= 0.483924)</td></tr>\n",
       "\t\t\t<tr><td><strong>Bound violation</strong></td><td>False</td></tr>\n",
       "\t\t</table>\n",
       "\t\t"
      ],
      "text/plain": [
       "<MetabolicReaction 2DGLCNR_REV_ZMO0788-MONOMER at 0x7f1f596716f0>"
      ]
     },
     "execution_count": 8,
     "metadata": {},
     "output_type": "execute_result"
    }
   ],
   "source": [
    "r = next(i for i in me.reactions if isinstance(i,coralme.core.reaction.MetabolicReaction))\n",
    "r"
   ]
  },
  {
   "cell_type": "markdown",
   "id": "4317c596-0f55-438c-b0da-6a98b6fff590",
   "metadata": {},
   "source": [
    "#### Translation reaction"
   ]
  },
  {
   "cell_type": "code",
   "execution_count": 9,
   "id": "795539fb-e1b3-489b-8ea2-3e5efd200435",
   "metadata": {},
   "outputs": [
    {
     "data": {
      "text/html": [
       "\n",
       "\t\t<table>\n",
       "\t\t\t<tr><td><strong>Reaction identifier</strong></td><td>translation_ZMO0003</td></tr>\n",
       "\t\t\t<tr><td><strong>Name</strong></td><td></td></tr>\n",
       "\t\t\t<tr><td><strong>Memory address</strong></td><td>0x7f1f5b358d30</td></tr>\n",
       "\t\t\t<tr><td><strong>Stoichiometry</strong>\n",
       "\t\t\t</td><td>\n",
       "\t\t\t\t<p style='text-align:right'>1.0 10fthf_c + [0.000893162393162393*mu1] EWS79_RS02225-MONOMER + [8.54700854700855e-6*mu1] EWS79_RS02435-MONOMER + [4.27350427350427e-6*mu1] EWS79_RS03285-MONOMER + [4.27350427350427e-6*mu1] EWS79_RS03585-MONOMER_mod_mg2(1)_mod_k(1) + [0.000498399634202103*mu1 + 0.000195123456790123 + 0.00598079561042524*(mu1 + 0.3915)/mu1] RNA_ZMO0003 + [2.55589556001079e-8*mu1 + 1.00063311174422e-8] RNA_degradosome + [4.27350427350427e-6*mu1] ZMO0813-MONOMER_mod_fe2(1) + [4.27350427350427e-6*mu1] ZMO1014-MONOMER + [4.27350427350427e-6*mu1] ZMO1153-MONOMER + [0.000893162393162393*mu1] ZMO1155-MONOMER + [4.27350427350427e-6*mu1] ZMO1348-MONOMER_mod_fe2(2) + [4.27350427350427e-6*mu1] ZMO1906-MONOMER + 17 ala__L_c + 13 arg__L_c + 8 asn__L_c + 15 asp__L_c + [209.0 + 0.944965706447188*(mu1 + 0.3915)/mu1] atp_c + 2 cys__L_c + [4.27350427350427e-6*mu1] generic_RF + [0.000893162393162393*mu1] generic_Tuf + 9.0 generic_tRNA_AAA_lys__L_c + 2.0 generic_tRNA_AAC_asn__L_c + 3.0 generic_tRNA_AAG_lys__L_c + 6.0...</p>\n",
       "\t\t\t\t<p style='text-align:right'>1.0 10-Formyltetrahydrofolate + [0.000893162393162393*mu1] EWS79_RS02225-MONOMER + [8.54700854700855e-6*mu1] EWS79_RS02435-MONOMER + [4.27350427350427e-6*mu1] EWS79_RS03285-MONOMER + [4.27350427350427e-6*mu1] EWS79_RS03585-MONOMER_mod_mg2(1)_mod_k(1) + [0.000498399634202103*mu1 + 0.000195123456790123 + 0.00598079561042524*(mu1 + 0.3915)/mu1] RNA_ZMO0003 + [2.55589556001079e-8*mu1 + 1.00063311174422e-8] RNA_degradosome + [4.27350427350427e-6*mu1] ZMO0813-MONOMER_mod_fe2(1) + [4.27350427350427e-6*mu1] ZMO1014-MONOMER + [4.27350427350427e-6*mu1] ZMO1153-MONOMER + [0.000893162393162393*mu1] ZMO1155-MONOMER + [4.27350427350427e-6*mu1] ZMO1348-MONOMER_mod_fe2(2) + [4.27350427350427e-6*mu1] ZMO1906-MONOMER + 17 L-Alanine + 13 L-Arginine + 8 L-Asparagine + 15 L-Aspartate + [209.0 + 0.944965706447188*(mu1 + 0.3915)/mu1] ATP + 2 L-Cysteine + [4.27350427350427e-6*mu1] generic_RF + [0.000893162393162393*mu1] generic_Tuf + 9.0 generic_tRNA_AAA_lys__L_c + 2.0 generic_tRNA_AAC_asn__L_c + 3.0...</p>\n",
       "\t\t\t</td></tr>\n",
       "\t\t\t<tr><td><strong>GPR</strong></td><td></td></tr>\n",
       "\t\t\t<tr><td><strong>Lower bound</strong></td><td>0.0</td></tr>\n",
       "\t\t\t<tr><td><strong>Upper bound</strong></td><td>1000.0</td></tr>\n",
       "\t\t\t<tr><td><strong>Reaction type</strong></td><td>coralme.core.reaction.TranslationReaction</td></tr>\n",
       "\t\t\t<tr><td><strong>Flux</strong></td><td>3.78369e-07 ($\\mu$= 0.483924)</td></tr>\n",
       "\t\t\t<tr><td><strong>Reduced cost</strong></td><td>-1.56839e-32 ($\\mu$= 0.483924)</td></tr>\n",
       "\t\t\t<tr><td><strong>Bound violation</strong></td><td>False</td></tr>\n",
       "\t\t</table>\n",
       "\t\t"
      ],
      "text/plain": [
       "<TranslationReaction translation_ZMO0003 at 0x7f1f5b358d30>"
      ]
     },
     "execution_count": 9,
     "metadata": {},
     "output_type": "execute_result"
    }
   ],
   "source": [
    "r = next(i for i in me.reactions if isinstance(i,coralme.core.reaction.TranslationReaction))\n",
    "r"
   ]
  },
  {
   "cell_type": "markdown",
   "id": "41b5c71b-c4b4-4bf8-a411-d35c7edf14ed",
   "metadata": {},
   "source": [
    "#### Transcription reaction"
   ]
  },
  {
   "cell_type": "code",
   "execution_count": 10,
   "id": "18f8b2c0-1880-4b74-8330-73d82834888b",
   "metadata": {},
   "outputs": [
    {
     "data": {
      "text/html": [
       "\n",
       "\t\t<table>\n",
       "\t\t\t<tr><td><strong>Reaction identifier</strong></td><td>transcription_TU1W2W-996_from_EWS79_RS07230-MONOMER</td></tr>\n",
       "\t\t\t<tr><td><strong>Name</strong></td><td></td></tr>\n",
       "\t\t\t<tr><td><strong>Memory address</strong></td><td>0x7f1f5b531090</td></tr>\n",
       "\t\t\t<tr><td><strong>Stoichiometry</strong>\n",
       "\t\t\t</td><td>\n",
       "\t\t\t\t<p style='text-align:right'>[4.27350427350427e-6*mu1] EWS79_RS07350-MONOMER_mod_mg2(1) + [4.27350427350427e-6*mu1] EWS79_RS09045-MONOMER_mod_mg2(3) + [0.0133617312839336*mu1 + 0.00523111779766001] RNAP_EWS79RS07230MONOMER + [8.54700854700855e-6*mu1] RNA_degradosome + [4.27350427350427e-6*mu1] ZMO0517-MONOMER + [4.27350427350427e-6*mu1] ZMO0518-MONOMER + [4.27350427350427e-6*mu1] ZMO0556-MONOMER + [4.27350427350427e-6*mu1] ZMO0718-MONOMER + [4.27350427350427e-6*mu1] ZMO0724-MONOMER + [4.27350427350427e-6*mu1] ZMO0884-MONOMER + [4.27350427350427e-6*mu1] ZMO1366-MONOMER + [4.27350427350427e-6*mu1] ZMO1552-MONOMER + [4.27350427350427e-6*mu1] ZMO1615-MONOMER + [4.27350427350427e-6*mu1] ZMO1720-MONOMER_mod_mg2(1) + [4.27350427350427e-6*mu1] ZMO2003-MONOMER + 755.0 atp_c + 227 cmp_c + 606 ctp_c + 833 gtp_c + 3.0 h2o_c + [8.54700854700855e-6*mu1] rRNA_containing_excision_machinery + 147 ump_c + 605 utp_c --> 1.0 RNA_EWS79_RS08395 + 3.0 adp_c + 147 amp_c + 227 gmp_c + 3.0 h_c + 3.0 pi_c + 2796 ppi_c + 889.9986372159999...</p>\n",
       "\t\t\t\t<p style='text-align:right'>[4.27350427350427e-6*mu1] EWS79_RS07350-MONOMER_mod_mg2(1) + [4.27350427350427e-6*mu1] EWS79_RS09045-MONOMER_mod_mg2(3) + [0.0133617312839336*mu1 + 0.00523111779766001] RNAP_EWS79RS07230MONOMER + [8.54700854700855e-6*mu1] RNA_degradosome + [4.27350427350427e-6*mu1] ZMO0517-MONOMER + [4.27350427350427e-6*mu1] ZMO0518-MONOMER + [4.27350427350427e-6*mu1] ZMO0556-MONOMER + [4.27350427350427e-6*mu1] ZMO0718-MONOMER + [4.27350427350427e-6*mu1] ZMO0724-MONOMER + [4.27350427350427e-6*mu1] ZMO0884-MONOMER + [4.27350427350427e-6*mu1] ZMO1366-MONOMER + [4.27350427350427e-6*mu1] ZMO1552-MONOMER + [4.27350427350427e-6*mu1] ZMO1615-MONOMER + [4.27350427350427e-6*mu1] ZMO1720-MONOMER_mod_mg2(1) + [4.27350427350427e-6*mu1] ZMO2003-MONOMER + 755.0 ATP + 227 CMP + 606 CTP + 833 GTP + 3.0 H2O + [8.54700854700855e-6*mu1] rRNA_containing_excision_machinery + 147 UMP + 605 UTP --> 1.0 RNA_EWS79_RS08395 + 3.0 ADP + 147 AMP + 227 GMP + 3.0 H+ + 3.0 Phosphate + 2796 Diphosphate + 889.9986372159999 rRNA_biomass</p>\n",
       "\t\t\t</td></tr>\n",
       "\t\t\t<tr><td><strong>GPR</strong></td><td></td></tr>\n",
       "\t\t\t<tr><td><strong>Lower bound</strong></td><td>0.0</td></tr>\n",
       "\t\t\t<tr><td><strong>Upper bound</strong></td><td>1000.0</td></tr>\n",
       "\t\t\t<tr><td><strong>Reaction type</strong></td><td>coralme.core.reaction.TranscriptionReaction</td></tr>\n",
       "\t\t\t<tr><td><strong>Flux</strong></td><td>0 ($\\mu$= 0.483924)</td></tr>\n",
       "\t\t\t<tr><td><strong>Reduced cost</strong></td><td>-0.194907 ($\\mu$= 0.483924)</td></tr>\n",
       "\t\t\t<tr><td><strong>Bound violation</strong></td><td>False</td></tr>\n",
       "\t\t</table>\n",
       "\t\t"
      ],
      "text/plain": [
       "<TranscriptionReaction transcription_TU1W2W-996_from_EWS79_RS07230-MONOMER at 0x7f1f5b531090>"
      ]
     },
     "execution_count": 10,
     "metadata": {},
     "output_type": "execute_result"
    }
   ],
   "source": [
    "r = next(i for i in me.reactions if isinstance(i,coralme.core.reaction.TranscriptionReaction))\n",
    "r"
   ]
  },
  {
   "cell_type": "markdown",
   "id": "20aa4477-0812-4847-a821-298f192e4422",
   "metadata": {},
   "source": [
    "#### Formation reaction"
   ]
  },
  {
   "cell_type": "code",
   "execution_count": 11,
   "id": "f6ff8a2f-db4f-42de-9aa7-81ccec048f32",
   "metadata": {},
   "outputs": [
    {
     "data": {
      "text/html": [
       "\n",
       "\t\t<table>\n",
       "\t\t\t<tr><td><strong>Reaction identifier</strong></td><td>formation_CPLX1W2W-3</td></tr>\n",
       "\t\t\t<tr><td><strong>Name</strong></td><td></td></tr>\n",
       "\t\t\t<tr><td><strong>Memory address</strong></td><td>0x7f1f5983eef0</td></tr>\n",
       "\t\t\t<tr><td><strong>Stoichiometry</strong>\n",
       "\t\t\t</td><td>\n",
       "\t\t\t\t<p style='text-align:right'>1.0 protein_EWS79_RS06430 + 1.0 protein_EWS79_RS06435 --> 1.0 CPLX1W2W-3</p>\n",
       "\t\t\t\t<p style='text-align:right'>1.0 protein_EWS79_RS06430 + 1.0 protein_EWS79_RS06435 --> 1.0 CPLX1W2W-3</p>\n",
       "\t\t\t</td></tr>\n",
       "\t\t\t<tr><td><strong>GPR</strong></td><td></td></tr>\n",
       "\t\t\t<tr><td><strong>Lower bound</strong></td><td>0.0</td></tr>\n",
       "\t\t\t<tr><td><strong>Upper bound</strong></td><td>1000.0</td></tr>\n",
       "\t\t\t<tr><td><strong>Reaction type</strong></td><td>coralme.core.reaction.ComplexFormation</td></tr>\n",
       "\t\t\t<tr><td><strong>Flux</strong></td><td>5.6817e-07 ($\\mu$= 0.483924)</td></tr>\n",
       "\t\t\t<tr><td><strong>Reduced cost</strong></td><td>7.26009e-34 ($\\mu$= 0.483924)</td></tr>\n",
       "\t\t\t<tr><td><strong>Bound violation</strong></td><td>False</td></tr>\n",
       "\t\t</table>\n",
       "\t\t"
      ],
      "text/plain": [
       "<ComplexFormation formation_CPLX1W2W-3 at 0x7f1f5983eef0>"
      ]
     },
     "execution_count": 11,
     "metadata": {},
     "output_type": "execute_result"
    }
   ],
   "source": [
    "r = next(i for i in me.reactions if isinstance(i,coralme.core.reaction.ComplexFormation))\n",
    "r"
   ]
  },
  {
   "cell_type": "markdown",
   "id": "76375a81-5b21-4cb5-8ce7-b0f71f4d1633",
   "metadata": {},
   "source": [
    "#### tRNA Charging reaction"
   ]
  },
  {
   "cell_type": "code",
   "execution_count": 12,
   "id": "51ed8187-c1e9-4f74-a0f6-b8b1c18c712e",
   "metadata": {},
   "outputs": [
    {
     "data": {
      "text/html": [
       "\n",
       "\t\t<table>\n",
       "\t\t\t<tr><td><strong>Reaction identifier</strong></td><td>charging_tRNA_ZMOt001_UGU</td></tr>\n",
       "\t\t\t<tr><td><strong>Name</strong></td><td></td></tr>\n",
       "\t\t\t<tr><td><strong>Memory address</strong></td><td>0x7f1f59bf0100</td></tr>\n",
       "\t\t\t<tr><td><strong>Stoichiometry</strong>\n",
       "\t\t\t</td><td>\n",
       "\t\t\t\t<p style='text-align:right'>[0.000116266666666667*mu1 + 4.55184e-5] RNA_ZMOt001 + [0.000116266666666667*mu1 + 4.55184e-5] cys__L_c + [4.27350427350427e-6*mu1*(0.000116266666666667*mu1 + 1.0000455184)] generic_cys_ligase --> 1.0 generic_tRNA_UGU_cys__L_c</p>\n",
       "\t\t\t\t<p style='text-align:right'>[0.000116266666666667*mu1 + 4.55184e-5] RNA_ZMOt001 + [0.000116266666666667*mu1 + 4.55184e-5] L-Cysteine + [4.27350427350427e-6*mu1*(0.000116266666666667*mu1 + 1.0000455184)] generic_cys_ligase --> 1.0 generic_tRNA_UGU_cys__L_c</p>\n",
       "\t\t\t</td></tr>\n",
       "\t\t\t<tr><td><strong>GPR</strong></td><td></td></tr>\n",
       "\t\t\t<tr><td><strong>Lower bound</strong></td><td>0.0</td></tr>\n",
       "\t\t\t<tr><td><strong>Upper bound</strong></td><td>1000.0</td></tr>\n",
       "\t\t\t<tr><td><strong>Reaction type</strong></td><td>coralme.core.reaction.tRNAChargingReaction</td></tr>\n",
       "\t\t\t<tr><td><strong>Flux</strong></td><td>0.0108095 ($\\mu$= 0.483924)</td></tr>\n",
       "\t\t\t<tr><td><strong>Reduced cost</strong></td><td>-2.0401e-37 ($\\mu$= 0.483924)</td></tr>\n",
       "\t\t\t<tr><td><strong>Bound violation</strong></td><td>False</td></tr>\n",
       "\t\t</table>\n",
       "\t\t"
      ],
      "text/plain": [
       "<tRNAChargingReaction charging_tRNA_ZMOt001_UGU at 0x7f1f59bf0100>"
      ]
     },
     "execution_count": 12,
     "metadata": {},
     "output_type": "execute_result"
    }
   ],
   "source": [
    "r = next(i for i in me.reactions if isinstance(i,coralme.core.reaction.tRNAChargingReaction))\n",
    "r"
   ]
  },
  {
   "cell_type": "markdown",
   "id": "e679e38e-a30e-4ba7-b52e-055b98f5bf1a",
   "metadata": {},
   "source": [
    "#### Post-translational modification reaction"
   ]
  },
  {
   "cell_type": "code",
   "execution_count": 13,
   "id": "6e50059c-3399-41cd-b262-42107adeea12",
   "metadata": {},
   "outputs": [
    {
     "data": {
      "text/html": [
       "\n",
       "\t\t<table>\n",
       "\t\t\t<tr><td><strong>Reaction identifier</strong></td><td>translocation_ZMO0969_Inner_Membrane</td></tr>\n",
       "\t\t\t<tr><td><strong>Name</strong></td><td></td></tr>\n",
       "\t\t\t<tr><td><strong>Memory address</strong></td><td>0x7f1f58f6b2b0</td></tr>\n",
       "\t\t\t<tr><td><strong>Stoichiometry</strong>\n",
       "\t\t\t</td><td>\n",
       "\t\t\t\t<p style='text-align:right'>[0.006125*mu1] ZMO1070-MONOMER + 2.0 gtp_c + 2.0 h2o_c + 1.0 protein_ZMO0969 --> 2.0 gdp_c + 2.0 h_c + 2.0 pi_c + 1.0 protein_ZMO0969_Inner_Membrane</p>\n",
       "\t\t\t\t<p style='text-align:right'>[0.006125*mu1] ZMO1070-MONOMER + 2.0 GTP + 2.0 H2O + 1.0 protein_ZMO0969 --> 2.0 GDP + 2.0 H+ + 2.0 Phosphate + 1.0 protein_ZMO0969_Inner_Membrane</p>\n",
       "\t\t\t</td></tr>\n",
       "\t\t\t<tr><td><strong>GPR</strong></td><td></td></tr>\n",
       "\t\t\t<tr><td><strong>Lower bound</strong></td><td>0.0</td></tr>\n",
       "\t\t\t<tr><td><strong>Upper bound</strong></td><td>1000.0</td></tr>\n",
       "\t\t\t<tr><td><strong>Reaction type</strong></td><td>coralme.core.reaction.PostTranslationReaction</td></tr>\n",
       "\t\t\t<tr><td><strong>Flux</strong></td><td>0 ($\\mu$= 0.483924)</td></tr>\n",
       "\t\t\t<tr><td><strong>Reduced cost</strong></td><td>0 ($\\mu$= 0.483924)</td></tr>\n",
       "\t\t\t<tr><td><strong>Bound violation</strong></td><td>False</td></tr>\n",
       "\t\t</table>\n",
       "\t\t"
      ],
      "text/plain": [
       "<PostTranslationReaction translocation_ZMO0969_Inner_Membrane at 0x7f1f58f6b2b0>"
      ]
     },
     "execution_count": 13,
     "metadata": {},
     "output_type": "execute_result"
    }
   ],
   "source": [
    "r = next(i for i in me.reactions if isinstance(i,coralme.core.reaction.PostTranslationReaction))\n",
    "r"
   ]
  },
  {
   "cell_type": "markdown",
   "id": "81bff06d-8661-4cac-96a6-abe5c21a606e",
   "metadata": {},
   "source": [
    "### Mapped gene functions"
   ]
  },
  {
   "cell_type": "code",
   "execution_count": 14,
   "id": "4d80e172-b737-42bd-b513-0e7ec54e791f",
   "metadata": {
    "tags": []
   },
   "outputs": [
    {
     "data": {
      "text/html": [
       "<div>\n",
       "<style scoped>\n",
       "    .dataframe tbody tr th:only-of-type {\n",
       "        vertical-align: middle;\n",
       "    }\n",
       "\n",
       "    .dataframe tbody tr th {\n",
       "        vertical-align: top;\n",
       "    }\n",
       "\n",
       "    .dataframe thead th {\n",
       "        text-align: right;\n",
       "    }\n",
       "</style>\n",
       "<table border=\"1\" class=\"dataframe\">\n",
       "  <thead>\n",
       "    <tr style=\"text-align: right;\">\n",
       "      <th></th>\n",
       "      <th>count</th>\n",
       "    </tr>\n",
       "  </thead>\n",
       "  <tbody>\n",
       "    <tr>\n",
       "      <th>Metabolic: No subsystem</th>\n",
       "      <td>497</td>\n",
       "    </tr>\n",
       "    <tr>\n",
       "      <th>Post-translation</th>\n",
       "      <td>4</td>\n",
       "    </tr>\n",
       "    <tr>\n",
       "      <th>Transcription</th>\n",
       "      <td>22</td>\n",
       "    </tr>\n",
       "    <tr>\n",
       "      <th>Translation</th>\n",
       "      <td>265</td>\n",
       "    </tr>\n",
       "    <tr>\n",
       "      <th>tRNA-Charging</th>\n",
       "      <td>145</td>\n",
       "    </tr>\n",
       "  </tbody>\n",
       "</table>\n",
       "</div>"
      ],
      "text/plain": [
       "                         count\n",
       "Metabolic: No subsystem    497\n",
       "Post-translation             4\n",
       "Transcription               22\n",
       "Translation                265\n",
       "tRNA-Charging              145"
      ]
     },
     "execution_count": 14,
     "metadata": {},
     "output_type": "execute_result"
    }
   ],
   "source": [
    "from collections import defaultdict\n",
    "import pandas\n",
    "d = defaultdict(int)\n",
    "for g in me.all_genes:\n",
    "    for f in g.functions:\n",
    "        d[f] += 1\n",
    "pandas.DataFrame.from_dict({\"count\":d})"
   ]
  },
  {
   "cell_type": "markdown",
   "id": "65a23350-93b7-4906-8d37-ca9df6bb4789",
   "metadata": {},
   "source": [
    "#### Inspecting functions of a gene"
   ]
  },
  {
   "cell_type": "code",
   "execution_count": 15,
   "id": "a00a0fc0-43fe-4bb9-bf82-cfa4f3fb37c6",
   "metadata": {},
   "outputs": [],
   "source": [
    "#g = me.all_genes.get_by_id(\"RNA_BSU37160\")\n",
    "#g.functions"
   ]
  },
  {
   "cell_type": "markdown",
   "id": "d9bb3773-92ef-4246-955e-e115df91fe8a",
   "metadata": {},
   "source": [
    "### Complexes formed by a gene"
   ]
  },
  {
   "cell_type": "code",
   "execution_count": 16,
   "id": "f46a78f0-dec4-4962-8b58-b0366beeca66",
   "metadata": {},
   "outputs": [],
   "source": [
    "#g = me.all_genes.get_by_id(\"RNA_BSU37160\")\n",
    "#g.complexes"
   ]
  },
  {
   "cell_type": "markdown",
   "id": "42a9d48f-28b2-4f2d-8bce-be2c29bf8a5e",
   "metadata": {},
   "source": [
    "## Inspecting fluxes"
   ]
  },
  {
   "cell_type": "markdown",
   "id": "d977c276-1711-41fc-87fd-3862d0cb8989",
   "metadata": {},
   "source": [
    "### Predicted fluxes"
   ]
  },
  {
   "cell_type": "code",
   "execution_count": 17,
   "id": "6d1ab603-99bb-4711-aa42-7f6c4aebea59",
   "metadata": {},
   "outputs": [
    {
     "data": {
      "text/html": [
       "<div>\n",
       "<style scoped>\n",
       "    .dataframe tbody tr th:only-of-type {\n",
       "        vertical-align: middle;\n",
       "    }\n",
       "\n",
       "    .dataframe tbody tr th {\n",
       "        vertical-align: top;\n",
       "    }\n",
       "\n",
       "    .dataframe thead th {\n",
       "        text-align: right;\n",
       "    }\n",
       "</style>\n",
       "<table border=\"1\" class=\"dataframe\">\n",
       "  <thead>\n",
       "    <tr style=\"text-align: right;\">\n",
       "      <th></th>\n",
       "      <th>fluxes</th>\n",
       "      <th>reduced_costs</th>\n",
       "    </tr>\n",
       "  </thead>\n",
       "  <tbody>\n",
       "    <tr>\n",
       "      <th>biomass_dilution</th>\n",
       "      <td>0.483924</td>\n",
       "      <td>-7.182339e-01</td>\n",
       "    </tr>\n",
       "    <tr>\n",
       "      <th>protein_biomass_to_biomass</th>\n",
       "      <td>0.248726</td>\n",
       "      <td>4.306111e-35</td>\n",
       "    </tr>\n",
       "    <tr>\n",
       "      <th>mRNA_biomass_to_biomass</th>\n",
       "      <td>0.001491</td>\n",
       "      <td>1.015406e-34</td>\n",
       "    </tr>\n",
       "    <tr>\n",
       "      <th>tRNA_biomass_to_biomass</th>\n",
       "      <td>0.009035</td>\n",
       "      <td>0.000000e+00</td>\n",
       "    </tr>\n",
       "    <tr>\n",
       "      <th>rRNA_biomass_to_biomass</th>\n",
       "      <td>0.062090</td>\n",
       "      <td>0.000000e+00</td>\n",
       "    </tr>\n",
       "    <tr>\n",
       "      <th>...</th>\n",
       "      <td>...</td>\n",
       "      <td>...</td>\n",
       "    </tr>\n",
       "    <tr>\n",
       "      <th>TS_for_c</th>\n",
       "      <td>0.013948</td>\n",
       "      <td>0.000000e+00</td>\n",
       "    </tr>\n",
       "    <tr>\n",
       "      <th>TS_cobalt2_c</th>\n",
       "      <td>-0.000002</td>\n",
       "      <td>0.000000e+00</td>\n",
       "    </tr>\n",
       "    <tr>\n",
       "      <th>TS_zn2_c</th>\n",
       "      <td>-0.000003</td>\n",
       "      <td>0.000000e+00</td>\n",
       "    </tr>\n",
       "    <tr>\n",
       "      <th>TS_mn2_c</th>\n",
       "      <td>-0.000002</td>\n",
       "      <td>0.000000e+00</td>\n",
       "    </tr>\n",
       "    <tr>\n",
       "      <th>TS_4fe4s_c</th>\n",
       "      <td>-0.000001</td>\n",
       "      <td>0.000000e+00</td>\n",
       "    </tr>\n",
       "  </tbody>\n",
       "</table>\n",
       "<p>5384 rows × 2 columns</p>\n",
       "</div>"
      ],
      "text/plain": [
       "                              fluxes  reduced_costs\n",
       "biomass_dilution            0.483924  -7.182339e-01\n",
       "protein_biomass_to_biomass  0.248726   4.306111e-35\n",
       "mRNA_biomass_to_biomass     0.001491   1.015406e-34\n",
       "tRNA_biomass_to_biomass     0.009035   0.000000e+00\n",
       "rRNA_biomass_to_biomass     0.062090   0.000000e+00\n",
       "...                              ...            ...\n",
       "TS_for_c                    0.013948   0.000000e+00\n",
       "TS_cobalt2_c               -0.000002   0.000000e+00\n",
       "TS_zn2_c                   -0.000003   0.000000e+00\n",
       "TS_mn2_c                   -0.000002   0.000000e+00\n",
       "TS_4fe4s_c                 -0.000001   0.000000e+00\n",
       "\n",
       "[5384 rows x 2 columns]"
      ]
     },
     "execution_count": 17,
     "metadata": {},
     "output_type": "execute_result"
    }
   ],
   "source": [
    "fluxes = me.solution.to_frame()\n",
    "fluxes"
   ]
  },
  {
   "cell_type": "markdown",
   "id": "495c1b76-30fc-4bca-bb63-77d343e3defc",
   "metadata": {},
   "source": [
    "### Biomass production"
   ]
  },
  {
   "cell_type": "code",
   "execution_count": 18,
   "id": "5984f8fb-a193-4aff-b6d1-5a9c5d85a5d0",
   "metadata": {},
   "outputs": [
    {
     "data": {
      "text/html": [
       "<div>\n",
       "<style scoped>\n",
       "    .dataframe tbody tr th:only-of-type {\n",
       "        vertical-align: middle;\n",
       "    }\n",
       "\n",
       "    .dataframe tbody tr th {\n",
       "        vertical-align: top;\n",
       "    }\n",
       "\n",
       "    .dataframe thead th {\n",
       "        text-align: right;\n",
       "    }\n",
       "</style>\n",
       "<table border=\"1\" class=\"dataframe\">\n",
       "  <thead>\n",
       "    <tr style=\"text-align: right;\">\n",
       "      <th></th>\n",
       "      <th>fluxes</th>\n",
       "      <th>reduced_costs</th>\n",
       "    </tr>\n",
       "  </thead>\n",
       "  <tbody>\n",
       "    <tr>\n",
       "      <th>biomass_dilution</th>\n",
       "      <td>0.483924</td>\n",
       "      <td>-7.182339e-01</td>\n",
       "    </tr>\n",
       "    <tr>\n",
       "      <th>protein_biomass_to_biomass</th>\n",
       "      <td>0.248726</td>\n",
       "      <td>4.306111e-35</td>\n",
       "    </tr>\n",
       "    <tr>\n",
       "      <th>mRNA_biomass_to_biomass</th>\n",
       "      <td>0.001491</td>\n",
       "      <td>1.015406e-34</td>\n",
       "    </tr>\n",
       "    <tr>\n",
       "      <th>tRNA_biomass_to_biomass</th>\n",
       "      <td>0.009035</td>\n",
       "      <td>0.000000e+00</td>\n",
       "    </tr>\n",
       "    <tr>\n",
       "      <th>rRNA_biomass_to_biomass</th>\n",
       "      <td>0.062090</td>\n",
       "      <td>0.000000e+00</td>\n",
       "    </tr>\n",
       "    <tr>\n",
       "      <th>ncRNA_biomass_to_biomass</th>\n",
       "      <td>0.000000</td>\n",
       "      <td>8.353840e-35</td>\n",
       "    </tr>\n",
       "    <tr>\n",
       "      <th>tmRNA_biomass_to_biomass</th>\n",
       "      <td>0.000000</td>\n",
       "      <td>8.353840e-35</td>\n",
       "    </tr>\n",
       "    <tr>\n",
       "      <th>DNA_biomass_to_biomass</th>\n",
       "      <td>0.022475</td>\n",
       "      <td>8.353840e-35</td>\n",
       "    </tr>\n",
       "    <tr>\n",
       "      <th>lipid_biomass_to_biomass</th>\n",
       "      <td>0.000000</td>\n",
       "      <td>8.353840e-35</td>\n",
       "    </tr>\n",
       "    <tr>\n",
       "      <th>constituent_biomass_to_biomass</th>\n",
       "      <td>0.000000</td>\n",
       "      <td>8.353840e-35</td>\n",
       "    </tr>\n",
       "    <tr>\n",
       "      <th>prosthetic_group_biomass_to_biomass</th>\n",
       "      <td>0.000198</td>\n",
       "      <td>0.000000e+00</td>\n",
       "    </tr>\n",
       "    <tr>\n",
       "      <th>peptidoglycan_biomass_to_biomass</th>\n",
       "      <td>0.000000</td>\n",
       "      <td>8.353840e-35</td>\n",
       "    </tr>\n",
       "    <tr>\n",
       "      <th>biomass_constituent_demand</th>\n",
       "      <td>0.483924</td>\n",
       "      <td>0.000000e+00</td>\n",
       "    </tr>\n",
       "  </tbody>\n",
       "</table>\n",
       "</div>"
      ],
      "text/plain": [
       "                                       fluxes  reduced_costs\n",
       "biomass_dilution                     0.483924  -7.182339e-01\n",
       "protein_biomass_to_biomass           0.248726   4.306111e-35\n",
       "mRNA_biomass_to_biomass              0.001491   1.015406e-34\n",
       "tRNA_biomass_to_biomass              0.009035   0.000000e+00\n",
       "rRNA_biomass_to_biomass              0.062090   0.000000e+00\n",
       "ncRNA_biomass_to_biomass             0.000000   8.353840e-35\n",
       "tmRNA_biomass_to_biomass             0.000000   8.353840e-35\n",
       "DNA_biomass_to_biomass               0.022475   8.353840e-35\n",
       "lipid_biomass_to_biomass             0.000000   8.353840e-35\n",
       "constituent_biomass_to_biomass       0.000000   8.353840e-35\n",
       "prosthetic_group_biomass_to_biomass  0.000198   0.000000e+00\n",
       "peptidoglycan_biomass_to_biomass     0.000000   8.353840e-35\n",
       "biomass_constituent_demand           0.483924   0.000000e+00"
      ]
     },
     "execution_count": 18,
     "metadata": {},
     "output_type": "execute_result"
    }
   ],
   "source": [
    "fluxes[fluxes.index.str.contains(\"biomass\")]"
   ]
  },
  {
   "cell_type": "markdown",
   "id": "dd37655b-6303-4354-b448-0f12ca7d7cae",
   "metadata": {},
   "source": [
    "### Transcription rates"
   ]
  },
  {
   "cell_type": "code",
   "execution_count": 19,
   "id": "5630678c-e894-4bbc-b9a3-e71fc1bff8ce",
   "metadata": {},
   "outputs": [
    {
     "data": {
      "text/html": [
       "<div>\n",
       "<style scoped>\n",
       "    .dataframe tbody tr th:only-of-type {\n",
       "        vertical-align: middle;\n",
       "    }\n",
       "\n",
       "    .dataframe tbody tr th {\n",
       "        vertical-align: top;\n",
       "    }\n",
       "\n",
       "    .dataframe thead th {\n",
       "        text-align: right;\n",
       "    }\n",
       "</style>\n",
       "<table border=\"1\" class=\"dataframe\">\n",
       "  <thead>\n",
       "    <tr style=\"text-align: right;\">\n",
       "      <th></th>\n",
       "      <th>fluxes</th>\n",
       "      <th>reduced_costs</th>\n",
       "    </tr>\n",
       "  </thead>\n",
       "  <tbody>\n",
       "    <tr>\n",
       "      <th>transcription_TU1W2W-996_from_EWS79_RS07230-MONOMER</th>\n",
       "      <td>0.000000e+00</td>\n",
       "      <td>-1.949070e-01</td>\n",
       "    </tr>\n",
       "    <tr>\n",
       "      <th>transcription_TU1W2W-858_from_EWS79_RS07230-MONOMER</th>\n",
       "      <td>5.006133e-07</td>\n",
       "      <td>9.790206e-33</td>\n",
       "    </tr>\n",
       "    <tr>\n",
       "      <th>transcription_TU1W2W-819_from_EWS79_RS07230-MONOMER</th>\n",
       "      <td>0.000000e+00</td>\n",
       "      <td>2.948783e-34</td>\n",
       "    </tr>\n",
       "    <tr>\n",
       "      <th>transcription_TU1W2W-281_from_EWS79_RS07230-MONOMER</th>\n",
       "      <td>5.006133e-07</td>\n",
       "      <td>6.390619e-33</td>\n",
       "    </tr>\n",
       "    <tr>\n",
       "      <th>transcription_TU1W2W-1060_from_EWS79_RS07230-MONOMER</th>\n",
       "      <td>1.035293e-12</td>\n",
       "      <td>-6.897421e-32</td>\n",
       "    </tr>\n",
       "  </tbody>\n",
       "</table>\n",
       "</div>"
      ],
      "text/plain": [
       "                                                          fluxes  \\\n",
       "transcription_TU1W2W-996_from_EWS79_RS07230-MON...  0.000000e+00   \n",
       "transcription_TU1W2W-858_from_EWS79_RS07230-MON...  5.006133e-07   \n",
       "transcription_TU1W2W-819_from_EWS79_RS07230-MON...  0.000000e+00   \n",
       "transcription_TU1W2W-281_from_EWS79_RS07230-MON...  5.006133e-07   \n",
       "transcription_TU1W2W-1060_from_EWS79_RS07230-MO...  1.035293e-12   \n",
       "\n",
       "                                                    reduced_costs  \n",
       "transcription_TU1W2W-996_from_EWS79_RS07230-MON...  -1.949070e-01  \n",
       "transcription_TU1W2W-858_from_EWS79_RS07230-MON...   9.790206e-33  \n",
       "transcription_TU1W2W-819_from_EWS79_RS07230-MON...   2.948783e-34  \n",
       "transcription_TU1W2W-281_from_EWS79_RS07230-MON...   6.390619e-33  \n",
       "transcription_TU1W2W-1060_from_EWS79_RS07230-MO...  -6.897421e-32  "
      ]
     },
     "execution_count": 19,
     "metadata": {},
     "output_type": "execute_result"
    }
   ],
   "source": [
    "fluxes[fluxes.index.str.contains(\"^transcription_\")].head()"
   ]
  },
  {
   "cell_type": "markdown",
   "id": "7ceaf816-6d4d-4b41-acc2-c669cded8c25",
   "metadata": {},
   "source": [
    "### Translation rates"
   ]
  },
  {
   "cell_type": "code",
   "execution_count": 20,
   "id": "eaf9a7f8-72fa-4be3-b01d-ad208c45d4eb",
   "metadata": {},
   "outputs": [
    {
     "data": {
      "text/html": [
       "<div>\n",
       "<style scoped>\n",
       "    .dataframe tbody tr th:only-of-type {\n",
       "        vertical-align: middle;\n",
       "    }\n",
       "\n",
       "    .dataframe tbody tr th {\n",
       "        vertical-align: top;\n",
       "    }\n",
       "\n",
       "    .dataframe thead th {\n",
       "        text-align: right;\n",
       "    }\n",
       "</style>\n",
       "<table border=\"1\" class=\"dataframe\">\n",
       "  <thead>\n",
       "    <tr style=\"text-align: right;\">\n",
       "      <th></th>\n",
       "      <th>fluxes</th>\n",
       "      <th>reduced_costs</th>\n",
       "    </tr>\n",
       "  </thead>\n",
       "  <tbody>\n",
       "    <tr>\n",
       "      <th>translation_ZMO0003</th>\n",
       "      <td>3.783688e-07</td>\n",
       "      <td>-1.568393e-32</td>\n",
       "    </tr>\n",
       "    <tr>\n",
       "      <th>translation_ZMO0004</th>\n",
       "      <td>1.170720e-07</td>\n",
       "      <td>-6.507895e-33</td>\n",
       "    </tr>\n",
       "    <tr>\n",
       "      <th>translation_ZMO0005</th>\n",
       "      <td>1.170720e-07</td>\n",
       "      <td>2.704013e-32</td>\n",
       "    </tr>\n",
       "    <tr>\n",
       "      <th>translation_ZMO0006</th>\n",
       "      <td>0.000000e+00</td>\n",
       "      <td>-9.526085e-32</td>\n",
       "    </tr>\n",
       "    <tr>\n",
       "      <th>translation_ZMO0007</th>\n",
       "      <td>2.099897e-07</td>\n",
       "      <td>2.105467e-32</td>\n",
       "    </tr>\n",
       "  </tbody>\n",
       "</table>\n",
       "</div>"
      ],
      "text/plain": [
       "                           fluxes  reduced_costs\n",
       "translation_ZMO0003  3.783688e-07  -1.568393e-32\n",
       "translation_ZMO0004  1.170720e-07  -6.507895e-33\n",
       "translation_ZMO0005  1.170720e-07   2.704013e-32\n",
       "translation_ZMO0006  0.000000e+00  -9.526085e-32\n",
       "translation_ZMO0007  2.099897e-07   2.105467e-32"
      ]
     },
     "execution_count": 20,
     "metadata": {},
     "output_type": "execute_result"
    }
   ],
   "source": [
    "fluxes[fluxes.index.str.contains(\"^translation_\")].head()"
   ]
  },
  {
   "cell_type": "markdown",
   "id": "7571bdfa-d692-4566-bff0-1b5a9a0da869",
   "metadata": {},
   "source": [
    "### Sinks to be curated through manual curation"
   ]
  },
  {
   "cell_type": "markdown",
   "id": "da4c045f-1299-4024-ba99-56c3ffeed7d8",
   "metadata": {},
   "source": [
    "The Troubleshooter found 8 gaps that need to be curated to allow for growth. Most of these are cofactors that will require some synthesis pathways (e.g. 4fe4s), but others will only need some transporters (e.g. metal ions)"
   ]
  },
  {
   "cell_type": "code",
   "execution_count": 21,
   "id": "7ddb17fc-d49b-4547-bfa8-042ad83f7840",
   "metadata": {},
   "outputs": [
    {
     "data": {
      "text/html": [
       "<div>\n",
       "<style scoped>\n",
       "    .dataframe tbody tr th:only-of-type {\n",
       "        vertical-align: middle;\n",
       "    }\n",
       "\n",
       "    .dataframe tbody tr th {\n",
       "        vertical-align: top;\n",
       "    }\n",
       "\n",
       "    .dataframe thead th {\n",
       "        text-align: right;\n",
       "    }\n",
       "</style>\n",
       "<table border=\"1\" class=\"dataframe\">\n",
       "  <thead>\n",
       "    <tr style=\"text-align: right;\">\n",
       "      <th></th>\n",
       "      <th>fluxes</th>\n",
       "      <th>reduced_costs</th>\n",
       "    </tr>\n",
       "  </thead>\n",
       "  <tbody>\n",
       "    <tr>\n",
       "      <th>TS_23bpg_c</th>\n",
       "      <td>-0.000105</td>\n",
       "      <td>0.0</td>\n",
       "    </tr>\n",
       "    <tr>\n",
       "      <th>TS_for_c</th>\n",
       "      <td>0.013948</td>\n",
       "      <td>0.0</td>\n",
       "    </tr>\n",
       "    <tr>\n",
       "      <th>TS_cobalt2_c</th>\n",
       "      <td>-0.000002</td>\n",
       "      <td>0.0</td>\n",
       "    </tr>\n",
       "    <tr>\n",
       "      <th>TS_zn2_c</th>\n",
       "      <td>-0.000003</td>\n",
       "      <td>0.0</td>\n",
       "    </tr>\n",
       "    <tr>\n",
       "      <th>TS_mn2_c</th>\n",
       "      <td>-0.000002</td>\n",
       "      <td>0.0</td>\n",
       "    </tr>\n",
       "    <tr>\n",
       "      <th>TS_4fe4s_c</th>\n",
       "      <td>-0.000001</td>\n",
       "      <td>0.0</td>\n",
       "    </tr>\n",
       "  </tbody>\n",
       "</table>\n",
       "</div>"
      ],
      "text/plain": [
       "                fluxes  reduced_costs\n",
       "TS_23bpg_c   -0.000105            0.0\n",
       "TS_for_c      0.013948            0.0\n",
       "TS_cobalt2_c -0.000002            0.0\n",
       "TS_zn2_c     -0.000003            0.0\n",
       "TS_mn2_c     -0.000002            0.0\n",
       "TS_4fe4s_c   -0.000001            0.0"
      ]
     },
     "execution_count": 21,
     "metadata": {},
     "output_type": "execute_result"
    }
   ],
   "source": [
    "fluxes[fluxes.index.str.contains(\"^TS_\")]"
   ]
  },
  {
   "cell_type": "code",
   "execution_count": null,
   "id": "86611d82-5815-49a7-86ad-ff1726e11839",
   "metadata": {},
   "outputs": [],
   "source": []
  }
 ],
 "metadata": {
  "kernelspec": {
   "display_name": "Python 3 (ipykernel)",
   "language": "python",
   "name": "python3"
  },
  "language_info": {
   "codemirror_mode": {
    "name": "ipython",
    "version": 3
   },
   "file_extension": ".py",
   "mimetype": "text/x-python",
   "name": "python",
   "nbconvert_exporter": "python",
   "pygments_lexer": "ipython3",
   "version": "3.10.16"
  },
  "toc-autonumbering": true,
  "toc-showcode": true
 },
 "nbformat": 4,
 "nbformat_minor": 5
}
