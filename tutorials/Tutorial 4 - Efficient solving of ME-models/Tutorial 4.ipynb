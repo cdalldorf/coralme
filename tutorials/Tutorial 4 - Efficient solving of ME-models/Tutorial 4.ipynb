{
 "cells": [
  {
   "cell_type": "markdown",
   "id": "fb270ec2-29da-4100-9485-39da5cce1663",
   "metadata": {},
   "source": [
    "# Tutorial 4: Memory- and time-efficient solving of ME-models\n",
    "\n",
    "In this tutorial we will convert the ME-model object to an NLP mathematical representation to save memory and time in simulating many conditions."
   ]
  },
  {
   "cell_type": "markdown",
   "id": "d37fa4bb-3c8f-4a62-923c-6c1747ebb652",
   "metadata": {},
   "source": [
    "## Import libraries"
   ]
  },
  {
   "cell_type": "code",
   "execution_count": 1,
   "id": "d048f35f-6a3b-4642-86cd-49e4c4e4a187",
   "metadata": {
    "ExecuteTime": {
     "end_time": "2022-12-12T06:27:35.182100Z",
     "start_time": "2022-12-12T06:27:35.157355Z"
    }
   },
   "outputs": [],
   "source": [
    "import sys\n",
    "sys.path.insert(0, '../../')\n",
    "import coralme\n",
    "from helpers import get_nlp,optimize"
   ]
  },
  {
   "cell_type": "markdown",
   "id": "051e8ee6-15ba-4017-8fc0-5f54da314cd8",
   "metadata": {},
   "source": [
    "## Load"
   ]
  },
  {
   "cell_type": "markdown",
   "id": "77a83a0a-a0b6-4b74-b0b8-9331a34162d7",
   "metadata": {},
   "source": [
    "Load the ME-model coming out of the Troubleshooter"
   ]
  },
  {
   "cell_type": "code",
   "execution_count": 2,
   "id": "b0d86d92-b978-402c-b16a-439986ea2904",
   "metadata": {
    "ExecuteTime": {
     "end_time": "2022-12-12T06:30:28.060280Z",
     "start_time": "2022-12-12T06:30:01.706785Z"
    }
   },
   "outputs": [
    {
     "ename": "FileNotFoundError",
     "evalue": "[Errno 2] No such file or directory: '../../Zymomonas_mobilis/./outputs/MEModel-step3-zymomonas-TS.pkl'",
     "output_type": "error",
     "traceback": [
      "\u001b[0;31m---------------------------------------------------------------------------\u001b[0m",
      "\u001b[0;31mFileNotFoundError\u001b[0m                         Traceback (most recent call last)",
      "Cell \u001b[0;32mIn[2], line 2\u001b[0m\n\u001b[1;32m      1\u001b[0m \u001b[38;5;66;03m#me = coralme.io.json.load_json_me_model(\"MEModel-step3-bsubtilis-TS.json\")\u001b[39;00m\n\u001b[0;32m----> 2\u001b[0m me \u001b[38;5;241m=\u001b[39m \u001b[43mcoralme\u001b[49m\u001b[38;5;241;43m.\u001b[39;49m\u001b[43mio\u001b[49m\u001b[38;5;241;43m.\u001b[39;49m\u001b[43mpickle\u001b[49m\u001b[38;5;241;43m.\u001b[39;49m\u001b[43mload_pickle_me_model\u001b[49m\u001b[43m(\u001b[49m\u001b[38;5;124;43m'\u001b[39;49m\u001b[38;5;124;43m../../Zymomonas_mobilis/./outputs/MEModel-step3-zymomonas-TS.pkl\u001b[39;49m\u001b[38;5;124;43m'\u001b[39;49m\u001b[43m)\u001b[49m\n",
      "File \u001b[0;32m~/zuniga/coralme/tutorials/Tutorial 4 - Efficient solving of ME-models/../../coralme/io/pickle.py:4\u001b[0m, in \u001b[0;36mload_pickle_me_model\u001b[0;34m(path)\u001b[0m\n\u001b[1;32m      3\u001b[0m \u001b[38;5;28;01mdef\u001b[39;00m\u001b[38;5;250m \u001b[39m\u001b[38;5;21mload_pickle_me_model\u001b[39m(path):\n\u001b[0;32m----> 4\u001b[0m     \u001b[38;5;28;01mwith\u001b[39;00m \u001b[38;5;28;43mopen\u001b[39;49m\u001b[43m(\u001b[49m\u001b[43mpath\u001b[49m\u001b[43m,\u001b[49m\u001b[43m \u001b[49m\u001b[38;5;124;43m\"\u001b[39;49m\u001b[38;5;124;43mrb\u001b[39;49m\u001b[38;5;124;43m\"\u001b[39;49m\u001b[43m)\u001b[49m \u001b[38;5;28;01mas\u001b[39;00m infile:\n\u001b[1;32m      5\u001b[0m         \u001b[38;5;28;01mreturn\u001b[39;00m pickle\u001b[38;5;241m.\u001b[39mload(infile)\n",
      "\u001b[0;31mFileNotFoundError\u001b[0m: [Errno 2] No such file or directory: '../../Zymomonas_mobilis/./outputs/MEModel-step3-zymomonas-TS.pkl'"
     ]
    }
   ],
   "source": [
    "#me = coralme.io.json.load_json_me_model(\"MEModel-step3-bsubtilis-TS.json\")\n",
    "me = coralme.io.pickle.load_pickle_me_model('../../Zymomonas_mobilis/./outputs/MEModel-step3-zymomonas-TS.pkl')"
   ]
  },
  {
   "cell_type": "markdown",
   "id": "a987ed37-a5c6-4d81-8899-ccc7c93d0f12",
   "metadata": {},
   "source": [
    "## Convert to NLP problem"
   ]
  },
  {
   "cell_type": "markdown",
   "id": "3359d378-7f16-4ea7-878b-c66824953b2d",
   "metadata": {},
   "source": [
    "The ME-model object *me* is a big object containing all data and metadata. This is not necessary when performing large-scale simulations, such as gene knockouts, or growth simulations under hundreds of conditions."
   ]
  },
  {
   "cell_type": "markdown",
   "id": "f70e7e58-793a-4f33-979c-8f1ffda5e0b3",
   "metadata": {},
   "source": [
    "So, in these cases we only need the mathematical problem representing the ME-model, which is *nlp*."
   ]
  },
  {
   "cell_type": "code",
   "execution_count": null,
   "id": "bd633db0-44fb-4b1c-999c-d4d5fd68de07",
   "metadata": {},
   "outputs": [],
   "source": [
    "nlp = get_nlp(me)"
   ]
  },
  {
   "cell_type": "markdown",
   "id": "52b951d1-c296-48e6-a89f-437a0c4e5a6c",
   "metadata": {},
   "source": [
    "## Retrieve metabolite and reaction indexes"
   ]
  },
  {
   "cell_type": "markdown",
   "id": "31ab4574-f389-4ee8-b7d4-6041546207b6",
   "metadata": {},
   "source": [
    "The *nlp* now contains the mathematical representation, very similar to a struct object of the COBRA Toolbox in MATLAB. Similarly, reactions and metabolites are now accessed from integer indexes. We can create a dictionary from the original model to map reaction ids to indexes"
   ]
  },
  {
   "cell_type": "code",
   "execution_count": null,
   "id": "eee7e9f8-06a7-40da-a74f-2bf8e0c00dc5",
   "metadata": {},
   "outputs": [],
   "source": [
    "rxn_index_dct = {r.id : me.reactions.index(r) for r in me.reactions}\n",
    "met_index_dct = {m.id : me.metabolites.index(m) for m in me.metabolites}"
   ]
  },
  {
   "cell_type": "markdown",
   "id": "fe7e35a5-1cc9-4933-899d-cd1ee0617ef8",
   "metadata": {},
   "source": [
    "From now on, *me* is no longer necessary and can be deleted to save memory usage. This is especially helpful when running parallelized simulations."
   ]
  },
  {
   "cell_type": "code",
   "execution_count": null,
   "id": "a5685c80-4129-4964-b9f5-55fc3ab77b29",
   "metadata": {},
   "outputs": [],
   "source": [
    "# del me"
   ]
  },
  {
   "cell_type": "markdown",
   "id": "035c88fc-8b5b-4e16-8511-0819ca30240b",
   "metadata": {},
   "source": [
    "## Solving the MEModel vs. NLP"
   ]
  },
  {
   "cell_type": "markdown",
   "id": "a351b8e3-6be9-45e0-bccf-4d234e2dc430",
   "metadata": {},
   "source": [
    "Now we can call the modified *optimize* function in *helpers*. This function was modified from the me.optimize() function of a coralme.core.model.MEModel."
   ]
  },
  {
   "cell_type": "markdown",
   "id": "2454a482-30b7-4669-ba80-bff1f4ad4ad6",
   "metadata": {},
   "source": [
    "Here you can see the speed-up when solving from scratch and solving from the NLP. The speed-up is even more noticeable with bigger models, as lamdifying a longer list of constraints will take much longer."
   ]
  },
  {
   "cell_type": "markdown",
   "id": "9e78f919-c105-423e-91fe-2a59e4224c50",
   "metadata": {},
   "source": [
    "### ME-model"
   ]
  },
  {
   "cell_type": "code",
   "execution_count": null,
   "id": "42db1888-6e48-407b-99f4-d3b8f826fa1b",
   "metadata": {},
   "outputs": [],
   "source": [
    "%%time\n",
    "me.optimize(max_mu = 0.1, min_mu = 0., maxIter = 100, lambdify = True,\n",
    "\t\ttolerance = 1e-6, precision = 'quad', verbose = True)"
   ]
  },
  {
   "cell_type": "markdown",
   "id": "068f1486-90a9-45e2-affb-500b24029cb6",
   "metadata": {},
   "source": [
    "### NLP"
   ]
  },
  {
   "cell_type": "code",
   "execution_count": null,
   "id": "c6d36926-e683-4f28-8bc4-2781b8286f05",
   "metadata": {},
   "outputs": [],
   "source": [
    "%%time\n",
    "sol,basis = optimize(rxn_index_dct,met_index_dct,nlp,max_mu = 0.1, min_mu = 0., maxIter = 100,\n",
    "\t\ttolerance = 1e-6, precision = 'quad', verbose = True, basis = None)"
   ]
  },
  {
   "cell_type": "markdown",
   "id": "6d708b23-6531-4a09-9b3b-68daaaa132af",
   "metadata": {},
   "source": [
    "**Speed-up of complete calculation from ~92 seconds to ~80 seconds!**"
   ]
  },
  {
   "cell_type": "markdown",
   "id": "013dfedb-26fd-441e-a2ce-ba164a1677bb",
   "metadata": {},
   "source": [
    "## Re-using the basis for even more speed-up"
   ]
  },
  {
   "cell_type": "markdown",
   "id": "a2c87cb1-bc77-4702-9c51-41b85686d7b9",
   "metadata": {},
   "source": [
    "We can re-use a basis from a previously successful simulation to warm-start the first iteration and save even more time! "
   ]
  },
  {
   "cell_type": "markdown",
   "id": "6dc192e2-b722-44b2-8d26-b7c62345a3d2",
   "metadata": {},
   "source": [
    "### Re-using basis"
   ]
  },
  {
   "cell_type": "code",
   "execution_count": null,
   "id": "8fd95e1d-68d4-4754-9fae-733d77c61a69",
   "metadata": {},
   "outputs": [],
   "source": [
    "%%time\n",
    "sol,_ = optimize(rxn_index_dct,met_index_dct,nlp,max_mu = 0.1, min_mu = 0., maxIter = 1,\n",
    "\t\ttolerance = 1e-6, precision = 'quad', verbose = True, basis = basis)"
   ]
  },
  {
   "cell_type": "markdown",
   "id": "d9e7b3c6-ab34-4445-9530-e07273131745",
   "metadata": {},
   "source": [
    "### Cold start"
   ]
  },
  {
   "cell_type": "code",
   "execution_count": null,
   "id": "30402490-99b2-42a8-a9cd-fde0b60a36e1",
   "metadata": {},
   "outputs": [],
   "source": [
    "%%time\n",
    "sol,_ = optimize(rxn_index_dct,met_index_dct,nlp,max_mu = 0.1, min_mu = 0., maxIter = 1, \n",
    "\t\ttolerance = 1e-6, precision = 'quad', verbose = True, basis = None)"
   ]
  },
  {
   "cell_type": "markdown",
   "id": "f98d0d28-93cc-479a-8660-cdddb23f81e1",
   "metadata": {},
   "source": [
    "**Speed-up of first iteration from ~57 seconds to ~6 seconds!**"
   ]
  },
  {
   "cell_type": "markdown",
   "id": "d6830ad0-e284-4b17-871a-f383e664e21e",
   "metadata": {},
   "source": [
    "### Full calculation"
   ]
  },
  {
   "cell_type": "code",
   "execution_count": null,
   "id": "4621b5b6-77eb-4794-acae-c3260d444d55",
   "metadata": {},
   "outputs": [],
   "source": [
    "%%time\n",
    "sol,basis = optimize(rxn_index_dct,met_index_dct,nlp,max_mu = 0.1, min_mu = 0., maxIter = 100, \n",
    "\t\ttolerance = 1e-6, precision = 'quad', verbose = True, basis = basis)"
   ]
  },
  {
   "cell_type": "markdown",
   "id": "7f5e5909-8d1b-425f-90c2-f0ee00c2c370",
   "metadata": {},
   "source": [
    "**Speed-up of complete calculation from ~80 seconds to ~33 seconds!**"
   ]
  },
  {
   "cell_type": "markdown",
   "id": "05fa5361-666a-42f2-82d2-bb02ae65c617",
   "metadata": {},
   "source": [
    "## Modifying the NLP"
   ]
  },
  {
   "cell_type": "markdown",
   "id": "2850d329-6531-45b4-9c64-1ac6cbfeaa47",
   "metadata": {},
   "source": [
    "As previously mentioned, the NLP resembles a struct object of the COBRA Toolbox. The model is stored as a collection of vectors and matrices representing stoichiometries, bounds and other variables needed by the solvers."
   ]
  },
  {
   "cell_type": "markdown",
   "id": "fefd3b0a-e78c-4ac3-821c-1dbcf589b6d7",
   "metadata": {},
   "source": [
    "The relevant properties are:\n",
    "* **xu**: Upper bounds\n",
    "* **xl**: Lower bounds\n",
    "* **S**: Stoichiometric matrix (Metabolites x Reactions)"
   ]
  },
  {
   "cell_type": "markdown",
   "id": "57ac8eb0-4d56-4905-a485-cdac3da1c4b2",
   "metadata": {},
   "source": [
    "The carbon source right now is Glucose, so we will change its bound to -10 to try to achieve maximum growth rate. \n",
    "\n",
    "**Note that bounds contain *lambdify* objects, not floats!**"
   ]
  },
  {
   "cell_type": "code",
   "execution_count": null,
   "id": "d1fb881c-b573-4ea9-b6a1-01f54edd89d0",
   "metadata": {},
   "outputs": [],
   "source": [
    "nlp.xl[rxn_index_dct[\"EX_glc_e\"]] = lambda x:-10"
   ]
  },
  {
   "cell_type": "code",
   "execution_count": null,
   "id": "b149a559-bb62-4383-b0b9-60d199cc75c6",
   "metadata": {},
   "outputs": [],
   "source": [
    "%%time\n",
    "sol,basis = optimize(rxn_index_dct,met_index_dct,nlp,max_mu = 0.5, min_mu = 0., maxIter = 100, \n",
    "\t\ttolerance = 1e-6, precision = 'quad', verbose = True, basis = basis)"
   ]
  },
  {
   "cell_type": "markdown",
   "id": "d1bdfce7-2056-42e5-8011-9149cbc5b433",
   "metadata": {},
   "source": [
    "## Modifying the NLP from a dictionary of new bounds"
   ]
  },
  {
   "cell_type": "markdown",
   "id": "a69659e5-cc79-487d-9862-c4d51c4df66f",
   "metadata": {},
   "source": [
    "Make sure to follow this method so that the lambda does not store pointers to a variable but rather a fixed constant (if that is what you want)."
   ]
  },
  {
   "cell_type": "code",
   "execution_count": null,
   "id": "07189636-28f4-4651-976d-e8abf9a6c20b",
   "metadata": {},
   "outputs": [],
   "source": [
    "def set_exchanges(nlp,dct):\n",
    "    for k,v in dct.items():\n",
    "        nlp.xl[rxn_index_dct[k]] = lambda _,x=v:x"
   ]
  },
  {
   "cell_type": "code",
   "execution_count": null,
   "id": "db1faac8-9fdd-430b-b724-c8c9f5dcfa11",
   "metadata": {},
   "outputs": [],
   "source": [
    "exchanges = {\n",
    "    \"EX_glc_e\" : -10,\n",
    "    \"EX_o2_e\" : -0.6,\n",
    "    \"EX_fru_e\" : -5,\n",
    "}"
   ]
  },
  {
   "cell_type": "code",
   "execution_count": null,
   "id": "cc1c75e9-66c7-469e-871e-af4d71ea0c38",
   "metadata": {},
   "outputs": [],
   "source": [
    "set_exchanges(nlp,exchanges)"
   ]
  },
  {
   "cell_type": "markdown",
   "id": "5ca78778-357e-4090-aa13-37e2582c34b4",
   "metadata": {},
   "source": [
    "## Inspecting the solution"
   ]
  },
  {
   "cell_type": "markdown",
   "id": "cc497768-f7fe-416d-80b6-65080330dc35",
   "metadata": {},
   "source": [
    "The function returns a cobra.Solution object just like the one stored in me.solution. For more details inspecting *sol*, refer to Tutorial 3."
   ]
  },
  {
   "cell_type": "code",
   "execution_count": null,
   "id": "02fe3bde-69cb-4318-964e-715a3f281111",
   "metadata": {},
   "outputs": [],
   "source": [
    "sol"
   ]
  },
  {
   "cell_type": "code",
   "execution_count": null,
   "id": "42226801-d178-40e6-85e2-6fbc5fb75e43",
   "metadata": {},
   "outputs": [],
   "source": []
  }
 ],
 "metadata": {
  "kernelspec": {
   "display_name": "Python 3 (ipykernel)",
   "language": "python",
   "name": "python3"
  },
  "language_info": {
   "codemirror_mode": {
    "name": "ipython",
    "version": 3
   },
   "file_extension": ".py",
   "mimetype": "text/x-python",
   "name": "python",
   "nbconvert_exporter": "python",
   "pygments_lexer": "ipython3",
   "version": "3.10.16"
  },
  "toc-autonumbering": true,
  "toc-showcode": true
 },
 "nbformat": 4,
 "nbformat_minor": 5
}
