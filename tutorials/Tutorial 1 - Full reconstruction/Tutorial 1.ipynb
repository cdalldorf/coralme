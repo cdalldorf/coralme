{
 "cells": [
  {
   "cell_type": "markdown",
   "id": "fb270ec2-29da-4100-9485-39da5cce1663",
   "metadata": {},
   "source": [
    "# Tutorial 1: Full reconstruction\n",
    "\n",
    "In this tutorial we will reconstruct a _Bacillus subtilis_ ME-model from just the input files."
   ]
  },
  {
   "cell_type": "markdown",
   "id": "dbcc45ef-215d-4ee1-8383-bedd2efd084f",
   "metadata": {},
   "source": [
    "## Import libraries"
   ]
  },
  {
   "cell_type": "code",
   "execution_count": 3,
   "id": "d048f35f-6a3b-4642-86cd-49e4c4e4a187",
   "metadata": {
    "ExecuteTime": {
     "end_time": "2022-12-12T06:27:35.182100Z",
     "start_time": "2022-12-12T06:27:35.157355Z"
    }
   },
   "outputs": [
    {
     "data": {
      "text/html": [
       "<style>.container { width:95% !important; }</style>"
      ],
      "text/plain": [
       "<IPython.core.display.HTML object>"
      ]
     },
     "metadata": {},
     "output_type": "display_data"
    }
   ],
   "source": [
    "from IPython.display import display, HTML, Math, Markdown\n",
    "display(HTML(\"<style>.container { width:95% !important; }</style>\"))\n",
    "\n",
    "import sys\n",
    "sys.path.insert(0, '../../')\n",
    "\n",
    "import importlib\n",
    "import coralme\n",
    "import coralme.solver.solver\n",
    "import coralme.builder.main\n",
    "import coralme.core.model\n",
    "\n",
    "from coralme.builder.main import MEBuilder"
   ]
  },
  {
   "cell_type": "markdown",
   "id": "f40390ac-ebd6-4c7c-88dc-fb7d5b276383",
   "metadata": {},
   "source": [
    "## Path to configuration files"
   ]
  },
  {
   "cell_type": "markdown",
   "id": "fe8269c7-24de-4f65-b01f-3412883f238e",
   "metadata": {},
   "source": [
    "For more information about these files see [Description of inputs](../../docs/BasicInputs.ipynb)"
   ]
  },
  {
   "cell_type": "code",
   "execution_count": 4,
   "id": "d62ee683-429e-481b-87ea-8758c47886bb",
   "metadata": {},
   "outputs": [],
   "source": [
    "#organism = '../../Zymomonas_mobilis/organism.json'\n",
    "#inputs = '../../Zymomonas_mobilis/input.json'\n",
    "organism = '../../Achromobacter/organism.json'\n",
    "inputs = '../../Achromobacter/input.json'\n",
    "\n",
    "#organism = './organism.json'\n",
    "#inputs = './input.json'"
   ]
  },
  {
   "cell_type": "markdown",
   "id": "962f97bf-a03d-432f-916d-be11877033c4",
   "metadata": {},
   "source": [
    "## Create MEBuilder instance"
   ]
  },
  {
   "cell_type": "markdown",
   "id": "f9988c4f-9bc2-4716-b8f9-46b02d533b90",
   "metadata": {},
   "source": [
    "For more information about this class see [Arquitecture of coralME](../../docs/coralMEArquitecture.ipynb)"
   ]
  },
  {
   "cell_type": "code",
   "execution_count": 5,
   "id": "f83fbefc-c392-496d-9e1e-7820d1b6d60b",
   "metadata": {
    "tags": []
   },
   "outputs": [
    {
     "ename": "FileNotFoundError",
     "evalue": "Check the path to the ../../Achromobacter/./inputs/converted_model.json, ../../Achromobacter/./inputs/genes.txt, ../../Achromobacter/./inputs/proteins.txt, ../../Achromobacter/./inputs/TUs.txt, ../../Achromobacter/./inputs/RNAs.txt file(s).",
     "output_type": "error",
     "traceback": [
      "\u001b[0;31m---------------------------------------------------------------------------\u001b[0m",
      "\u001b[0;31mFileNotFoundError\u001b[0m                         Traceback (most recent call last)",
      "Cell \u001b[0;32mIn[5], line 1\u001b[0m\n\u001b[0;32m----> 1\u001b[0m builder \u001b[38;5;241m=\u001b[39m \u001b[43mMEBuilder\u001b[49m\u001b[43m(\u001b[49m\u001b[38;5;241;43m*\u001b[39;49m\u001b[43m[\u001b[49m\u001b[43morganism\u001b[49m\u001b[43m,\u001b[49m\u001b[43m \u001b[49m\u001b[43minputs\u001b[49m\u001b[43m]\u001b[49m\u001b[43m)\u001b[49m\n",
      "File \u001b[0;32m~/zuniga/coralme/tutorials/Tutorial 1 - Full reconstruction/../../coralme/builder/main.py:135\u001b[0m, in \u001b[0;36mMEBuilder.__init__\u001b[0;34m(self, *args, **kwargs)\u001b[0m\n\u001b[1;32m    132\u001b[0m \t\texists\u001b[38;5;241m.\u001b[39mappend([config[filename], pathlib\u001b[38;5;241m.\u001b[39mPath(config[filename])\u001b[38;5;241m.\u001b[39mexists()])\n\u001b[1;32m    134\u001b[0m \u001b[38;5;28;01mif\u001b[39;00m \u001b[38;5;129;01mnot\u001b[39;00m \u001b[38;5;28mall\u001b[39m([ y \u001b[38;5;28;01mfor\u001b[39;00m x,y \u001b[38;5;129;01min\u001b[39;00m exists ]):\n\u001b[0;32m--> 135\u001b[0m \t\u001b[38;5;28;01mraise\u001b[39;00m \u001b[38;5;167;01mFileNotFoundError\u001b[39;00m(\u001b[38;5;124m'\u001b[39m\u001b[38;5;124mCheck the path to the \u001b[39m\u001b[38;5;132;01m{:s}\u001b[39;00m\u001b[38;5;124m file(s).\u001b[39m\u001b[38;5;124m'\u001b[39m\u001b[38;5;241m.\u001b[39mformat(\u001b[38;5;124m'\u001b[39m\u001b[38;5;124m, \u001b[39m\u001b[38;5;124m'\u001b[39m\u001b[38;5;241m.\u001b[39mjoin([ x \u001b[38;5;28;01mfor\u001b[39;00m x,y \u001b[38;5;129;01min\u001b[39;00m exists \u001b[38;5;28;01mif\u001b[39;00m y \u001b[38;5;241m==\u001b[39m \u001b[38;5;28;01mFalse\u001b[39;00m ])))\n\u001b[1;32m    137\u001b[0m \u001b[38;5;28;01mfor\u001b[39;00m option \u001b[38;5;129;01min\u001b[39;00m [ \u001b[38;5;124m\"\u001b[39m\u001b[38;5;124mout_directory\u001b[39m\u001b[38;5;124m\"\u001b[39m, \u001b[38;5;124m\"\u001b[39m\u001b[38;5;124mlog_directory\u001b[39m\u001b[38;5;124m\"\u001b[39m ]:\n\u001b[1;32m    138\u001b[0m \t\u001b[38;5;28;01mif\u001b[39;00m config\u001b[38;5;241m.\u001b[39mget(option, \u001b[38;5;124m'\u001b[39m\u001b[38;5;124m.\u001b[39m\u001b[38;5;124m'\u001b[39m) \u001b[38;5;241m==\u001b[39m \u001b[38;5;124m'\u001b[39m\u001b[38;5;124m'\u001b[39m:\n",
      "\u001b[0;31mFileNotFoundError\u001b[0m: Check the path to the ../../Achromobacter/./inputs/converted_model.json, ../../Achromobacter/./inputs/genes.txt, ../../Achromobacter/./inputs/proteins.txt, ../../Achromobacter/./inputs/TUs.txt, ../../Achromobacter/./inputs/RNAs.txt file(s)."
     ]
    }
   ],
   "source": [
    "builder = MEBuilder(*[organism, inputs])"
   ]
  },
  {
   "cell_type": "markdown",
   "id": "32472ecb-9d39-477c-a611-3fb43d2e3254",
   "metadata": {},
   "source": [
    "## Generate files\n",
    "\n",
    "This corresponds to _Synchronyze_ and _Complement_ steps in [Arquitecture of coralME](../../docs/coralMEArquitecture.ipynb)"
   ]
  },
  {
   "cell_type": "code",
   "execution_count": 4,
   "id": "33e8a1a3-3206-4bc9-9407-3c31f5367d29",
   "metadata": {
    "ExecuteTime": {
     "end_time": "2022-12-12T06:30:28.060280Z",
     "start_time": "2022-12-12T06:30:01.706785Z"
    },
    "scrolled": true,
    "tags": []
   },
   "outputs": [
    {
     "name": "stdout",
     "output_type": "stream",
     "text": [
      "Initiating file processing...\n",
      "~ Processing files for zymomonas...\n"
     ]
    },
    {
     "name": "stderr",
     "output_type": "stream",
     "text": [
      "Checking M-model metabolites...                                            : 100.0%|█████████|   813/  813 [00:00<00:00]\n",
      "Checking M-model genes...                                                  : 100.0%|█████████|   483/  483 [00:00<00:00]\n",
      "Checking M-model reactions...                                              : 100.0%|█████████|   872/  872 [00:00<00:00]\n",
      "Generating complexes dataframe from optional proteins file...              : 100.0%|█████████|  1745/ 1745 [00:00<00:00]\n",
      "Syncing optional genes file...                                             : 100.0%|█████████|  1811/ 1811 [00:00<00:00]\n",
      "Looking for duplicates within datasets...                                  : 100.0%|█████████|     5/    5 [00:00<00:00]\n",
      "Gathering ID occurrences across datasets...                                : 100.0%|█████████|  4564/ 4564 [00:00<00:00]\n",
      "Solving duplicates across datasets...                                      : 0.0%|               |     0/    0 [00:00<?]\n",
      "Pruning GenBank...                                                         : 100.0%|█████████|     1/    1 [00:00<00:00]\n",
      "Updating Genbank file with optional files...                               : 100.0%|█████████|  1811/ 1811 [00:00<00:00]\n",
      "Syncing optional files with genbank contigs...                             : 100.0%|█████████|  1789/ 1789 [00:28<00:00]\n",
      "Modifying metabolites with manual curation...                              : 0.0%|               |     0/    0 [00:00<?]\n",
      "Modifying metabolic reactions with manual curation...                      : 0.0%|               |     0/    0 [00:00<?]\n",
      "Adding manual curation of complexes...                                     : 0.0%|               |     0/    0 [00:00<?]\n",
      "Getting sigma factors...                                                   : 100.0%|█████████|    10/   10 [00:00<00:00]\n",
      "Getting generics from Genbank contigs...                                   : 100.0%|█████████|  1789/ 1789 [00:00<00:00]\n",
      "Getting TU-gene associations from optional TUs file...                     : 100.0%|█████████|  1259/ 1259 [00:00<00:00]\n",
      "Gathering ribosome stoichiometry...                                        : 100.0%|█████████|   108/  108 [00:00<00:00]\n",
      "Adding protein location...                                                 : 100.0%|█████████|  3504/ 3504 [00:00<00:00]\n",
      "Purging M-model genes...                                                   : 100.0%|█████████|   483/  483 [00:00<00:00]\n",
      "Getting enzyme-reaction associations...                                    : 100.0%|█████████|   872/  872 [00:08<00:00]\n"
     ]
    },
    {
     "name": "stdout",
     "output_type": "stream",
     "text": [
      "Reading zymomonas done.\n"
     ]
    },
    {
     "name": "stderr",
     "output_type": "stream",
     "text": [
      "Gathering M-model compartments...                                          : 100.0%|█████████|     3/    3 [00:00<00:00]\n",
      "Fixing compartments in M-model metabolites...                              : 100.0%|█████████|   812/  812 [00:00<00:00]\n",
      "Fixing missing names in M-model reactions...                               : 100.0%|█████████|   872/  872 [00:00<00:00]\n"
     ]
    },
    {
     "name": "stdout",
     "output_type": "stream",
     "text": [
      "~ Processing files for iJL1678b...\n"
     ]
    },
    {
     "name": "stderr",
     "output_type": "stream",
     "text": [
      "Checking M-model metabolites...                                            : 100.0%|█████████|  1660/ 1660 [00:00<00:00]\n",
      "Checking M-model genes...                                                  : 100.0%|█████████|  1271/ 1271 [00:00<00:00]\n",
      "Checking M-model reactions...                                              : 100.0%|█████████|  2377/ 2377 [00:00<00:00]\n",
      "Looking for duplicates within datasets...                                  : 100.0%|█████████|     5/    5 [00:00<00:00]\n",
      "Gathering ID occurrences across datasets...                                : 100.0%|█████████|  5606/ 5606 [00:00<00:00]\n",
      "Solving duplicates across datasets...                                      : 0.0%|               |     0/    0 [00:00<?]\n",
      "Getting sigma factors...                                                   : 100.0%|█████████|     7/    7 [00:00<00:00]\n",
      "Getting TU-gene associations from optional TUs file...                     : 100.0%|█████████|  1259/ 1259 [00:00<00:00]\n",
      "Adding protein location...                                                 : 100.0%|█████████|  1304/ 1304 [00:00<00:00]\n",
      "Purging M-model genes...                                                   : 100.0%|█████████|  1271/ 1271 [00:00<00:00]\n"
     ]
    },
    {
     "name": "stdout",
     "output_type": "stream",
     "text": [
      "Reading iJL1678b done.\n",
      "~ Running BLAST with 4 threads...\n"
     ]
    },
    {
     "name": "stderr",
     "output_type": "stream",
     "text": [
      "Converting Genbank contigs to FASTA for BLAST...                           : 100.0%|█████████|  1789/ 1789 [00:00<00:00]\n",
      "Converting Genbank contigs to FASTA for BLAST...                           : 100.0%|█████████|     1/    1 [00:00<00:00]\n"
     ]
    },
    {
     "name": "stdout",
     "output_type": "stream",
     "text": [
      "BLAST done.\n"
     ]
    },
    {
     "name": "stderr",
     "output_type": "stream",
     "text": [
      "Updating translocation machinery from homology...                          : 100.0%|█|     9/ \n",
      "Updating protein location from homology...                                 : 100.0%|█|   514/ \n",
      "Updating translocation multipliers from homology...                        : 100.0%|█|     3/ \n",
      "Updating lipoprotein precursors from homology...                           : 100.0%|█|    14/ \n",
      "Updating cleaved-methionine proteins from homology...                      : 100.0%|█|   343/ \n",
      "Mapping M-metabolites to E-metabolites...                                  : 100.0%|█|   147/ \n",
      "Updating generics from homology...                                         : 100.0%|█|    10/ \n",
      "Updating folding from homology...                                          : 100.0%|█|     2/ \n",
      "Updating ribosome subreaction machinery from homology...                   : 100.0%|█|     3/ \n",
      "Updating tRNA synthetases from homology...                                 : 100.0%|█|    20/ \n",
      "Updating peptide release factors from homology...                          : 100.0%|█|     3/ \n",
      "Updating transcription subreactions machinery from homology...             : 100.0%|█|     4/ \n",
      "Updating translation initiation subreactions from homology...              : 100.0%|█|     4/ \n",
      "Updating translation elongation subreactions from homology...              : 100.0%|█|     2/ \n",
      "Updating translation termination subreactions from homology...             : 100.0%|█|     9/ \n",
      "Updating special tRNA subreactions from homology...                        : 100.0%|█|     1/ \n",
      "Updating RNA degradosome composition from homology...                      : 100.0%|█|     1/ \n",
      "Updating excision machinery from homology...                               : 100.0%|█|     3/ \n",
      "Updating tRNA subreactions from homology...                                : 100.0%|█|     6/ \n",
      "Updating lipid modification machinery from homology...                     : 100.0%|█|     2/ \n",
      "Fixing M-model metabolites with homology...                                : 100.0%|█|   812/ \n",
      "Updating enzyme reaction association...                                    : 100.0%|█|   622/ \n",
      "Checking defined translocation pathways...                                 : 100.0%|█|     9/ \n",
      "Getting reaction Keffs...                                                  : 100.0%|█|   622/ \n"
     ]
    },
    {
     "name": "stdout",
     "output_type": "stream",
     "text": [
      "File processing done.\n"
     ]
    }
   ],
   "source": [
    "builder.generate_files(overwrite=True)"
   ]
  },
  {
   "cell_type": "markdown",
   "id": "0e9f5993-cbad-44e9-a1ce-51c43e69f565",
   "metadata": {},
   "source": [
    "## Build ME-model\n",
    "\n",
    "This corresponds to _Build_ in [Arquitecture of coralME](../../docs/coralMEArquitecture.ipynb)"
   ]
  },
  {
   "cell_type": "code",
   "execution_count": 5,
   "id": "df64d444-7726-4ab3-b597-74990636c428",
   "metadata": {
    "ExecuteTime": {
     "end_time": "2022-12-12T06:28:36.607889Z",
     "start_time": "2022-12-12T06:27:59.542579Z"
    },
    "scrolled": true,
    "tags": []
   },
   "outputs": [
    {
     "name": "stdout",
     "output_type": "stream",
     "text": [
      "Initiating ME-model reconstruction...\n"
     ]
    },
    {
     "name": "stderr",
     "output_type": "stream",
     "text": [
      "Adding biomass constraint(s) into the ME-model...                          : 100.0%|█|    11/ \n",
      "Adding Metabolites from M-model into the ME-model...                       : 100.0%|█|   814/ \n",
      "Adding Reactions from M-model into the ME-model...                         : 100.0%|█|   869/ \n",
      "Adding Transcriptional Units into the ME-model...                          : 100.0%|█|  1245/ \n",
      "Updating all TranslationReaction and TranscriptionReaction...              : 100.0%|█|  6982/ \n",
      "Removing SubReactions from ComplexData...                                  : 100.0%|█|  3794/ \n",
      "Adding ComplexFormation into the ME-model...                               : 100.0%|█|  3794/ \n",
      "Adding Generic(s) into the ME-model...                                     : 100.0%|█|    25/ \n",
      "Processing StoichiometricData in ME-model...                               : 100.0%|█|   773/ \n"
     ]
    },
    {
     "name": "stdout",
     "output_type": "stream",
     "text": [
      "ME-model was saved in the ../../Zymomonas_mobilis/./outputs directory as MEModel-step1-zymomonas.pkl\n"
     ]
    },
    {
     "name": "stderr",
     "output_type": "stream",
     "text": [
      "Adding tRNA synthetase(s) information into the ME-model...                 : 100.0%|█|   372/ \n",
      "Adding tRNA modification SubReactions...                                   : 0.0%| |     0/   \n",
      "Associating tRNA modification enzyme(s) to tRNA(s)...                      : 0.0%| |     0/   \n",
      "Adding SubReactions into TranslationReactions...                           : 100.0%|█|  3463/ \n",
      "Adding RNA Polymerase(s) into the ME-model...                              : 100.0%|█|    10/ \n",
      "Associating a RNA Polymerase to each Transcriptional Unit...               : 100.0%|█|  1245/ \n",
      "Processing ComplexData in ME-model...                                      : 100.0%|█|   248/ \n",
      "Adding ComplexFormation into the ME-model...                               : 100.0%|█|  3810/ \n",
      "Adding SubReactions into TranslationReactions...                           : 100.0%|█|  3463/ \n",
      "Adding Transcription SubReactions...                                       : 100.0%|█|  3041/ \n",
      "Processing StoichiometricData in SubReactionData...                        : 100.0%|█|   241/ \n",
      "Adding reaction subsystems from M-model into the ME-model...               : 100.0%|█|   869/ \n",
      "Processing StoichiometricData in ME-model...                               : 100.0%|█|   773/ \n",
      "Updating ME-model Reactions...                                             : 100.0%|█| 12740/1\n",
      "Updating all FormationReactions...                                         : 100.0%|█|  3810/ \n",
      "Recalculation of the elemental contribution in SubReactions...             : 100.0%|█|   272/ \n",
      "Updating all FormationReactions...                                         : 100.0%|█|  3810/ \n",
      "Updating FormationReactions involving a lipoyl prosthetic group...         : 0.0%| |     0/   \n",
      "Updating FormationReactions involving a glycyl radical...                  : 100.0%|█|     1/ \n",
      "Estimating effective turnover rates for reactions using the SASA method... : 100.0%|█|  1816/ \n",
      "Mapping effective turnover rates from user input...                        : 0.0%| |     0/   \n",
      "Setting the effective turnover rates using user input...                   : 100.0%|█|  1514/ \n",
      "Pruning unnecessary ComplexData reactions...                               : 100.0%|█|  3810/ \n",
      "Pruning unnecessary FoldedProtein reactions...                             : 0.0%| |     0/   \n",
      "Pruning unnecessary ProcessedProtein reactions...                          : 100.0%|█|  3682/ \n",
      "Pruning unnecessary TranslatedGene reactions...                            : 100.0%|█|  3505/ \n",
      "Pruning unnecessary TranscribedGene reactions...                           : 100.0%|█|  3584/ \n",
      "Pruning unnecessary Transcriptional Units...                               : 100.0%|█|  3040/ \n",
      "Pruning unnecessary ComplexData reactions...                               : 100.0%|█|   732/ \n",
      "Pruning unnecessary FoldedProtein reactions...                             : 0.0%| |     0/   \n",
      "Pruning unnecessary ProcessedProtein reactions...                          : 100.0%|█|   718/ \n",
      "Pruning unnecessary TranslatedGene reactions...                            : 100.0%|█|   718/ \n",
      "Pruning unnecessary TranscribedGene reactions...                           : 100.0%|█|   797/ \n",
      "Pruning unnecessary Transcriptional Units...                               : 100.0%|█|   763/ \n",
      "Pruning unnecessary ComplexData reactions...                               : 100.0%|█|   723/ \n",
      "Pruning unnecessary FoldedProtein reactions...                             : 0.0%| |     0/   \n",
      "Pruning unnecessary ProcessedProtein reactions...                          : 100.0%|█|   709/ \n",
      "Pruning unnecessary TranslatedGene reactions...                            : 100.0%|█|   709/ \n",
      "Pruning unnecessary TranscribedGene reactions...                           : 100.0%|█|   788/ \n",
      "Pruning unnecessary Transcriptional Units...                               : 100.0%|█|   754/ \n"
     ]
    },
    {
     "name": "stdout",
     "output_type": "stream",
     "text": [
      "ME-model was saved in the ../../Zymomonas_mobilis/./outputs directory as MEModel-step2-zymomonas.pkl\n",
      "ME-model reconstruction is done.\n",
      "Number of metabolites in the ME-model is 3138 (+286.45%, from 812)\n",
      "Number of reactions in the ME-model is 5378 (+516.74%, from 872)\n",
      "Number of genes in the ME-model is 786 (+62.73%, from 483)\n"
     ]
    }
   ],
   "source": [
    "builder.build_me_model(overwrite=True)"
   ]
  },
  {
   "cell_type": "markdown",
   "id": "eb86277a-16e5-490b-bcb2-99e0536e49da",
   "metadata": {},
   "source": [
    "## Troubleshoot ME-model\n",
    "\n",
    "This corresponds to _Find gaps_ in [Arquitecture of coralME](../../docs/coralMEArquitecture.ipynb)"
   ]
  },
  {
   "cell_type": "code",
   "execution_count": 6,
   "id": "49a10838-9065-402e-a364-0898f5a4d2ad",
   "metadata": {
    "scrolled": true,
    "tags": []
   },
   "outputs": [
    {
     "name": "stdout",
     "output_type": "stream",
     "text": [
      "The MINOS and quad MINOS solvers are a courtesy of Prof Michael A. Saunders. Please cite Ma, D., Yang, L., Fleming, R. et al. Reliable and efficient solution of genome-scale models of Metabolism and macromolecular Expression. Sci Rep 7, 40863 (2017). https://doi.org/10.1038/srep40863\n",
      "\n",
      "~ Troubleshooting started...\n",
      "  Checking if the ME-model can simulate growth without gapfilling reactions...\n",
      "  Original ME-model is not feasible with a tested growth rate of 0.001000 1/h\n",
      "  Step 1. Gapfill reactions to provide components of type 'ME-Deadends' using brute force.\n",
      "          Finding gaps in the ME-model...\n",
      "          Finding gaps from the M-model only...\n",
      "          6 metabolites were identified as deadends.\n",
      "            23bpg_c: Missing metabolite in the M-model.\n",
      "            cs_c: Missing metabolite in the M-model.\n",
      "            dpm_c: Missing metabolite in the M-model.\n",
      "            for_c: Missing metabolite in the M-model.\n",
      "            pqq_c: Missing metabolite in the M-model.\n",
      "            tl_c: Missing metabolite in the M-model.\n",
      "          Adding sink reactions for 6 metabolites...\n",
      "          Provided metabolites through sink reactions cannot recover growth. Proceeding to next set of metabolites.\n",
      "  Step 2. Gapfill reactions to provide components of type 'Cofactors' using brute force.\n",
      "          Adding sink reactions for 35 metabolites...\n",
      "            Sink reactions shortlisted to 25 metabolites.\n",
      "             Processed:  1/25, Gaps: 1. The ME-model is not feasible if TS_cobalt2_c is closed.\n",
      "             Processed:  2/25, Gaps: 1. The ME-model is feasible if TS_fmnh2_c is closed.\n",
      "             Processed:  3/25, Gaps: 1. The ME-model is feasible if TS_pydx5p_c is closed.\n",
      "             Processed:  4/25, Gaps: 1. The ME-model is feasible if TS_cd2_c is closed.\n",
      "             Processed:  5/25, Gaps: 1. The ME-model is feasible if TS_hco3_c is closed.\n",
      "             Processed:  6/25, Gaps: 2. The ME-model is not feasible if TS_zn2_c is closed.\n",
      "             Processed:  7/25, Gaps: 2. The ME-model is feasible if TS_mg2_c is closed.\n",
      "             Processed:  8/25, Gaps: 3. The ME-model is not feasible if TS_mn2_c is closed.\n",
      "             Processed:  9/25, Gaps: 3. The ME-model is feasible if TS_fad_c is closed.\n",
      "             Processed: 10/25, Gaps: 3. The ME-model is feasible if TS_accoa_c is closed.\n",
      "             Processed: 11/25, Gaps: 3. The ME-model is feasible if TS_nh4_c is closed.\n",
      "             Processed: 12/25, Gaps: 3. The ME-model is feasible if TS_fe2_c is closed.\n",
      "             Processed: 13/25, Gaps: 3. The ME-model is feasible if TS_na1_c is closed.\n",
      "             Processed: 14/25, Gaps: 3. The ME-model is feasible if TS_pi_c is closed.\n",
      "             Processed: 15/25, Gaps: 4. The ME-model is not feasible if TS_4fe4s_c is closed.\n",
      "             Processed: 16/25, Gaps: 4. The ME-model is feasible if TS_nadh_c is closed.\n",
      "             Processed: 17/25, Gaps: 4. The ME-model is feasible if TS_fadh2_c is closed.\n",
      "             Processed: 18/25, Gaps: 4. The ME-model is feasible if TS_k_c is closed.\n",
      "             Processed: 19/25, Gaps: 4. The ME-model is feasible if TS_fmn_c is closed.\n",
      "             Processed: 20/25, Gaps: 4. The ME-model is feasible if TS_nad_c is closed.\n",
      "             Processed: 21/25, Gaps: 4. The ME-model is feasible if TS_nadph_c is closed.\n",
      "             Processed: 22/25, Gaps: 5. The ME-model is not feasible if TS_23bpg_c is closed.\n",
      "             Processed: 23/25, Gaps: 5. The ME-model is feasible if TS_dpm_c is closed.\n",
      "             Processed: 24/25, Gaps: 5. The ME-model is feasible if TS_pqq_c is closed.\n",
      "             Processed: 25/25, Gaps: 6. The ME-model is not feasible if TS_for_c is closed.\n",
      "~ Troubleshooter added the following sinks: TS_23bpg_c, TS_for_c, TS_cobalt2_c, TS_zn2_c, TS_mn2_c, TS_4fe4s_c.\n",
      "~ Final step. Fully optimizing with precision 1e-6 and save solution into the ME-model...\n",
      "  Gapfilled ME-model is feasible with growth rate 0.483924 (M-model: 0.527406).\n",
      "ME-model was saved in the ../../Zymomonas_mobilis/./outputs directory as MEModel-step3-zymomonas-TS.pkl\n"
     ]
    }
   ],
   "source": [
    "# Reload the modules\n",
    "#import sys\n",
    "#sys.path.insert(0, '../../')\n",
    "#importlib.reload(coralme.solver.solver)\n",
    "#importlib.reload(coralme.builder.main)\n",
    "#importlib.reload(coralme.core.model)\n",
    "#from coralme.builder.main import MEBuilder\n",
    "\n",
    "builder.troubleshoot(growth_key_and_value = { builder.me_model.mu : 0.001 })"
   ]
  },
  {
   "cell_type": "code",
   "execution_count": null,
   "id": "bef57c76-44cb-43ae-871a-b24ecb3414fe",
   "metadata": {},
   "outputs": [],
   "source": []
  }
 ],
 "metadata": {
  "kernelspec": {
   "display_name": "Python 3 (ipykernel)",
   "language": "python",
   "name": "python3"
  },
  "language_info": {
   "codemirror_mode": {
    "name": "ipython",
    "version": 3
   },
   "file_extension": ".py",
   "mimetype": "text/x-python",
   "name": "python",
   "nbconvert_exporter": "python",
   "pygments_lexer": "ipython3",
   "version": "3.10.16"
  },
  "toc-autonumbering": true,
  "toc-showcode": true
 },
 "nbformat": 4,
 "nbformat_minor": 5
}
