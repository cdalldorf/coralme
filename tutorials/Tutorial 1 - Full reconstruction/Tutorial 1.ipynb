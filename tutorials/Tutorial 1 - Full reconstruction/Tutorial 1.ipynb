{
 "cells": [
  {
   "cell_type": "markdown",
   "id": "fb270ec2-29da-4100-9485-39da5cce1663",
   "metadata": {},
   "source": [
    "# Tutorial 1: Full reconstruction\n",
    "\n",
    "In this tutorial we will reconstruct a _Bacillus subtilis_ ME-model from just the input files."
   ]
  },
  {
   "cell_type": "markdown",
   "id": "dbcc45ef-215d-4ee1-8383-bedd2efd084f",
   "metadata": {},
   "source": [
    "## Import libraries"
   ]
  },
  {
   "cell_type": "code",
   "execution_count": 2,
   "id": "d048f35f-6a3b-4642-86cd-49e4c4e4a187",
   "metadata": {
    "ExecuteTime": {
     "end_time": "2022-12-12T06:27:35.182100Z",
     "start_time": "2022-12-12T06:27:35.157355Z"
    }
   },
   "outputs": [
    {
     "data": {
      "text/html": [
       "<style>.container { width:95% !important; }</style>"
      ],
      "text/plain": [
       "<IPython.core.display.HTML object>"
      ]
     },
     "metadata": {},
     "output_type": "display_data"
    }
   ],
   "source": [
    "from IPython.display import display, HTML, Math, Markdown\n",
    "display(HTML(\"<style>.container { width:95% !important; }</style>\"))\n",
    "\n",
    "import sys\n",
    "sys.path.insert(0, '../../')\n",
    "\n",
    "import importlib\n",
    "import coralme\n",
    "import coralme.solver.solver\n",
    "import coralme.builder.main\n",
    "import coralme.core.model\n",
    "\n",
    "from coralme.builder.main import MEBuilder"
   ]
  },
  {
   "cell_type": "markdown",
   "id": "f40390ac-ebd6-4c7c-88dc-fb7d5b276383",
   "metadata": {},
   "source": [
    "## Path to configuration files"
   ]
  },
  {
   "cell_type": "markdown",
   "id": "fe8269c7-24de-4f65-b01f-3412883f238e",
   "metadata": {},
   "source": [
    "For more information about these files see [Description of inputs](../../docs/BasicInputs.ipynb)"
   ]
  },
  {
   "cell_type": "code",
   "execution_count": null,
   "id": "926268b9-f6cc-4e68-99dc-b451e0e6ce08",
   "metadata": {},
   "outputs": [],
   "source": [
    "ls ../../"
   ]
  },
  {
   "cell_type": "code",
   "execution_count": 14,
   "id": "d62ee683-429e-481b-87ea-8758c47886bb",
   "metadata": {},
   "outputs": [],
   "source": [
    "org = 'Bacillus_subtilis_ATC_27370' # Achromobacter, Zymomonas_mobilis, Bacillus_subtilis_ATC_27370\n",
    "\n",
    "if org == '':\n",
    "    organism = './organism.json'\n",
    "    inputs = './input.json'\n",
    "else:\n",
    "    organism = '../../species_files/'+org+'/organism.json'\n",
    "    inputs = '../../species_files/'+org+'/input.json'"
   ]
  },
  {
   "cell_type": "markdown",
   "id": "962f97bf-a03d-432f-916d-be11877033c4",
   "metadata": {},
   "source": [
    "## Create MEBuilder instance"
   ]
  },
  {
   "cell_type": "markdown",
   "id": "f9988c4f-9bc2-4716-b8f9-46b02d533b90",
   "metadata": {},
   "source": [
    "For more information about this class see [Arquitecture of coralME](../../docs/coralMEArquitecture.ipynb)"
   ]
  },
  {
   "cell_type": "code",
   "execution_count": 18,
   "id": "f980256d-0c33-4dcc-956b-4b5194b2fc07",
   "metadata": {},
   "outputs": [
    {
     "name": "stdout",
     "output_type": "stream",
     "text": [
      "{\n",
      "  \"m-model-path\": \"./inputs/converted_model.json\",\n",
      "  \"genbank-path\": \"./inputs/genome.gb\",\n",
      "  \"biocyc.genes\": \"./inputs/genes.txt\",\n",
      "  \"biocyc.prots\": \"./inputs/proteins.txt\",\n",
      "  \"biocyc.TUs\": \"./inputs/TUs.txt\",\n",
      "  \"biocyc.RNAs\": \"./inputs/RNAs.txt\",\n",
      "  \"biocyc.seqs\": \"./inputs/sequences.fasta\",\n",
      "  \"df_gene_cplxs_mods_rxns\": \"./outputs/building_data/automated-org-with-refs.xlsx\",\n",
      "  \"out_directory\": \"./outputs\",\n",
      "  \"log_directory\": \"./outputs\",\n",
      "  \"run_bbh_blast\": true,\n",
      "  \"e_value_cutoff\": 1e-10,\n",
      "  \"dev_reference\": true,\n",
      "  \"include_pseudo_genes\": true,\n",
      "  \"locus_tag\" : \"locus_tag\"\n",
      "}"
     ]
    }
   ],
   "source": [
    "cat '../../species_files/Bacillus_subtilis_ATC_27370/input.json'"
   ]
  },
  {
   "cell_type": "code",
   "execution_count": 15,
   "id": "f83fbefc-c392-496d-9e1e-7820d1b6d60b",
   "metadata": {
    "scrolled": true,
    "tags": []
   },
   "outputs": [
    {
     "ename": "JSONDecodeError",
     "evalue": "Expecting value: line 2 column 18 (char 19)",
     "output_type": "error",
     "traceback": [
      "\u001b[0;31m---------------------------------------------------------------------------\u001b[0m",
      "\u001b[0;31mJSONDecodeError\u001b[0m                           Traceback (most recent call last)",
      "Cell \u001b[0;32mIn[15], line 1\u001b[0m\n\u001b[0;32m----> 1\u001b[0m builder \u001b[38;5;241m=\u001b[39m \u001b[43mMEBuilder\u001b[49m\u001b[43m(\u001b[49m\u001b[38;5;241;43m*\u001b[39;49m\u001b[43m[\u001b[49m\u001b[43morganism\u001b[49m\u001b[43m,\u001b[49m\u001b[43m \u001b[49m\u001b[43minputs\u001b[49m\u001b[43m]\u001b[49m\u001b[43m)\u001b[49m\n",
      "File \u001b[0;32m~/zuniga/coralme/tutorials/Tutorial 1 - Full reconstruction/../../coralme/builder/main.py:76\u001b[0m, in \u001b[0;36mMEBuilder.__init__\u001b[0;34m(self, *args, **kwargs)\u001b[0m\n\u001b[1;32m     74\u001b[0m \u001b[38;5;28;01mfor\u001b[39;00m input_file \u001b[38;5;129;01min\u001b[39;00m args:\n\u001b[1;32m     75\u001b[0m \t\u001b[38;5;28;01mwith\u001b[39;00m \u001b[38;5;28mopen\u001b[39m(input_file, \u001b[38;5;124m'\u001b[39m\u001b[38;5;124mr\u001b[39m\u001b[38;5;124m'\u001b[39m) \u001b[38;5;28;01mas\u001b[39;00m infile:\n\u001b[0;32m---> 76\u001b[0m \t\tconfig\u001b[38;5;241m.\u001b[39mupdate(\u001b[43manyconfig\u001b[49m\u001b[38;5;241;43m.\u001b[39;49m\u001b[43mload\u001b[49m\u001b[43m(\u001b[49m\u001b[43minfile\u001b[49m\u001b[43m)\u001b[49m)\n\u001b[1;32m     78\u001b[0m \u001b[38;5;28;01mif\u001b[39;00m kwargs:\n\u001b[1;32m     79\u001b[0m \tconfig\u001b[38;5;241m.\u001b[39mupdate(kwargs)\n",
      "File \u001b[0;32m~/miniforge3/envs/coralme/lib/python3.10/site-packages/anyconfig/api/_load.py:297\u001b[0m, in \u001b[0;36mload\u001b[0;34m(path_specs, ac_parser, ac_dict, ac_template, ac_context, **options)\u001b[0m\n\u001b[1;32m    294\u001b[0m     \u001b[38;5;28;01mraise\u001b[39;00m \u001b[38;5;167;01mValueError\u001b[39;00m(\u001b[38;5;124mf\u001b[39m\u001b[38;5;124m'\u001b[39m\u001b[38;5;124mMaybe invalid input: \u001b[39m\u001b[38;5;132;01m{\u001b[39;00mpath_specs\u001b[38;5;132;01m!r}\u001b[39;00m\u001b[38;5;124m'\u001b[39m)\n\u001b[1;32m    296\u001b[0m \u001b[38;5;28;01mif\u001b[39;00m \u001b[38;5;28mlen\u001b[39m(iois) \u001b[38;5;241m==\u001b[39m \u001b[38;5;241m1\u001b[39m:\n\u001b[0;32m--> 297\u001b[0m     \u001b[38;5;28;01mreturn\u001b[39;00m \u001b[43msingle_load\u001b[49m\u001b[43m(\u001b[49m\u001b[43miois\u001b[49m\u001b[43m[\u001b[49m\u001b[38;5;241;43m0\u001b[39;49m\u001b[43m]\u001b[49m\u001b[43m,\u001b[49m\u001b[43m \u001b[49m\u001b[43mac_parser\u001b[49m\u001b[38;5;241;43m=\u001b[39;49m\u001b[43mac_parser\u001b[49m\u001b[43m,\u001b[49m\u001b[43m \u001b[49m\u001b[43mac_dict\u001b[49m\u001b[38;5;241;43m=\u001b[39;49m\u001b[43mac_dict\u001b[49m\u001b[43m,\u001b[49m\n\u001b[1;32m    298\u001b[0m \u001b[43m                       \u001b[49m\u001b[43mac_template\u001b[49m\u001b[38;5;241;43m=\u001b[39;49m\u001b[43mac_template\u001b[49m\u001b[43m,\u001b[49m\u001b[43m \u001b[49m\u001b[43mac_context\u001b[49m\u001b[38;5;241;43m=\u001b[39;49m\u001b[43mac_context\u001b[49m\u001b[43m,\u001b[49m\n\u001b[1;32m    299\u001b[0m \u001b[43m                       \u001b[49m\u001b[38;5;241;43m*\u001b[39;49m\u001b[38;5;241;43m*\u001b[39;49m\u001b[43moptions\u001b[49m\u001b[43m)\u001b[49m\n\u001b[1;32m    301\u001b[0m \u001b[38;5;28;01mreturn\u001b[39;00m multi_load(iois, ac_parser\u001b[38;5;241m=\u001b[39mac_parser, ac_dict\u001b[38;5;241m=\u001b[39mac_dict,\n\u001b[1;32m    302\u001b[0m                   ac_template\u001b[38;5;241m=\u001b[39mac_template, ac_context\u001b[38;5;241m=\u001b[39mac_context,\n\u001b[1;32m    303\u001b[0m                   \u001b[38;5;241m*\u001b[39m\u001b[38;5;241m*\u001b[39moptions)\n",
      "File \u001b[0;32m~/miniforge3/envs/coralme/lib/python3.10/site-packages/anyconfig/api/_load.py:146\u001b[0m, in \u001b[0;36msingle_load\u001b[0;34m(input_, ac_parser, ac_template, ac_context, **options)\u001b[0m\n\u001b[1;32m     95\u001b[0m \u001b[38;5;250m\u001b[39m\u001b[38;5;124mr\u001b[39m\u001b[38;5;124;03m\"\"\"Load from single input ``input\\_``.\u001b[39;00m\n\u001b[1;32m     96\u001b[0m \n\u001b[1;32m     97\u001b[0m \u001b[38;5;124;03m.. note::\u001b[39;00m\n\u001b[0;32m   (...)\u001b[0m\n\u001b[1;32m    143\u001b[0m \u001b[38;5;124;03m:raises: ValueError, UnknownProcessorTypeError, UnknownFileTypeError\u001b[39;00m\n\u001b[1;32m    144\u001b[0m \u001b[38;5;124;03m\"\"\"\u001b[39;00m\n\u001b[1;32m    145\u001b[0m ioi \u001b[38;5;241m=\u001b[39m ioinfo\u001b[38;5;241m.\u001b[39mmake(input_)\n\u001b[0;32m--> 146\u001b[0m cnf \u001b[38;5;241m=\u001b[39m \u001b[43m_single_load\u001b[49m\u001b[43m(\u001b[49m\u001b[43mioi\u001b[49m\u001b[43m,\u001b[49m\u001b[43m \u001b[49m\u001b[43mac_parser\u001b[49m\u001b[38;5;241;43m=\u001b[39;49m\u001b[43mac_parser\u001b[49m\u001b[43m,\u001b[49m\u001b[43m \u001b[49m\u001b[43mac_template\u001b[49m\u001b[38;5;241;43m=\u001b[39;49m\u001b[43mac_template\u001b[49m\u001b[43m,\u001b[49m\n\u001b[1;32m    147\u001b[0m \u001b[43m                   \u001b[49m\u001b[43mac_context\u001b[49m\u001b[38;5;241;43m=\u001b[39;49m\u001b[43mac_context\u001b[49m\u001b[43m,\u001b[49m\u001b[43m \u001b[49m\u001b[38;5;241;43m*\u001b[39;49m\u001b[38;5;241;43m*\u001b[39;49m\u001b[43moptions\u001b[49m\u001b[43m)\u001b[49m\n\u001b[1;32m    148\u001b[0m schema \u001b[38;5;241m=\u001b[39m try_to_load_schema(\n\u001b[1;32m    149\u001b[0m     ac_template\u001b[38;5;241m=\u001b[39mac_template, ac_context\u001b[38;5;241m=\u001b[39mac_context, \u001b[38;5;241m*\u001b[39m\u001b[38;5;241m*\u001b[39moptions\n\u001b[1;32m    150\u001b[0m )\n\u001b[1;32m    151\u001b[0m \u001b[38;5;28;01mif\u001b[39;00m schema \u001b[38;5;129;01mand\u001b[39;00m \u001b[38;5;129;01mnot\u001b[39;00m is_valid(cnf, schema, \u001b[38;5;241m*\u001b[39m\u001b[38;5;241m*\u001b[39moptions):\n",
      "File \u001b[0;32m~/miniforge3/envs/coralme/lib/python3.10/site-packages/anyconfig/api/_load.py:87\u001b[0m, in \u001b[0;36m_single_load\u001b[0;34m(ioi, ac_parser, ac_template, ac_context, **options)\u001b[0m\n\u001b[1;32m     84\u001b[0m     \u001b[38;5;28;01mif\u001b[39;00m content \u001b[38;5;129;01mis\u001b[39;00m \u001b[38;5;129;01mnot\u001b[39;00m \u001b[38;5;28;01mNone\u001b[39;00m:\n\u001b[1;32m     85\u001b[0m         \u001b[38;5;28;01mreturn\u001b[39;00m psr\u001b[38;5;241m.\u001b[39mloads(content, \u001b[38;5;241m*\u001b[39m\u001b[38;5;241m*\u001b[39moptions)\n\u001b[0;32m---> 87\u001b[0m \u001b[38;5;28;01mreturn\u001b[39;00m \u001b[43mpsr\u001b[49m\u001b[38;5;241;43m.\u001b[39;49m\u001b[43mload\u001b[49m\u001b[43m(\u001b[49m\u001b[43mioi\u001b[49m\u001b[43m,\u001b[49m\u001b[43m \u001b[49m\u001b[38;5;241;43m*\u001b[39;49m\u001b[38;5;241;43m*\u001b[39;49m\u001b[43moptions\u001b[49m\u001b[43m)\u001b[49m\n",
      "File \u001b[0;32m~/miniforge3/envs/coralme/lib/python3.10/site-packages/anyconfig/backend/base/loaders.py:194\u001b[0m, in \u001b[0;36mLoaderMixin.load\u001b[0;34m(self, ioi, ac_ignore_missing, **options)\u001b[0m\n\u001b[1;32m    191\u001b[0m     \u001b[38;5;28;01mreturn\u001b[39;00m container()\n\u001b[1;32m    193\u001b[0m \u001b[38;5;28;01mif\u001b[39;00m ioinfo\u001b[38;5;241m.\u001b[39mis_stream(ioi):\n\u001b[0;32m--> 194\u001b[0m     cnf \u001b[38;5;241m=\u001b[39m \u001b[38;5;28;43mself\u001b[39;49m\u001b[38;5;241;43m.\u001b[39;49m\u001b[43mload_from_stream\u001b[49m\u001b[43m(\u001b[49m\n\u001b[1;32m    195\u001b[0m \u001b[43m        \u001b[49m\u001b[43mtyping\u001b[49m\u001b[38;5;241;43m.\u001b[39;49m\u001b[43mcast\u001b[49m\u001b[43m(\u001b[49m\u001b[43mtyping\u001b[49m\u001b[38;5;241;43m.\u001b[39;49m\u001b[43mIO\u001b[49m\u001b[43m,\u001b[49m\u001b[43m \u001b[49m\u001b[43mioi\u001b[49m\u001b[38;5;241;43m.\u001b[39;49m\u001b[43msrc\u001b[49m\u001b[43m)\u001b[49m\u001b[43m,\u001b[49m\u001b[43m \u001b[49m\u001b[43mcontainer\u001b[49m\u001b[43m,\u001b[49m\u001b[43m \u001b[49m\u001b[38;5;241;43m*\u001b[39;49m\u001b[38;5;241;43m*\u001b[39;49m\u001b[43moptions\u001b[49m\n\u001b[1;32m    196\u001b[0m \u001b[43m    \u001b[49m\u001b[43m)\u001b[49m\n\u001b[1;32m    197\u001b[0m \u001b[38;5;28;01melse\u001b[39;00m:\n\u001b[1;32m    198\u001b[0m     \u001b[38;5;28;01mif\u001b[39;00m ac_ignore_missing \u001b[38;5;129;01mand\u001b[39;00m \u001b[38;5;129;01mnot\u001b[39;00m pathlib\u001b[38;5;241m.\u001b[39mPath(ioi\u001b[38;5;241m.\u001b[39mpath)\u001b[38;5;241m.\u001b[39mexists():\n",
      "File \u001b[0;32m~/miniforge3/envs/coralme/lib/python3.10/site-packages/anyconfig/backend/base/parsers.py:171\u001b[0m, in \u001b[0;36mStringStreamFnParser.load_from_stream\u001b[0;34m(self, stream, container, **options)\u001b[0m\n\u001b[1;32m    161\u001b[0m \u001b[38;5;28;01mdef\u001b[39;00m\u001b[38;5;250m \u001b[39m\u001b[38;5;21mload_from_stream\u001b[39m(\u001b[38;5;28mself\u001b[39m, stream: typing\u001b[38;5;241m.\u001b[39mIO, container: GenContainerT,\n\u001b[1;32m    162\u001b[0m                      \u001b[38;5;241m*\u001b[39m\u001b[38;5;241m*\u001b[39moptions) \u001b[38;5;241m-\u001b[39m\u001b[38;5;241m>\u001b[39m InDataExT:\n\u001b[1;32m    163\u001b[0m \u001b[38;5;250m    \u001b[39m\u001b[38;5;124;03m\"\"\"Load data from given stream 'stream'.\u001b[39;00m\n\u001b[1;32m    164\u001b[0m \n\u001b[1;32m    165\u001b[0m \u001b[38;5;124;03m    :param stream: Stream provides configuration data\u001b[39;00m\n\u001b[0;32m   (...)\u001b[0m\n\u001b[1;32m    169\u001b[0m \u001b[38;5;124;03m    :return: container object holding the configuration data\u001b[39;00m\n\u001b[1;32m    170\u001b[0m \u001b[38;5;124;03m    \"\"\"\u001b[39;00m\n\u001b[0;32m--> 171\u001b[0m     \u001b[38;5;28;01mreturn\u001b[39;00m \u001b[43mload_with_fn\u001b[49m\u001b[43m(\u001b[49m\u001b[38;5;28;43mself\u001b[39;49m\u001b[38;5;241;43m.\u001b[39;49m\u001b[43m_load_from_stream_fn\u001b[49m\u001b[43m,\u001b[49m\u001b[43m \u001b[49m\u001b[43mstream\u001b[49m\u001b[43m,\u001b[49m\u001b[43m \u001b[49m\u001b[43mcontainer\u001b[49m\u001b[43m,\u001b[49m\n\u001b[1;32m    172\u001b[0m \u001b[43m                        \u001b[49m\u001b[43mallow_primitives\u001b[49m\u001b[38;5;241;43m=\u001b[39;49m\u001b[38;5;28;43mself\u001b[39;49m\u001b[38;5;241;43m.\u001b[39;49m\u001b[43mallow_primitives\u001b[49m\u001b[43m(\u001b[49m\u001b[43m)\u001b[49m\u001b[43m,\u001b[49m\n\u001b[1;32m    173\u001b[0m \u001b[43m                        \u001b[49m\u001b[38;5;241;43m*\u001b[39;49m\u001b[38;5;241;43m*\u001b[39;49m\u001b[43moptions\u001b[49m\u001b[43m)\u001b[49m\n",
      "File \u001b[0;32m~/miniforge3/envs/coralme/lib/python3.10/site-packages/anyconfig/backend/base/parsers.py:92\u001b[0m, in \u001b[0;36mload_with_fn\u001b[0;34m(load_fn, content_or_strm, container, allow_primitives, **options)\u001b[0m\n\u001b[1;32m     89\u001b[0m \u001b[38;5;28;01mif\u001b[39;00m load_fn \u001b[38;5;129;01mis\u001b[39;00m \u001b[38;5;28;01mNone\u001b[39;00m:\n\u001b[1;32m     90\u001b[0m     \u001b[38;5;28;01mraise\u001b[39;00m \u001b[38;5;167;01mTypeError\u001b[39;00m(\u001b[38;5;124m'\u001b[39m\u001b[38;5;124mThe first argument \u001b[39m\u001b[38;5;124m\"\u001b[39m\u001b[38;5;124mload_fn\u001b[39m\u001b[38;5;124m\"\u001b[39m\u001b[38;5;124m must be a callable!\u001b[39m\u001b[38;5;124m'\u001b[39m)\n\u001b[0;32m---> 92\u001b[0m ret \u001b[38;5;241m=\u001b[39m \u001b[43mload_fn\u001b[49m\u001b[43m(\u001b[49m\u001b[43mcontent_or_strm\u001b[49m\u001b[43m,\u001b[49m\u001b[43m \u001b[49m\u001b[38;5;241;43m*\u001b[39;49m\u001b[38;5;241;43m*\u001b[39;49m\u001b[43moptions\u001b[49m\u001b[43m)\u001b[49m\n\u001b[1;32m     93\u001b[0m \u001b[38;5;28;01mif\u001b[39;00m is_dict_like(ret):\n\u001b[1;32m     94\u001b[0m     \u001b[38;5;28;01mreturn\u001b[39;00m container() \u001b[38;5;28;01mif\u001b[39;00m (ret \u001b[38;5;129;01mis\u001b[39;00m \u001b[38;5;28;01mNone\u001b[39;00m \u001b[38;5;129;01mor\u001b[39;00m \u001b[38;5;129;01mnot\u001b[39;00m ret) \u001b[38;5;28;01melse\u001b[39;00m container(ret)\n",
      "File \u001b[0;32m~/miniforge3/envs/coralme/lib/python3.10/site-packages/anyconfig/backend/base/utils.py:35\u001b[0m, in \u001b[0;36mto_method.<locals>.wrapper\u001b[0;34m(*args, **kwargs)\u001b[0m\n\u001b[1;32m     32\u001b[0m \u001b[38;5;129m@functools\u001b[39m\u001b[38;5;241m.\u001b[39mwraps(func)\n\u001b[1;32m     33\u001b[0m \u001b[38;5;28;01mdef\u001b[39;00m\u001b[38;5;250m \u001b[39m\u001b[38;5;21mwrapper\u001b[39m(\u001b[38;5;241m*\u001b[39margs, \u001b[38;5;241m*\u001b[39m\u001b[38;5;241m*\u001b[39mkwargs):\n\u001b[1;32m     34\u001b[0m \u001b[38;5;250m    \u001b[39m\u001b[38;5;124;03m\"\"\"Original function decorated.\"\"\"\u001b[39;00m\n\u001b[0;32m---> 35\u001b[0m     \u001b[38;5;28;01mreturn\u001b[39;00m \u001b[43mfunc\u001b[49m\u001b[43m(\u001b[49m\u001b[38;5;241;43m*\u001b[39;49m\u001b[43margs\u001b[49m\u001b[43m[\u001b[49m\u001b[38;5;241;43m1\u001b[39;49m\u001b[43m:\u001b[49m\u001b[43m]\u001b[49m\u001b[43m,\u001b[49m\u001b[43m \u001b[49m\u001b[38;5;241;43m*\u001b[39;49m\u001b[38;5;241;43m*\u001b[39;49m\u001b[43mkwargs\u001b[49m\u001b[43m)\u001b[49m\n",
      "File \u001b[0;32m~/miniforge3/envs/coralme/lib/python3.10/json/__init__.py:293\u001b[0m, in \u001b[0;36mload\u001b[0;34m(fp, cls, object_hook, parse_float, parse_int, parse_constant, object_pairs_hook, **kw)\u001b[0m\n\u001b[1;32m    274\u001b[0m \u001b[38;5;28;01mdef\u001b[39;00m\u001b[38;5;250m \u001b[39m\u001b[38;5;21mload\u001b[39m(fp, \u001b[38;5;241m*\u001b[39m, \u001b[38;5;28mcls\u001b[39m\u001b[38;5;241m=\u001b[39m\u001b[38;5;28;01mNone\u001b[39;00m, object_hook\u001b[38;5;241m=\u001b[39m\u001b[38;5;28;01mNone\u001b[39;00m, parse_float\u001b[38;5;241m=\u001b[39m\u001b[38;5;28;01mNone\u001b[39;00m,\n\u001b[1;32m    275\u001b[0m         parse_int\u001b[38;5;241m=\u001b[39m\u001b[38;5;28;01mNone\u001b[39;00m, parse_constant\u001b[38;5;241m=\u001b[39m\u001b[38;5;28;01mNone\u001b[39;00m, object_pairs_hook\u001b[38;5;241m=\u001b[39m\u001b[38;5;28;01mNone\u001b[39;00m, \u001b[38;5;241m*\u001b[39m\u001b[38;5;241m*\u001b[39mkw):\n\u001b[1;32m    276\u001b[0m \u001b[38;5;250m    \u001b[39m\u001b[38;5;124;03m\"\"\"Deserialize ``fp`` (a ``.read()``-supporting file-like object containing\u001b[39;00m\n\u001b[1;32m    277\u001b[0m \u001b[38;5;124;03m    a JSON document) to a Python object.\u001b[39;00m\n\u001b[1;32m    278\u001b[0m \n\u001b[0;32m   (...)\u001b[0m\n\u001b[1;32m    291\u001b[0m \u001b[38;5;124;03m    kwarg; otherwise ``JSONDecoder`` is used.\u001b[39;00m\n\u001b[1;32m    292\u001b[0m \u001b[38;5;124;03m    \"\"\"\u001b[39;00m\n\u001b[0;32m--> 293\u001b[0m     \u001b[38;5;28;01mreturn\u001b[39;00m \u001b[43mloads\u001b[49m\u001b[43m(\u001b[49m\u001b[43mfp\u001b[49m\u001b[38;5;241;43m.\u001b[39;49m\u001b[43mread\u001b[49m\u001b[43m(\u001b[49m\u001b[43m)\u001b[49m\u001b[43m,\u001b[49m\n\u001b[1;32m    294\u001b[0m \u001b[43m        \u001b[49m\u001b[38;5;28;43mcls\u001b[39;49m\u001b[38;5;241;43m=\u001b[39;49m\u001b[38;5;28;43mcls\u001b[39;49m\u001b[43m,\u001b[49m\u001b[43m \u001b[49m\u001b[43mobject_hook\u001b[49m\u001b[38;5;241;43m=\u001b[39;49m\u001b[43mobject_hook\u001b[49m\u001b[43m,\u001b[49m\n\u001b[1;32m    295\u001b[0m \u001b[43m        \u001b[49m\u001b[43mparse_float\u001b[49m\u001b[38;5;241;43m=\u001b[39;49m\u001b[43mparse_float\u001b[49m\u001b[43m,\u001b[49m\u001b[43m \u001b[49m\u001b[43mparse_int\u001b[49m\u001b[38;5;241;43m=\u001b[39;49m\u001b[43mparse_int\u001b[49m\u001b[43m,\u001b[49m\n\u001b[1;32m    296\u001b[0m \u001b[43m        \u001b[49m\u001b[43mparse_constant\u001b[49m\u001b[38;5;241;43m=\u001b[39;49m\u001b[43mparse_constant\u001b[49m\u001b[43m,\u001b[49m\u001b[43m \u001b[49m\u001b[43mobject_pairs_hook\u001b[49m\u001b[38;5;241;43m=\u001b[39;49m\u001b[43mobject_pairs_hook\u001b[49m\u001b[43m,\u001b[49m\u001b[43m \u001b[49m\u001b[38;5;241;43m*\u001b[39;49m\u001b[38;5;241;43m*\u001b[39;49m\u001b[43mkw\u001b[49m\u001b[43m)\u001b[49m\n",
      "File \u001b[0;32m~/miniforge3/envs/coralme/lib/python3.10/json/__init__.py:359\u001b[0m, in \u001b[0;36mloads\u001b[0;34m(s, cls, object_hook, parse_float, parse_int, parse_constant, object_pairs_hook, **kw)\u001b[0m\n\u001b[1;32m    357\u001b[0m \u001b[38;5;28;01mif\u001b[39;00m parse_constant \u001b[38;5;129;01mis\u001b[39;00m \u001b[38;5;129;01mnot\u001b[39;00m \u001b[38;5;28;01mNone\u001b[39;00m:\n\u001b[1;32m    358\u001b[0m     kw[\u001b[38;5;124m'\u001b[39m\u001b[38;5;124mparse_constant\u001b[39m\u001b[38;5;124m'\u001b[39m] \u001b[38;5;241m=\u001b[39m parse_constant\n\u001b[0;32m--> 359\u001b[0m \u001b[38;5;28;01mreturn\u001b[39;00m \u001b[38;5;28;43mcls\u001b[39;49m\u001b[43m(\u001b[49m\u001b[38;5;241;43m*\u001b[39;49m\u001b[38;5;241;43m*\u001b[39;49m\u001b[43mkw\u001b[49m\u001b[43m)\u001b[49m\u001b[38;5;241;43m.\u001b[39;49m\u001b[43mdecode\u001b[49m\u001b[43m(\u001b[49m\u001b[43ms\u001b[49m\u001b[43m)\u001b[49m\n",
      "File \u001b[0;32m~/miniforge3/envs/coralme/lib/python3.10/json/decoder.py:337\u001b[0m, in \u001b[0;36mJSONDecoder.decode\u001b[0;34m(self, s, _w)\u001b[0m\n\u001b[1;32m    332\u001b[0m \u001b[38;5;28;01mdef\u001b[39;00m\u001b[38;5;250m \u001b[39m\u001b[38;5;21mdecode\u001b[39m(\u001b[38;5;28mself\u001b[39m, s, _w\u001b[38;5;241m=\u001b[39mWHITESPACE\u001b[38;5;241m.\u001b[39mmatch):\n\u001b[1;32m    333\u001b[0m \u001b[38;5;250m    \u001b[39m\u001b[38;5;124;03m\"\"\"Return the Python representation of ``s`` (a ``str`` instance\u001b[39;00m\n\u001b[1;32m    334\u001b[0m \u001b[38;5;124;03m    containing a JSON document).\u001b[39;00m\n\u001b[1;32m    335\u001b[0m \n\u001b[1;32m    336\u001b[0m \u001b[38;5;124;03m    \"\"\"\u001b[39;00m\n\u001b[0;32m--> 337\u001b[0m     obj, end \u001b[38;5;241m=\u001b[39m \u001b[38;5;28;43mself\u001b[39;49m\u001b[38;5;241;43m.\u001b[39;49m\u001b[43mraw_decode\u001b[49m\u001b[43m(\u001b[49m\u001b[43ms\u001b[49m\u001b[43m,\u001b[49m\u001b[43m \u001b[49m\u001b[43midx\u001b[49m\u001b[38;5;241;43m=\u001b[39;49m\u001b[43m_w\u001b[49m\u001b[43m(\u001b[49m\u001b[43ms\u001b[49m\u001b[43m,\u001b[49m\u001b[43m \u001b[49m\u001b[38;5;241;43m0\u001b[39;49m\u001b[43m)\u001b[49m\u001b[38;5;241;43m.\u001b[39;49m\u001b[43mend\u001b[49m\u001b[43m(\u001b[49m\u001b[43m)\u001b[49m\u001b[43m)\u001b[49m\n\u001b[1;32m    338\u001b[0m     end \u001b[38;5;241m=\u001b[39m _w(s, end)\u001b[38;5;241m.\u001b[39mend()\n\u001b[1;32m    339\u001b[0m     \u001b[38;5;28;01mif\u001b[39;00m end \u001b[38;5;241m!=\u001b[39m \u001b[38;5;28mlen\u001b[39m(s):\n",
      "File \u001b[0;32m~/miniforge3/envs/coralme/lib/python3.10/json/decoder.py:355\u001b[0m, in \u001b[0;36mJSONDecoder.raw_decode\u001b[0;34m(self, s, idx)\u001b[0m\n\u001b[1;32m    353\u001b[0m     obj, end \u001b[38;5;241m=\u001b[39m \u001b[38;5;28mself\u001b[39m\u001b[38;5;241m.\u001b[39mscan_once(s, idx)\n\u001b[1;32m    354\u001b[0m \u001b[38;5;28;01mexcept\u001b[39;00m \u001b[38;5;167;01mStopIteration\u001b[39;00m \u001b[38;5;28;01mas\u001b[39;00m err:\n\u001b[0;32m--> 355\u001b[0m     \u001b[38;5;28;01mraise\u001b[39;00m JSONDecodeError(\u001b[38;5;124m\"\u001b[39m\u001b[38;5;124mExpecting value\u001b[39m\u001b[38;5;124m\"\u001b[39m, s, err\u001b[38;5;241m.\u001b[39mvalue) \u001b[38;5;28;01mfrom\u001b[39;00m\u001b[38;5;250m \u001b[39m\u001b[38;5;28;01mNone\u001b[39;00m\n\u001b[1;32m    356\u001b[0m \u001b[38;5;28;01mreturn\u001b[39;00m obj, end\n",
      "\u001b[0;31mJSONDecodeError\u001b[0m: Expecting value: line 2 column 18 (char 19)"
     ]
    }
   ],
   "source": [
    "builder = MEBuilder(*[organism, inputs])"
   ]
  },
  {
   "cell_type": "markdown",
   "id": "32472ecb-9d39-477c-a611-3fb43d2e3254",
   "metadata": {},
   "source": [
    "## Generate files\n",
    "\n",
    "This corresponds to _Synchronyze_ and _Complement_ steps in [Arquitecture of coralME](../../docs/coralMEArquitecture.ipynb)"
   ]
  },
  {
   "cell_type": "code",
   "execution_count": 4,
   "id": "33e8a1a3-3206-4bc9-9407-3c31f5367d29",
   "metadata": {
    "ExecuteTime": {
     "end_time": "2022-12-12T06:30:28.060280Z",
     "start_time": "2022-12-12T06:30:01.706785Z"
    },
    "scrolled": true,
    "tags": []
   },
   "outputs": [
    {
     "name": "stdout",
     "output_type": "stream",
     "text": [
      "Initiating file processing...\n",
      "~ Processing files for zymomonas...\n"
     ]
    },
    {
     "name": "stderr",
     "output_type": "stream",
     "text": [
      "Checking M-model metabolites...                                            : 100.0%|█████████|   813/  813 [00:00<00:00]\n",
      "Checking M-model genes...                                                  : 100.0%|█████████|   483/  483 [00:00<00:00]\n",
      "Checking M-model reactions...                                              : 100.0%|█████████|   872/  872 [00:00<00:00]\n",
      "Generating complexes dataframe from optional proteins file...              : 100.0%|█████████|  1745/ 1745 [00:00<00:00]\n",
      "Syncing optional genes file...                                             : 100.0%|█████████|  1811/ 1811 [00:00<00:00]\n",
      "Looking for duplicates within datasets...                                  : 100.0%|█████████|     5/    5 [00:00<00:00]\n",
      "Gathering ID occurrences across datasets...                                : 100.0%|█████████|  4564/ 4564 [00:00<00:00]\n",
      "Solving duplicates across datasets...                                      : 0.0%|               |     0/    0 [00:00<?]\n",
      "Pruning GenBank...                                                         : 100.0%|█████████|     1/    1 [00:00<00:00]\n",
      "Updating Genbank file with optional files...                               : 100.0%|█████████|  1811/ 1811 [00:00<00:00]\n",
      "Syncing optional files with genbank contigs...                             : 100.0%|█████████|  1789/ 1789 [00:28<00:00]\n",
      "Modifying metabolites with manual curation...                              : 0.0%|               |     0/    0 [00:00<?]\n",
      "Modifying metabolic reactions with manual curation...                      : 0.0%|               |     0/    0 [00:00<?]\n",
      "Adding manual curation of complexes...                                     : 0.0%|               |     0/    0 [00:00<?]\n",
      "Getting sigma factors...                                                   : 100.0%|█████████|    10/   10 [00:00<00:00]\n",
      "Getting generics from Genbank contigs...                                   : 100.0%|█████████|  1789/ 1789 [00:00<00:00]\n",
      "Getting TU-gene associations from optional TUs file...                     : 100.0%|█████████|  1259/ 1259 [00:00<00:00]\n",
      "Gathering ribosome stoichiometry...                                        : 100.0%|█████████|   108/  108 [00:00<00:00]\n",
      "Adding protein location...                                                 : 100.0%|█████████|  3504/ 3504 [00:00<00:00]\n",
      "Purging M-model genes...                                                   : 100.0%|█████████|   483/  483 [00:00<00:00]\n",
      "Getting enzyme-reaction associations...                                    : 100.0%|█████████|   872/  872 [00:08<00:00]\n"
     ]
    },
    {
     "name": "stdout",
     "output_type": "stream",
     "text": [
      "Reading zymomonas done.\n"
     ]
    },
    {
     "name": "stderr",
     "output_type": "stream",
     "text": [
      "Gathering M-model compartments...                                          : 100.0%|█████████|     3/    3 [00:00<00:00]\n",
      "Fixing compartments in M-model metabolites...                              : 100.0%|█████████|   812/  812 [00:00<00:00]\n",
      "Fixing missing names in M-model reactions...                               : 100.0%|█████████|   872/  872 [00:00<00:00]\n"
     ]
    },
    {
     "name": "stdout",
     "output_type": "stream",
     "text": [
      "~ Processing files for iJL1678b...\n"
     ]
    },
    {
     "name": "stderr",
     "output_type": "stream",
     "text": [
      "Checking M-model metabolites...                                            : 100.0%|█████████|  1660/ 1660 [00:00<00:00]\n",
      "Checking M-model genes...                                                  : 100.0%|█████████|  1271/ 1271 [00:00<00:00]\n",
      "Checking M-model reactions...                                              : 100.0%|█████████|  2377/ 2377 [00:00<00:00]\n",
      "Looking for duplicates within datasets...                                  : 100.0%|█████████|     5/    5 [00:00<00:00]\n",
      "Gathering ID occurrences across datasets...                                : 100.0%|█████████|  5606/ 5606 [00:00<00:00]\n",
      "Solving duplicates across datasets...                                      : 0.0%|               |     0/    0 [00:00<?]\n",
      "Getting sigma factors...                                                   : 100.0%|█████████|     7/    7 [00:00<00:00]\n",
      "Getting TU-gene associations from optional TUs file...                     : 100.0%|█████████|  1259/ 1259 [00:00<00:00]\n",
      "Adding protein location...                                                 : 100.0%|█████████|  1304/ 1304 [00:00<00:00]\n",
      "Purging M-model genes...                                                   : 100.0%|█████████|  1271/ 1271 [00:00<00:00]\n"
     ]
    },
    {
     "name": "stdout",
     "output_type": "stream",
     "text": [
      "Reading iJL1678b done.\n",
      "~ Running BLAST with 4 threads...\n"
     ]
    },
    {
     "name": "stderr",
     "output_type": "stream",
     "text": [
      "Converting Genbank contigs to FASTA for BLAST...                           : 100.0%|█████████|  1789/ 1789 [00:00<00:00]\n",
      "Converting Genbank contigs to FASTA for BLAST...                           : 100.0%|█████████|     1/    1 [00:00<00:00]\n"
     ]
    },
    {
     "name": "stdout",
     "output_type": "stream",
     "text": [
      "BLAST done.\n"
     ]
    },
    {
     "name": "stderr",
     "output_type": "stream",
     "text": [
      "Updating translocation machinery from homology...                          : 100.0%|█|     9/ \n",
      "Updating protein location from homology...                                 : 100.0%|█|   514/ \n",
      "Updating translocation multipliers from homology...                        : 100.0%|█|     3/ \n",
      "Updating lipoprotein precursors from homology...                           : 100.0%|█|    14/ \n",
      "Updating cleaved-methionine proteins from homology...                      : 100.0%|█|   343/ \n",
      "Mapping M-metabolites to E-metabolites...                                  : 100.0%|█|   147/ \n",
      "Updating generics from homology...                                         : 100.0%|█|    10/ \n",
      "Updating folding from homology...                                          : 100.0%|█|     2/ \n",
      "Updating ribosome subreaction machinery from homology...                   : 100.0%|█|     3/ \n",
      "Updating tRNA synthetases from homology...                                 : 100.0%|█|    20/ \n",
      "Updating peptide release factors from homology...                          : 100.0%|█|     3/ \n",
      "Updating transcription subreactions machinery from homology...             : 100.0%|█|     4/ \n",
      "Updating translation initiation subreactions from homology...              : 100.0%|█|     4/ \n",
      "Updating translation elongation subreactions from homology...              : 100.0%|█|     2/ \n",
      "Updating translation termination subreactions from homology...             : 100.0%|█|     9/ \n",
      "Updating special tRNA subreactions from homology...                        : 100.0%|█|     1/ \n",
      "Updating RNA degradosome composition from homology...                      : 100.0%|█|     1/ \n",
      "Updating excision machinery from homology...                               : 100.0%|█|     3/ \n",
      "Updating tRNA subreactions from homology...                                : 100.0%|█|     6/ \n",
      "Updating lipid modification machinery from homology...                     : 100.0%|█|     2/ \n",
      "Fixing M-model metabolites with homology...                                : 100.0%|█|   812/ \n",
      "Updating enzyme reaction association...                                    : 100.0%|█|   622/ \n",
      "Checking defined translocation pathways...                                 : 100.0%|█|     9/ \n",
      "Getting reaction Keffs...                                                  : 100.0%|█|   622/ \n"
     ]
    },
    {
     "name": "stdout",
     "output_type": "stream",
     "text": [
      "File processing done.\n"
     ]
    }
   ],
   "source": [
    "builder.generate_files(overwrite=True)"
   ]
  },
  {
   "cell_type": "markdown",
   "id": "0e9f5993-cbad-44e9-a1ce-51c43e69f565",
   "metadata": {},
   "source": [
    "## Build ME-model\n",
    "\n",
    "This corresponds to _Build_ in [Arquitecture of coralME](../../docs/coralMEArquitecture.ipynb)"
   ]
  },
  {
   "cell_type": "code",
   "execution_count": 5,
   "id": "df64d444-7726-4ab3-b597-74990636c428",
   "metadata": {
    "ExecuteTime": {
     "end_time": "2022-12-12T06:28:36.607889Z",
     "start_time": "2022-12-12T06:27:59.542579Z"
    },
    "scrolled": true,
    "tags": []
   },
   "outputs": [
    {
     "name": "stdout",
     "output_type": "stream",
     "text": [
      "Initiating ME-model reconstruction...\n"
     ]
    },
    {
     "name": "stderr",
     "output_type": "stream",
     "text": [
      "Adding biomass constraint(s) into the ME-model...                          : 100.0%|█|    11/ \n",
      "Adding Metabolites from M-model into the ME-model...                       : 100.0%|█|   814/ \n",
      "Adding Reactions from M-model into the ME-model...                         : 100.0%|█|   869/ \n",
      "Adding Transcriptional Units into the ME-model...                          : 100.0%|█|  1245/ \n",
      "Updating all TranslationReaction and TranscriptionReaction...              : 100.0%|█|  6982/ \n",
      "Removing SubReactions from ComplexData...                                  : 100.0%|█|  3794/ \n",
      "Adding ComplexFormation into the ME-model...                               : 100.0%|█|  3794/ \n",
      "Adding Generic(s) into the ME-model...                                     : 100.0%|█|    25/ \n",
      "Processing StoichiometricData in ME-model...                               : 100.0%|█|   773/ \n"
     ]
    },
    {
     "name": "stdout",
     "output_type": "stream",
     "text": [
      "ME-model was saved in the ../../Zymomonas_mobilis/./outputs directory as MEModel-step1-zymomonas.pkl\n"
     ]
    },
    {
     "name": "stderr",
     "output_type": "stream",
     "text": [
      "Adding tRNA synthetase(s) information into the ME-model...                 : 100.0%|█|   372/ \n",
      "Adding tRNA modification SubReactions...                                   : 0.0%| |     0/   \n",
      "Associating tRNA modification enzyme(s) to tRNA(s)...                      : 0.0%| |     0/   \n",
      "Adding SubReactions into TranslationReactions...                           : 100.0%|█|  3463/ \n",
      "Adding RNA Polymerase(s) into the ME-model...                              : 100.0%|█|    10/ \n",
      "Associating a RNA Polymerase to each Transcriptional Unit...               : 100.0%|█|  1245/ \n",
      "Processing ComplexData in ME-model...                                      : 100.0%|█|   248/ \n",
      "Adding ComplexFormation into the ME-model...                               : 100.0%|█|  3810/ \n",
      "Adding SubReactions into TranslationReactions...                           : 100.0%|█|  3463/ \n",
      "Adding Transcription SubReactions...                                       : 100.0%|█|  3041/ \n",
      "Processing StoichiometricData in SubReactionData...                        : 100.0%|█|   241/ \n",
      "Adding reaction subsystems from M-model into the ME-model...               : 100.0%|█|   869/ \n",
      "Processing StoichiometricData in ME-model...                               : 100.0%|█|   773/ \n",
      "Updating ME-model Reactions...                                             : 100.0%|█| 12740/1\n",
      "Updating all FormationReactions...                                         : 100.0%|█|  3810/ \n",
      "Recalculation of the elemental contribution in SubReactions...             : 100.0%|█|   272/ \n",
      "Updating all FormationReactions...                                         : 100.0%|█|  3810/ \n",
      "Updating FormationReactions involving a lipoyl prosthetic group...         : 0.0%| |     0/   \n",
      "Updating FormationReactions involving a glycyl radical...                  : 100.0%|█|     1/ \n",
      "Estimating effective turnover rates for reactions using the SASA method... : 100.0%|█|  1816/ \n",
      "Mapping effective turnover rates from user input...                        : 0.0%| |     0/   \n",
      "Setting the effective turnover rates using user input...                   : 100.0%|█|  1514/ \n",
      "Pruning unnecessary ComplexData reactions...                               : 100.0%|█|  3810/ \n",
      "Pruning unnecessary FoldedProtein reactions...                             : 0.0%| |     0/   \n",
      "Pruning unnecessary ProcessedProtein reactions...                          : 100.0%|█|  3682/ \n",
      "Pruning unnecessary TranslatedGene reactions...                            : 100.0%|█|  3505/ \n",
      "Pruning unnecessary TranscribedGene reactions...                           : 100.0%|█|  3584/ \n",
      "Pruning unnecessary Transcriptional Units...                               : 100.0%|█|  3040/ \n",
      "Pruning unnecessary ComplexData reactions...                               : 100.0%|█|   732/ \n",
      "Pruning unnecessary FoldedProtein reactions...                             : 0.0%| |     0/   \n",
      "Pruning unnecessary ProcessedProtein reactions...                          : 100.0%|█|   718/ \n",
      "Pruning unnecessary TranslatedGene reactions...                            : 100.0%|█|   718/ \n",
      "Pruning unnecessary TranscribedGene reactions...                           : 100.0%|█|   797/ \n",
      "Pruning unnecessary Transcriptional Units...                               : 100.0%|█|   763/ \n",
      "Pruning unnecessary ComplexData reactions...                               : 100.0%|█|   723/ \n",
      "Pruning unnecessary FoldedProtein reactions...                             : 0.0%| |     0/   \n",
      "Pruning unnecessary ProcessedProtein reactions...                          : 100.0%|█|   709/ \n",
      "Pruning unnecessary TranslatedGene reactions...                            : 100.0%|█|   709/ \n",
      "Pruning unnecessary TranscribedGene reactions...                           : 100.0%|█|   788/ \n",
      "Pruning unnecessary Transcriptional Units...                               : 100.0%|█|   754/ \n"
     ]
    },
    {
     "name": "stdout",
     "output_type": "stream",
     "text": [
      "ME-model was saved in the ../../Zymomonas_mobilis/./outputs directory as MEModel-step2-zymomonas.pkl\n",
      "ME-model reconstruction is done.\n",
      "Number of metabolites in the ME-model is 3138 (+286.45%, from 812)\n",
      "Number of reactions in the ME-model is 5378 (+516.74%, from 872)\n",
      "Number of genes in the ME-model is 786 (+62.73%, from 483)\n"
     ]
    }
   ],
   "source": [
    "builder.build_me_model(overwrite=True)"
   ]
  },
  {
   "cell_type": "markdown",
   "id": "eb86277a-16e5-490b-bcb2-99e0536e49da",
   "metadata": {},
   "source": [
    "## Troubleshoot ME-model\n",
    "\n",
    "This corresponds to _Find gaps_ in [Arquitecture of coralME](../../docs/coralMEArquitecture.ipynb)"
   ]
  },
  {
   "cell_type": "code",
   "execution_count": 6,
   "id": "49a10838-9065-402e-a364-0898f5a4d2ad",
   "metadata": {
    "scrolled": true,
    "tags": []
   },
   "outputs": [
    {
     "name": "stdout",
     "output_type": "stream",
     "text": [
      "The MINOS and quad MINOS solvers are a courtesy of Prof Michael A. Saunders. Please cite Ma, D., Yang, L., Fleming, R. et al. Reliable and efficient solution of genome-scale models of Metabolism and macromolecular Expression. Sci Rep 7, 40863 (2017). https://doi.org/10.1038/srep40863\n",
      "\n",
      "~ Troubleshooting started...\n",
      "  Checking if the ME-model can simulate growth without gapfilling reactions...\n",
      "  Original ME-model is not feasible with a tested growth rate of 0.001000 1/h\n",
      "  Step 1. Gapfill reactions to provide components of type 'ME-Deadends' using brute force.\n",
      "          Finding gaps in the ME-model...\n",
      "          Finding gaps from the M-model only...\n",
      "          6 metabolites were identified as deadends.\n",
      "            23bpg_c: Missing metabolite in the M-model.\n",
      "            cs_c: Missing metabolite in the M-model.\n",
      "            dpm_c: Missing metabolite in the M-model.\n",
      "            for_c: Missing metabolite in the M-model.\n",
      "            pqq_c: Missing metabolite in the M-model.\n",
      "            tl_c: Missing metabolite in the M-model.\n",
      "          Adding sink reactions for 6 metabolites...\n",
      "          Provided metabolites through sink reactions cannot recover growth. Proceeding to next set of metabolites.\n",
      "  Step 2. Gapfill reactions to provide components of type 'Cofactors' using brute force.\n",
      "          Adding sink reactions for 35 metabolites...\n",
      "            Sink reactions shortlisted to 25 metabolites.\n",
      "             Processed:  1/25, Gaps: 1. The ME-model is not feasible if TS_cobalt2_c is closed.\n",
      "             Processed:  2/25, Gaps: 1. The ME-model is feasible if TS_fmnh2_c is closed.\n",
      "             Processed:  3/25, Gaps: 1. The ME-model is feasible if TS_pydx5p_c is closed.\n",
      "             Processed:  4/25, Gaps: 1. The ME-model is feasible if TS_cd2_c is closed.\n",
      "             Processed:  5/25, Gaps: 1. The ME-model is feasible if TS_hco3_c is closed.\n",
      "             Processed:  6/25, Gaps: 2. The ME-model is not feasible if TS_zn2_c is closed.\n",
      "             Processed:  7/25, Gaps: 2. The ME-model is feasible if TS_mg2_c is closed.\n",
      "             Processed:  8/25, Gaps: 3. The ME-model is not feasible if TS_mn2_c is closed.\n",
      "             Processed:  9/25, Gaps: 3. The ME-model is feasible if TS_fad_c is closed.\n",
      "             Processed: 10/25, Gaps: 3. The ME-model is feasible if TS_accoa_c is closed.\n",
      "             Processed: 11/25, Gaps: 3. The ME-model is feasible if TS_nh4_c is closed.\n",
      "             Processed: 12/25, Gaps: 3. The ME-model is feasible if TS_fe2_c is closed.\n",
      "             Processed: 13/25, Gaps: 3. The ME-model is feasible if TS_na1_c is closed.\n",
      "             Processed: 14/25, Gaps: 3. The ME-model is feasible if TS_pi_c is closed.\n",
      "             Processed: 15/25, Gaps: 4. The ME-model is not feasible if TS_4fe4s_c is closed.\n",
      "             Processed: 16/25, Gaps: 4. The ME-model is feasible if TS_nadh_c is closed.\n",
      "             Processed: 17/25, Gaps: 4. The ME-model is feasible if TS_fadh2_c is closed.\n",
      "             Processed: 18/25, Gaps: 4. The ME-model is feasible if TS_k_c is closed.\n",
      "             Processed: 19/25, Gaps: 4. The ME-model is feasible if TS_fmn_c is closed.\n",
      "             Processed: 20/25, Gaps: 4. The ME-model is feasible if TS_nad_c is closed.\n",
      "             Processed: 21/25, Gaps: 4. The ME-model is feasible if TS_nadph_c is closed.\n",
      "             Processed: 22/25, Gaps: 5. The ME-model is not feasible if TS_23bpg_c is closed.\n",
      "             Processed: 23/25, Gaps: 5. The ME-model is feasible if TS_dpm_c is closed.\n",
      "             Processed: 24/25, Gaps: 5. The ME-model is feasible if TS_pqq_c is closed.\n",
      "             Processed: 25/25, Gaps: 6. The ME-model is not feasible if TS_for_c is closed.\n",
      "~ Troubleshooter added the following sinks: TS_23bpg_c, TS_for_c, TS_cobalt2_c, TS_zn2_c, TS_mn2_c, TS_4fe4s_c.\n",
      "~ Final step. Fully optimizing with precision 1e-6 and save solution into the ME-model...\n",
      "  Gapfilled ME-model is feasible with growth rate 0.483924 (M-model: 0.527406).\n",
      "ME-model was saved in the ../../Zymomonas_mobilis/./outputs directory as MEModel-step3-zymomonas-TS.pkl\n"
     ]
    }
   ],
   "source": [
    "# Reload the modules\n",
    "#import sys\n",
    "#sys.path.insert(0, '../../')\n",
    "#importlib.reload(coralme.solver.solver)\n",
    "#importlib.reload(coralme.builder.main)\n",
    "#importlib.reload(coralme.core.model)\n",
    "#from coralme.builder.main import MEBuilder\n",
    "\n",
    "builder.troubleshoot(growth_key_and_value = { builder.me_model.mu : 0.001 })"
   ]
  },
  {
   "cell_type": "code",
   "execution_count": null,
   "id": "bef57c76-44cb-43ae-871a-b24ecb3414fe",
   "metadata": {},
   "outputs": [],
   "source": []
  }
 ],
 "metadata": {
  "kernelspec": {
   "display_name": "Python 3 (ipykernel)",
   "language": "python",
   "name": "python3"
  },
  "language_info": {
   "codemirror_mode": {
    "name": "ipython",
    "version": 3
   },
   "file_extension": ".py",
   "mimetype": "text/x-python",
   "name": "python",
   "nbconvert_exporter": "python",
   "pygments_lexer": "ipython3",
   "version": "3.10.16"
  },
  "toc-autonumbering": true,
  "toc-showcode": true
 },
 "nbformat": 4,
 "nbformat_minor": 5
}
