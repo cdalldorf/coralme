{
 "cells": [
  {
   "cell_type": "markdown",
   "id": "fb270ec2-29da-4100-9485-39da5cce1663",
   "metadata": {},
   "source": [
    "# Tutorial 1: Full reconstruction\n",
    "\n",
    "In this tutorial we will reconstruct a ME-model from just the input files."
   ]
  },
  {
   "cell_type": "markdown",
   "id": "dbcc45ef-215d-4ee1-8383-bedd2efd084f",
   "metadata": {},
   "source": [
    "## Import libraries"
   ]
  },
  {
   "cell_type": "code",
   "execution_count": 1,
   "id": "d048f35f-6a3b-4642-86cd-49e4c4e4a187",
   "metadata": {
    "ExecuteTime": {
     "end_time": "2022-12-12T06:27:35.182100Z",
     "start_time": "2022-12-12T06:27:35.157355Z"
    }
   },
   "outputs": [
    {
     "data": {
      "text/html": [
       "<style>.container { width:95% !important; }</style>"
      ],
      "text/plain": [
       "<IPython.core.display.HTML object>"
      ]
     },
     "metadata": {},
     "output_type": "display_data"
    }
   ],
   "source": [
    "from IPython.display import display, HTML, Math, Markdown\n",
    "display(HTML(\"<style>.container { width:95% !important; }</style>\"))\n",
    "\n",
    "import sys\n",
    "sys.path.insert(0, '../../')\n",
    "\n",
    "import importlib\n",
    "import coralme\n",
    "import coralme.solver.solver\n",
    "import coralme.builder.main\n",
    "import coralme.core.model\n",
    "\n",
    "from coralme.builder.main import MEBuilder"
   ]
  },
  {
   "cell_type": "markdown",
   "id": "f40390ac-ebd6-4c7c-88dc-fb7d5b276383",
   "metadata": {},
   "source": [
    "## Path to configuration files"
   ]
  },
  {
   "cell_type": "markdown",
   "id": "fe8269c7-24de-4f65-b01f-3412883f238e",
   "metadata": {},
   "source": [
    "For more information about these files see [Description of inputs](../../docs/BasicInputs.ipynb)"
   ]
  },
  {
   "cell_type": "code",
   "execution_count": 2,
   "id": "d62ee683-429e-481b-87ea-8758c47886bb",
   "metadata": {},
   "outputs": [],
   "source": [
    "org = 'Achromobacter' # Achromobacter, Zymomonas_mobilis, Bacillus_subtilis_ATC_27370\n",
    "\n",
    "if org == '':\n",
    "    organism = './organism.json'\n",
    "    inputs = './input.json'\n",
    "else:\n",
    "    organism = '../../species_files/'+org+'/organism.json'\n",
    "    inputs = '../../species_files/'+org+'/input.json'"
   ]
  },
  {
   "cell_type": "markdown",
   "id": "962f97bf-a03d-432f-916d-be11877033c4",
   "metadata": {},
   "source": [
    "## Create MEBuilder instance"
   ]
  },
  {
   "cell_type": "markdown",
   "id": "f9988c4f-9bc2-4716-b8f9-46b02d533b90",
   "metadata": {},
   "source": [
    "For more information about this class see [Arquitecture of coralME](../../docs/coralMEArquitecture.ipynb)"
   ]
  },
  {
   "cell_type": "code",
   "execution_count": 3,
   "id": "f83fbefc-c392-496d-9e1e-7820d1b6d60b",
   "metadata": {
    "scrolled": true,
    "tags": []
   },
   "outputs": [],
   "source": [
    "builder = MEBuilder(*[organism, inputs])"
   ]
  },
  {
   "cell_type": "markdown",
   "id": "32472ecb-9d39-477c-a611-3fb43d2e3254",
   "metadata": {},
   "source": [
    "## Generate files\n",
    "\n",
    "This corresponds to _Synchronyze_ and _Complement_ steps in [Arquitecture of coralME](../../docs/coralMEArquitecture.ipynb)"
   ]
  },
  {
   "cell_type": "code",
   "execution_count": 4,
   "id": "33e8a1a3-3206-4bc9-9407-3c31f5367d29",
   "metadata": {
    "ExecuteTime": {
     "end_time": "2022-12-12T06:30:28.060280Z",
     "start_time": "2022-12-12T06:30:01.706785Z"
    },
    "tags": []
   },
   "outputs": [
    {
     "name": "stdout",
     "output_type": "stream",
     "text": [
      "Initiating file processing...\n",
      "~ Processing files for achromobacter...\n"
     ]
    },
    {
     "name": "stderr",
     "output_type": "stream",
     "text": [
      "Checking M-model metabolites...                                            : 100.0%|█████████|  1782/ 1782 [00:00<00:00]\n",
      "Checking M-model genes...                                                  : 100.0%|█████████|  1223/ 1223 [00:00<00:00]\n",
      "Checking M-model reactions...                                              : 100.0%|█████████|  2148/ 2148 [00:00<00:00]\n",
      "Syncing optional genes file...                                             : 0.0%|               |     0/    0 [00:00<?]\n",
      "Looking for duplicates within datasets...                                  : 100.0%|█████████|     5/    5 [00:00<00:00]\n",
      "Gathering ID occurrences across datasets...                                : 100.0%|█████████|  2148/ 2148 [00:00<00:00]\n",
      "Solving duplicates across datasets...                                      : 0.0%|               |     0/    0 [00:00<?]\n",
      "Pruning GenBank...                                                         : 100.0%|█████████|     1/    1 [00:09<00:00]\n",
      "Updating Genbank file with optional files...                               : 0.0%|               |     0/    0 [00:00<?]\n",
      "Syncing optional files with genbank contigs...                             : 100.0%|█████████|     1/    1 [01:02<00:00]\n",
      "Modifying metabolites with manual curation...                              : 0.0%|               |     0/    0 [00:00<?]\n",
      "Modifying metabolic reactions with manual curation...                      : 0.0%|               |     0/    0 [00:00<?]\n",
      "Adding manual curation of complexes...                                     : 0.0%|               |     0/    0 [00:00<?]\n",
      "Getting sigma factors...                                                   : 100.0%|█████████|    20/   20 [00:00<00:00]\n",
      "Getting generics from Genbank contigs...                                   : 100.0%|█████████|     1/    1 [00:00<00:00]\n",
      "Getting TU-gene associations from optional TUs file...                     : 0.0%|               |     0/    0 [00:00<?]\n",
      "Gathering ribosome stoichiometry...                                        : 100.0%|█████████|    56/   56 [00:00<00:00]\n",
      "Adding protein location...                                                 : 100.0%|█████████|  6088/ 6088 [00:00<00:00]\n",
      "Purging M-model genes...                                                   : 100.0%|█████████|  1223/ 1223 [00:01<00:00]\n",
      "Getting enzyme-reaction associations...                                    : 100.0%|█████████|  2148/ 2148 [00:34<00:00]\n"
     ]
    },
    {
     "name": "stdout",
     "output_type": "stream",
     "text": [
      "Reading achromobacter done.\n"
     ]
    },
    {
     "name": "stderr",
     "output_type": "stream",
     "text": [
      "Gathering M-model compartments...                                          : 100.0%|█████████|     3/    3 [00:00<00:00]\n",
      "Fixing compartments in M-model metabolites...                              : 100.0%|█████████|  1782/ 1782 [00:00<00:00]\n",
      "Fixing missing names in M-model reactions...                               : 100.0%|█████████|  2148/ 2148 [00:00<00:00]\n"
     ]
    },
    {
     "name": "stdout",
     "output_type": "stream",
     "text": [
      "~ Processing files for iJL1678b...\n"
     ]
    },
    {
     "name": "stderr",
     "output_type": "stream",
     "text": [
      "Checking M-model metabolites...                                            : 100.0%|█████████|  1660/ 1660 [00:00<00:00]\n",
      "Checking M-model genes...                                                  : 100.0%|█████████|  1271/ 1271 [00:00<00:00]\n",
      "Checking M-model reactions...                                              : 100.0%|█████████|  2377/ 2377 [00:00<00:00]\n",
      "Looking for duplicates within datasets...                                  : 100.0%|█████████|     5/    5 [00:00<00:00]\n",
      "Gathering ID occurrences across datasets...                                : 100.0%|█████████|  8709/ 8709 [00:00<00:00]\n",
      "Solving duplicates across datasets...                                      : 0.0%|               |     0/    0 [00:00<?]\n",
      "Getting sigma factors...                                                   : 100.0%|█████████|     7/    7 [00:00<00:00]\n",
      "Getting TU-gene associations from optional TUs file...                     : 100.0%|█████████|  3697/ 3697 [00:00<00:00]\n",
      "Adding protein location...                                                 : 100.0%|█████████|  1304/ 1304 [00:01<00:00]\n",
      "Purging M-model genes...                                                   : 100.0%|█████████|  1271/ 1271 [00:01<00:00]\n"
     ]
    },
    {
     "name": "stdout",
     "output_type": "stream",
     "text": [
      "Reading iJL1678b done.\n",
      "~ Running BLAST with 4 threads...\n"
     ]
    },
    {
     "name": "stderr",
     "output_type": "stream",
     "text": [
      "Converting Genbank contigs to FASTA for BLAST...                           : 100.0%|█████████|     1/    1 [00:00<00:00]\n",
      "Converting Genbank contigs to FASTA for BLAST...                           : 100.0%|█████████|     1/    1 [00:00<00:00]\n"
     ]
    },
    {
     "name": "stdout",
     "output_type": "stream",
     "text": [
      "BLAST done.\n"
     ]
    },
    {
     "name": "stderr",
     "output_type": "stream",
     "text": [
      "Updating translocation machinery from homology...                          : 100.0%|█████████|     9/    9 [00:00<00:00]\n",
      "Updating protein location from homology...                                 : 100.0%|█████████|   870/  870 [00:03<00:00]\n",
      "Updating translocation multipliers from homology...                        : 100.0%|█████████|     3/    3 [00:00<00:00]\n",
      "Updating lipoprotein precursors from homology...                           : 100.0%|█████████|    14/   14 [00:00<00:00]\n",
      "Updating cleaved-methionine proteins from homology...                      : 100.0%|█████████|   343/  343 [00:00<00:00]\n",
      "Mapping M-metabolites to E-metabolites...                                  : 100.0%|█████████|   147/  147 [00:00<00:00]\n",
      "Updating generics from homology...                                         : 100.0%|█████████|    10/   10 [00:00<00:00]\n",
      "Updating folding from homology...                                          : 100.0%|█████████|     2/    2 [00:00<00:00]\n",
      "Updating ribosome subreaction machinery from homology...                   : 100.0%|█████████|     3/    3 [00:00<00:00]\n",
      "Updating tRNA synthetases from homology...                                 : 100.0%|█████████|    20/   20 [00:00<00:00]\n",
      "Updating peptide release factors from homology...                          : 100.0%|█████████|     3/    3 [00:00<00:00]\n",
      "Updating transcription subreactions machinery from homology...             : 100.0%|█████████|     4/    4 [00:00<00:00]\n",
      "Updating translation initiation subreactions from homology...              : 100.0%|█████████|     4/    4 [00:00<00:00]\n",
      "Updating translation elongation subreactions from homology...              : 100.0%|█████████|     2/    2 [00:00<00:00]\n",
      "Updating translation termination subreactions from homology...             : 100.0%|█████████|     9/    9 [00:00<00:00]\n",
      "Updating special tRNA subreactions from homology...                        : 100.0%|█████████|     1/    1 [00:00<00:00]\n",
      "Updating RNA degradosome composition from homology...                      : 100.0%|█████████|     1/    1 [00:00<00:00]\n",
      "Updating excision machinery from homology...                               : 100.0%|█████████|     3/    3 [00:00<00:00]\n",
      "Updating tRNA subreactions from homology...                                : 100.0%|█████████|     6/    6 [00:00<00:00]\n",
      "Updating lipid modification machinery from homology...                     : 100.0%|█████████|     2/    2 [00:00<00:00]\n",
      "Fixing M-model metabolites with homology...                                : 100.0%|█████████|  1782/ 1782 [00:00<00:00]\n",
      "Updating enzyme reaction association...                                    : 100.0%|█████████|  1541/ 1541 [00:00<00:00]\n",
      "Getting tRNA to codon dictionary from 1                                    : 100.0%|█████████|  6155/ 6155 [00:24<00:00]\n",
      "Checking defined translocation pathways...                                 : 100.0%|█████████|     9/    9 [00:00<00:00]\n",
      "Getting reaction Keffs...                                                  : 100.0%|█████████|  1541/ 1541 [00:00<00:00]\n"
     ]
    },
    {
     "name": "stdout",
     "output_type": "stream",
     "text": [
      "File processing done.\n"
     ]
    }
   ],
   "source": [
    "builder.generate_files(overwrite=True)"
   ]
  },
  {
   "cell_type": "markdown",
   "id": "0e9f5993-cbad-44e9-a1ce-51c43e69f565",
   "metadata": {},
   "source": [
    "## Build ME-model\n",
    "\n",
    "This corresponds to _Build_ in [Arquitecture of coralME](../../docs/coralMEArquitecture.ipynb)"
   ]
  },
  {
   "cell_type": "code",
   "execution_count": 5,
   "id": "df64d444-7726-4ab3-b597-74990636c428",
   "metadata": {
    "ExecuteTime": {
     "end_time": "2022-12-12T06:28:36.607889Z",
     "start_time": "2022-12-12T06:27:59.542579Z"
    },
    "scrolled": true,
    "tags": []
   },
   "outputs": [
    {
     "name": "stdout",
     "output_type": "stream",
     "text": [
      "Initiating ME-model reconstruction...\n"
     ]
    },
    {
     "name": "stderr",
     "output_type": "stream",
     "text": [
      "Adding biomass constraint(s) into the ME-model...                          : 100.0%|█████████|    11/   11 [00:00<00:00]\n",
      "Adding Metabolites from M-model into the ME-model...                       : 100.0%|█████████|  1782/ 1782 [00:00<00:00]\n",
      "Adding Reactions from M-model into the ME-model...                         : 100.0%|█████████|  2146/ 2146 [00:00<00:00]\n",
      "Adding Transcriptional Units into the ME-model...                          : 0.0%|               |     0/    0 [00:00<?]\n",
      "Adding features from contig 1 into the ME-model...                         : 100.0%|█████████|  6155/ 6155 [00:56<00:00]\n",
      "Updating all TranslationReaction and TranscriptionReaction...              : 100.0%|█████████| 12825/12825 [00:27<00:00]\n",
      "Removing SubReactions from ComplexData...                                  : 100.0%|█████████|  6676/ 6676 [00:00<00:00]\n",
      "Adding ComplexFormation into the ME-model...                               : 100.0%|█████████|  6676/ 6676 [00:07<00:00]\n",
      "Adding Generic(s) into the ME-model...                                     : 100.0%|█████████|    18/   18 [00:00<00:00]\n",
      "Processing StoichiometricData in ME-model...                               : 100.0%|█████████|  1784/ 1784 [00:04<00:00]\n"
     ]
    },
    {
     "name": "stdout",
     "output_type": "stream",
     "text": [
      "ME-model was saved in the ../../species_files/Achromobacter/./outputs directory as MEModel-step1-achromobacter.pkl\n"
     ]
    },
    {
     "name": "stderr",
     "output_type": "stream",
     "text": [
      "Adding tRNA synthetase(s) information into the ME-model...                 : 100.0%|█████████|   210/  210 [00:00<00:00]\n",
      "Adding tRNA modification SubReactions...                                   : 0.0%|               |     0/    0 [00:00<?]\n",
      "Associating tRNA modification enzyme(s) to tRNA(s)...                      : 0.0%|               |     0/    0 [00:00<?]\n",
      "Adding SubReactions into TranslationReactions...                           : 100.0%|█████████|  6088/ 6088 [00:05<00:00]\n",
      "Adding RNA Polymerase(s) into the ME-model...                              : 100.0%|█████████|    20/   20 [00:00<00:00]\n",
      "Associating a RNA Polymerase to each Transcriptional Unit...               : 0.0%|               |     0/    0 [00:00<?]\n",
      "Processing ComplexData in ME-model...                                      : 100.0%|█████████|   332/  332 [00:00<00:00]\n",
      "Adding ComplexFormation into the ME-model...                               : 100.0%|█████████|  6702/ 6702 [00:00<00:00]\n",
      "Adding SubReactions into TranslationReactions...                           : 100.0%|█████████|  6088/ 6088 [00:05<00:00]\n",
      "Adding Transcription SubReactions...                                       : 100.0%|█████████|  6155/ 6155 [00:00<00:00]\n",
      "Processing StoichiometricData in SubReactionData...                        : 100.0%|█████████|   521/  521 [00:00<00:00]\n",
      "Adding reaction subsystems from M-model into the ME-model...               : 100.0%|█████████|  2146/ 2146 [00:00<00:00]\n",
      "Processing StoichiometricData in ME-model...                               : 100.0%|█████████|  1784/ 1784 [00:00<00:00]\n",
      "Updating ME-model Reactions...                                             : 100.0%|█████████| 25007/25007 [05:49<00:00]\n",
      "Updating all FormationReactions...                                         : 100.0%|█████████|  6702/ 6702 [00:00<00:00]\n",
      "Recalculation of the elemental contribution in SubReactions...             : 100.0%|█████████|   291/  291 [00:00<00:00]\n",
      "Updating all FormationReactions...                                         : 100.0%|█████████|  6702/ 6702 [00:00<00:00]\n",
      "Updating FormationReactions involving a lipoyl prosthetic group...         : 0.0%|               |     0/    0 [00:00<?]\n",
      "Updating FormationReactions involving a glycyl radical...                  : 0.0%|               |     0/    0 [00:00<?]\n",
      "Estimating effective turnover rates for reactions using the SASA method... : 100.0%|█████████|  5554/ 5554 [00:01<00:00]\n",
      "Mapping effective turnover rates from user input...                        : 0.0%|               |     0/    0 [00:00<?]\n",
      "Setting the effective turnover rates using user input...                   : 100.0%|█████████|  5070/ 5070 [00:02<00:00]\n",
      "Pruning unnecessary ComplexData reactions...                               : 100.0%|█████████|  6702/ 6702 [00:56<00:00]\n",
      "Pruning unnecessary FoldedProtein reactions...                             : 0.0%|               |     0/    0 [00:00<?]\n",
      "Pruning unnecessary ProcessedProtein reactions...                          : 100.0%|█████████|  6362/ 6362 [00:00<00:00]\n",
      "Pruning unnecessary TranslatedGene reactions...                            : 100.0%|█████████|  6326/ 6326 [00:53<00:00]\n",
      "Pruning unnecessary TranscribedGene reactions...                           : 100.0%|█████████|  6156/ 6156 [00:30<00:00]\n",
      "Pruning unnecessary Transcriptional Units...                               : 100.0%|█████████|  6154/ 6154 [00:33<00:00]\n",
      "Pruning unnecessary ComplexData reactions...                               : 100.0%|█████████|  1463/ 1463 [00:00<00:00]\n",
      "Pruning unnecessary FoldedProtein reactions...                             : 0.0%|               |     0/    0 [00:00<?]\n",
      "Pruning unnecessary ProcessedProtein reactions...                          : 100.0%|█████████|  1613/ 1613 [00:00<00:00]\n",
      "Pruning unnecessary TranslatedGene reactions...                            : 100.0%|█████████|  1612/ 1612 [00:00<00:00]\n",
      "Pruning unnecessary TranscribedGene reactions...                           : 100.0%|█████████|  1441/ 1441 [00:00<00:00]\n",
      "Pruning unnecessary Transcriptional Units...                               : 100.0%|█████████|  1439/ 1439 [00:07<00:00]\n",
      "Pruning unnecessary ComplexData reactions...                               : 100.0%|█████████|  1443/ 1443 [00:00<00:00]\n",
      "Pruning unnecessary FoldedProtein reactions...                             : 0.0%|               |     0/    0 [00:00<?]\n",
      "Pruning unnecessary ProcessedProtein reactions...                          : 100.0%|█████████|  1593/ 1593 [00:00<00:00]\n",
      "Pruning unnecessary TranslatedGene reactions...                            : 100.0%|█████████|  1593/ 1593 [00:00<00:00]\n",
      "Pruning unnecessary TranscribedGene reactions...                           : 100.0%|█████████|  1422/ 1422 [00:00<00:00]\n",
      "Pruning unnecessary Transcriptional Units...                               : 100.0%|█████████|  1420/ 1420 [00:07<00:00]\n"
     ]
    },
    {
     "name": "stdout",
     "output_type": "stream",
     "text": [
      "ME-model was saved in the ../../species_files/Achromobacter/./outputs directory as MEModel-step2-achromobacter.pkl\n",
      "ME-model reconstruction is done.\n",
      "Number of metabolites in the ME-model is 6332 (+255.33%, from 1782)\n",
      "Number of reactions in the ME-model is 12083 (+462.52%, from 2148)\n",
      "Number of genes in the ME-model is 1420 (+16.11%, from 1223)\n"
     ]
    }
   ],
   "source": [
    "builder.build_me_model(overwrite=True)"
   ]
  },
  {
   "cell_type": "markdown",
   "id": "eb86277a-16e5-490b-bcb2-99e0536e49da",
   "metadata": {},
   "source": [
    "## Troubleshoot ME-model\n",
    "\n",
    "This corresponds to _Find gaps_ in [Arquitecture of coralME](../../docs/coralMEArquitecture.ipynb)"
   ]
  },
  {
   "cell_type": "code",
   "execution_count": 8,
   "id": "49a10838-9065-402e-a364-0898f5a4d2ad",
   "metadata": {
    "scrolled": true,
    "tags": []
   },
   "outputs": [
    {
     "name": "stdout",
     "output_type": "stream",
     "text": [
      "The MINOS and quad MINOS solvers are a courtesy of Prof Michael A. Saunders. Please cite Ma, D., Yang, L., Fleming, R. et al. Reliable and efficient solution of genome-scale models of Metabolism and macromolecular Expression. Sci Rep 7, 40863 (2017). https://doi.org/10.1038/srep40863\n",
      "\n",
      "~ Troubleshooting started...\n",
      "  Checking if the ME-model can simulate growth without gapfilling reactions...\n",
      "  Original ME-model is not feasible with a tested growth rate of 0.001000 1/h\n",
      "  Step 1. Gapfill reactions to provide components of type 'ME-Deadends' using brute force.\n",
      "          Finding gaps in the ME-model...\n",
      "          Finding gaps from the M-model only...\n",
      "          8 metabolites were identified as deadends.\n",
      "            23bpg_c: Missing metabolite in the M-model.\n",
      "            coo_c: Missing metabolite in the M-model.\n",
      "            cosh_c: Missing metabolite in the M-model.\n",
      "            cs_c: Missing metabolite in the M-model.\n",
      "            dpm_c: Missing metabolite in the M-model.\n",
      "            hemed_c: Missing metabolite in the M-model.\n",
      "            pqq_c: Missing metabolite in the M-model.\n",
      "            tl_c: Missing metabolite in the M-model.\n",
      "          Adding sink reactions for 8 metabolites...\n",
      "          Provided metabolites through sink reactions cannot recover growth. Proceeding to next set of metabolites.\n",
      "  Step 2. Gapfill reactions to provide components of type 'Cofactors' using brute force.\n",
      "          Adding sink reactions for 59 metabolites...\n",
      "            Sink reactions shortlisted to 52 metabolites.\n",
      "             Processed:  1/52, Gaps: 0. The ME-model is feasible if TS_hemeO_c is closed.\n",
      "             Processed:  2/52, Gaps: 0. The ME-model is feasible if TS_zn2_c is closed.\n",
      "             Processed:  3/52, Gaps: 0. The ME-model is feasible if TS_hco3_c is closed.\n",
      "             Processed:  4/52, Gaps: 0. The ME-model is feasible if TS_pg140_p is closed.\n",
      "             Processed:  5/52, Gaps: 0. The ME-model is feasible if TS_pe181_p is closed.\n",
      "             Processed:  6/52, Gaps: 1. The ME-model is not feasible if TS_cbl1_c is closed.\n",
      "             Processed:  7/52, Gaps: 1. The ME-model is feasible if TS_2fe2s_c is closed.\n",
      "             Processed:  8/52, Gaps: 1. The ME-model is feasible if TS_pe140_p is closed.\n",
      "             Processed:  9/52, Gaps: 1. The ME-model is feasible if TS_nad_c is closed.\n",
      "             Processed: 10/52, Gaps: 1. The ME-model is feasible if TS_fad_c is closed.\n",
      "             Processed: 11/52, Gaps: 1. The ME-model is feasible if TS_pg181_p is closed.\n",
      "             Processed: 12/52, Gaps: 1. The ME-model is feasible if TS_pe180_p is closed.\n",
      "             Processed: 13/52, Gaps: 1. The ME-model is feasible if TS_fmnh2_c is closed.\n",
      "             Processed: 14/52, Gaps: 1. The ME-model is feasible if TS_nadh_c is closed.\n",
      "             Processed: 15/52, Gaps: 1. The ME-model is feasible if TS_nadp_c is closed.\n",
      "             Processed: 16/52, Gaps: 1. The ME-model is feasible if TS_pg120_p is closed.\n",
      "             Processed: 17/52, Gaps: 1. The ME-model is feasible if TS_pg161_p is closed.\n",
      "             Processed: 18/52, Gaps: 1. The ME-model is feasible if TS_mg2_c is closed.\n",
      "             Processed: 19/52, Gaps: 1. The ME-model is feasible if TS_pheme_c is closed.\n",
      "             Processed: 20/52, Gaps: 1. The ME-model is feasible if TS_cl_c is closed.\n",
      "             Processed: 21/52, Gaps: 1. The ME-model is feasible if TS_accoa_c is closed.\n",
      "             Processed: 22/52, Gaps: 1. The ME-model is feasible if TS_pe161_p is closed.\n",
      "             Processed: 23/52, Gaps: 1. The ME-model is feasible if TS_na1_c is closed.\n",
      "             Processed: 24/52, Gaps: 1. The ME-model is feasible if TS_cobalt2_c is closed.\n",
      "             Processed: 25/52, Gaps: 1. The ME-model is feasible if TS_cu2_c is closed.\n",
      "             Processed: 26/52, Gaps: 1. The ME-model is feasible if TS_cd2_c is closed.\n",
      "             Processed: 27/52, Gaps: 1. The ME-model is feasible if TS_pg160_p is closed.\n",
      "             Processed: 28/52, Gaps: 1. The ME-model is feasible if TS_fe3_c is closed.\n",
      "             Processed: 29/52, Gaps: 1. The ME-model is feasible if TS_thmpp_c is closed.\n",
      "             Processed: 30/52, Gaps: 1. The ME-model is feasible if TS_fe2_c is closed.\n",
      "             Processed: 31/52, Gaps: 1. The ME-model is feasible if TS_pg141_p is closed.\n",
      "             Processed: 32/52, Gaps: 1. The ME-model is feasible if TS_sheme_c is closed.\n",
      "             Processed: 33/52, Gaps: 1. The ME-model is feasible if TS_fmn_c is closed.\n",
      "             Processed: 34/52, Gaps: 1. The ME-model is feasible if TS_mn2_c is closed.\n",
      "             Processed: 35/52, Gaps: 1. The ME-model is feasible if TS_pi_c is closed.\n",
      "             Processed: 36/52, Gaps: 1. The ME-model is feasible if TS_amp_c is closed.\n",
      "             Processed: 37/52, Gaps: 1. The ME-model is feasible if TS_pydx5p_c is closed.\n",
      "             Processed: 38/52, Gaps: 1. The ME-model is feasible if TS_fadh2_c is closed.\n",
      "             Processed: 39/52, Gaps: 1. The ME-model is feasible if TS_bmocogdp_c is closed.\n",
      "             Processed: 40/52, Gaps: 1. The ME-model is feasible if TS_nh4_c is closed.\n",
      "             Processed: 41/52, Gaps: 1. The ME-model is feasible if TS_nadph_c is closed.\n",
      "             Processed: 42/52, Gaps: 2. The ME-model is not feasible if TS_4fe4s_c is closed.\n",
      "             Processed: 43/52, Gaps: 2. The ME-model is feasible if TS_k_c is closed.\n",
      "             Processed: 44/52, Gaps: 2. The ME-model is feasible if TS_ca2_c is closed.\n",
      "             Processed: 45/52, Gaps: 2. The ME-model is feasible if TS_pe160_p is closed.\n",
      "             Processed: 46/52, Gaps: 2. The ME-model is feasible if TS_23bpg_c is closed.\n",
      "             Processed: 47/52, Gaps: 2. The ME-model is feasible if TS_tl_c is closed.\n",
      "             Processed: 48/52, Gaps: 2. The ME-model is feasible if TS_pqq_c is closed.\n",
      "             Processed: 49/52, Gaps: 2. The ME-model is feasible if TS_dpm_c is closed.\n",
      "             Processed: 50/52, Gaps: 2. The ME-model is feasible if TS_coo_c is closed.\n",
      "             Processed: 51/52, Gaps: 2. The ME-model is feasible if TS_hemed_c is closed.\n",
      "             Processed: 52/52, Gaps: 2. The ME-model is feasible if TS_cosh_c is closed.\n",
      "~ Troubleshooter added the following sinks: TS_cbl1_c, TS_4fe4s_c.\n",
      "~ Final step. Fully optimizing with precision 1e-6 and save solution into the ME-model...\n",
      "  Gapfilled ME-model is feasible with growth rate 0.192384 (M-model: 0.214306).\n",
      "ME-model was saved in the ../../species_files/Achromobacter/./outputs directory as MEModel-step3-achromobacter-TS.pkl\n"
     ]
    }
   ],
   "source": [
    "# Reload the modules\n",
    "#import sys\n",
    "#sys.path.insert(0, '../../')\n",
    "#importlib.reload(coralme.solver.solver)\n",
    "#importlib.reload(coralme.builder.main)\n",
    "#importlib.reload(coralme.core.model)\n",
    "#from coralme.builder.main import MEBuilder\n",
    "\n",
    "builder.troubleshoot(growth_key_and_value = { builder.me_model.mu : 0.001 })"
   ]
  },
  {
   "cell_type": "code",
   "execution_count": null,
   "id": "bef57c76-44cb-43ae-871a-b24ecb3414fe",
   "metadata": {},
   "outputs": [],
   "source": []
  }
 ],
 "metadata": {
  "kernelspec": {
   "display_name": "Python 3 (ipykernel)",
   "language": "python",
   "name": "python3"
  },
  "language_info": {
   "codemirror_mode": {
    "name": "ipython",
    "version": 3
   },
   "file_extension": ".py",
   "mimetype": "text/x-python",
   "name": "python",
   "nbconvert_exporter": "python",
   "pygments_lexer": "ipython3",
   "version": "3.10.16"
  },
  "toc-autonumbering": true,
  "toc-showcode": true
 },
 "nbformat": 4,
 "nbformat_minor": 5
}
