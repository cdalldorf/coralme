{
 "cells": [
  {
   "cell_type": "markdown",
   "id": "fb270ec2-29da-4100-9485-39da5cce1663",
   "metadata": {},
   "source": [
    "# Tutorial 1: Full reconstruction\n",
    "\n",
    "In this tutorial we will reconstruct a ME-model from just the input files."
   ]
  },
  {
   "cell_type": "markdown",
   "id": "dbcc45ef-215d-4ee1-8383-bedd2efd084f",
   "metadata": {},
   "source": [
    "## Import libraries"
   ]
  },
  {
   "cell_type": "code",
   "execution_count": 1,
   "id": "d048f35f-6a3b-4642-86cd-49e4c4e4a187",
   "metadata": {
    "ExecuteTime": {
     "end_time": "2022-12-12T06:27:35.182100Z",
     "start_time": "2022-12-12T06:27:35.157355Z"
    }
   },
   "outputs": [
    {
     "data": {
      "text/html": [
       "<style>.container { width:95% !important; }</style>"
      ],
      "text/plain": [
       "<IPython.core.display.HTML object>"
      ]
     },
     "metadata": {},
     "output_type": "display_data"
    }
   ],
   "source": [
    "from IPython.display import display, HTML, Math, Markdown\n",
    "display(HTML(\"<style>.container { width:95% !important; }</style>\"))\n",
    "\n",
    "import sys\n",
    "sys.path.insert(0, '../../')\n",
    "\n",
    "import importlib\n",
    "import coralme\n",
    "import coralme.solver.solver\n",
    "import coralme.builder.main\n",
    "import coralme.core.model\n",
    "\n",
    "from coralme.builder.main import MEBuilder"
   ]
  },
  {
   "cell_type": "markdown",
   "id": "f40390ac-ebd6-4c7c-88dc-fb7d5b276383",
   "metadata": {},
   "source": [
    "## Path to configuration files"
   ]
  },
  {
   "cell_type": "markdown",
   "id": "fe8269c7-24de-4f65-b01f-3412883f238e",
   "metadata": {},
   "source": [
    "For more information about these files see [Description of inputs](../../docs/BasicInputs.ipynb)"
   ]
  },
  {
   "cell_type": "code",
   "execution_count": 2,
   "id": "d62ee683-429e-481b-87ea-8758c47886bb",
   "metadata": {},
   "outputs": [],
   "source": [
    "org = 'Zymomonas_mobilis' # Achromobacter, Zymomonas_mobilis, Bacillus_subtilis_ATC_27370\n",
    "\n",
    "if org == '':\n",
    "    organism = './organism.json'\n",
    "    inputs = './input.json'\n",
    "else:\n",
    "    organism = '../../species_files/'+org+'/organism.json'\n",
    "    inputs = '../../species_files/'+org+'/input.json'"
   ]
  },
  {
   "cell_type": "markdown",
   "id": "962f97bf-a03d-432f-916d-be11877033c4",
   "metadata": {},
   "source": [
    "## Create MEBuilder instance"
   ]
  },
  {
   "cell_type": "markdown",
   "id": "f9988c4f-9bc2-4716-b8f9-46b02d533b90",
   "metadata": {},
   "source": [
    "For more information about this class see [Arquitecture of coralME](../../docs/coralMEArquitecture.ipynb)"
   ]
  },
  {
   "cell_type": "code",
   "execution_count": 3,
   "id": "f83fbefc-c392-496d-9e1e-7820d1b6d60b",
   "metadata": {
    "scrolled": true,
    "tags": []
   },
   "outputs": [],
   "source": [
    "builder = MEBuilder(*[organism, inputs])"
   ]
  },
  {
   "cell_type": "markdown",
   "id": "32472ecb-9d39-477c-a611-3fb43d2e3254",
   "metadata": {},
   "source": [
    "## Generate files\n",
    "\n",
    "This corresponds to _Synchronyze_ and _Complement_ steps in [Arquitecture of coralME](../../docs/coralMEArquitecture.ipynb)"
   ]
  },
  {
   "cell_type": "code",
   "execution_count": 4,
   "id": "33e8a1a3-3206-4bc9-9407-3c31f5367d29",
   "metadata": {
    "ExecuteTime": {
     "end_time": "2022-12-12T06:30:28.060280Z",
     "start_time": "2022-12-12T06:30:01.706785Z"
    },
    "tags": []
   },
   "outputs": [
    {
     "name": "stdout",
     "output_type": "stream",
     "text": [
      "Initiating file processing...\n",
      "~ Processing files for zymomonas...\n"
     ]
    },
    {
     "name": "stderr",
     "output_type": "stream",
     "text": [
      "Checking M-model metabolites...                                            : 100\n",
      "Checking M-model genes...                                                  : 100\n",
      "Checking M-model reactions...                                              : 100\n",
      "Generating complexes dataframe from optional proteins file...              : 100\n",
      "Syncing optional genes file...                                             : 100\n",
      "Looking for duplicates within datasets...                                  : 100\n",
      "Gathering ID occurrences across datasets...                                : 100\n",
      "Solving duplicates across datasets...                                      : 0.0\n",
      "Pruning GenBank...                                                         : 100\n",
      "Updating Genbank file with optional files...                               : 100\n",
      "Syncing optional files with genbank contigs...                             : 100\n",
      "Modifying metabolites with manual curation...                              : 0.0\n",
      "Modifying metabolic reactions with manual curation...                      : 0.0\n",
      "Adding manual curation of complexes...                                     : 0.0\n",
      "Getting sigma factors...                                                   : 100\n",
      "Getting generics from Genbank contigs...                                   : 100\n",
      "Getting TU-gene associations from optional TUs file...                     : 100\n",
      "Gathering ribosome stoichiometry...                                        : 100\n",
      "Adding protein location...                                                 : 100\n",
      "Purging M-model genes...                                                   : 100\n",
      "Getting enzyme-reaction associations...                                    : 100\n"
     ]
    },
    {
     "name": "stdout",
     "output_type": "stream",
     "text": [
      "Reading zymomonas done.\n"
     ]
    },
    {
     "name": "stderr",
     "output_type": "stream",
     "text": [
      "Gathering M-model compartments...                                          : 100\n",
      "Fixing compartments in M-model metabolites...                              : 100\n",
      "Fixing missing names in M-model reactions...                               : 100\n"
     ]
    },
    {
     "name": "stdout",
     "output_type": "stream",
     "text": [
      "~ Processing files for iJL1678b...\n"
     ]
    },
    {
     "name": "stderr",
     "output_type": "stream",
     "text": [
      "Checking M-model metabolites...                                            : 100\n",
      "Checking M-model genes...                                                  : 100\n",
      "Checking M-model reactions...                                              : 100\n",
      "Looking for duplicates within datasets...                                  : 100\n",
      "Gathering ID occurrences across datasets...                                : 100\n",
      "Solving duplicates across datasets...                                      : 0.0\n",
      "Getting sigma factors...                                                   : 100\n",
      "Getting TU-gene associations from optional TUs file...                     : 100\n",
      "Adding protein location...                                                 : 100\n",
      "Purging M-model genes...                                                   : 100\n"
     ]
    },
    {
     "name": "stdout",
     "output_type": "stream",
     "text": [
      "Reading iJL1678b done.\n",
      "~ Running BLAST with 4 threads...\n"
     ]
    },
    {
     "name": "stderr",
     "output_type": "stream",
     "text": [
      "Converting Genbank contigs to FASTA for BLAST...                           : 100\n",
      "Converting Genbank contigs to FASTA for BLAST...                           : 100\n"
     ]
    },
    {
     "name": "stdout",
     "output_type": "stream",
     "text": [
      "BLAST done.\n"
     ]
    },
    {
     "name": "stderr",
     "output_type": "stream",
     "text": [
      "Updating translocation machinery from homology...                          : 100\n",
      "Updating protein location from homology...                                 : 100\n",
      "Updating translocation multipliers from homology...                        : 100\n",
      "Updating lipoprotein precursors from homology...                           : 100\n",
      "Updating cleaved-methionine proteins from homology...                      : 100\n",
      "Mapping M-metabolites to E-metabolites...                                  : 100\n",
      "Updating generics from homology...                                         : 100\n",
      "Updating folding from homology...                                          : 100\n",
      "Updating ribosome subreaction machinery from homology...                   : 100\n",
      "Updating tRNA synthetases from homology...                                 : 100\n",
      "Updating peptide release factors from homology...                          : 100\n",
      "Updating transcription subreactions machinery from homology...             : 100\n",
      "Updating translation initiation subreactions from homology...              : 100\n",
      "Updating translation elongation subreactions from homology...              : 100\n",
      "Updating translation termination subreactions from homology...             : 100\n",
      "Updating special tRNA subreactions from homology...                        : 100\n",
      "Updating RNA degradosome composition from homology...                      : 100\n",
      "Updating excision machinery from homology...                               : 100\n",
      "Updating tRNA subreactions from homology...                                : 100\n",
      "Updating lipid modification machinery from homology...                     : 100\n",
      "Fixing M-model metabolites with homology...                                : 100\n",
      "Updating enzyme reaction association...                                    : 100\n",
      "Checking defined translocation pathways...                                 : 100\n",
      "Getting reaction Keffs...                                                  : 100\n"
     ]
    },
    {
     "name": "stdout",
     "output_type": "stream",
     "text": [
      "File processing done.\n"
     ]
    }
   ],
   "source": [
    "builder.generate_files(overwrite=True)"
   ]
  },
  {
   "cell_type": "markdown",
   "id": "0e9f5993-cbad-44e9-a1ce-51c43e69f565",
   "metadata": {},
   "source": [
    "## Build ME-model\n",
    "\n",
    "This corresponds to _Build_ in [Arquitecture of coralME](../../docs/coralMEArquitecture.ipynb)"
   ]
  },
  {
   "cell_type": "code",
   "execution_count": 5,
   "id": "df64d444-7726-4ab3-b597-74990636c428",
   "metadata": {
    "ExecuteTime": {
     "end_time": "2022-12-12T06:28:36.607889Z",
     "start_time": "2022-12-12T06:27:59.542579Z"
    },
    "scrolled": true,
    "tags": []
   },
   "outputs": [
    {
     "name": "stdout",
     "output_type": "stream",
     "text": [
      "Initiating ME-model reconstruction...\n"
     ]
    },
    {
     "name": "stderr",
     "output_type": "stream",
     "text": [
      "Adding biomass constraint(s) into the ME-model...                          : 100\n",
      "Adding Metabolites from M-model into the ME-model...                       : 100\n",
      "Adding Reactions from M-model into the ME-model...                         : 100\n",
      "Adding Transcriptional Units into the ME-model...                          : 100\n",
      "Updating all TranslationReaction and TranscriptionReaction...              : 100\n",
      "Removing SubReactions from ComplexData...                                  : 100\n",
      "Adding ComplexFormation into the ME-model...                               : 100\n",
      "Adding Generic(s) into the ME-model...                                     : 100\n",
      "Processing StoichiometricData in ME-model...                               : 100\n"
     ]
    },
    {
     "name": "stdout",
     "output_type": "stream",
     "text": [
      "ME-model was saved in the ../../species_files/Zymomonas_mobilis/./outputs directory as MEModel-step1-zymomonas.pkl\n"
     ]
    },
    {
     "name": "stderr",
     "output_type": "stream",
     "text": [
      "Adding tRNA synthetase(s) information into the ME-model...                 : 100\n",
      "Adding tRNA modification SubReactions...                                   : 0.0\n",
      "Associating tRNA modification enzyme(s) to tRNA(s)...                      : 0.0\n",
      "Adding SubReactions into TranslationReactions...                           : 100\n",
      "Adding RNA Polymerase(s) into the ME-model...                              : 100\n",
      "Associating a RNA Polymerase to each Transcriptional Unit...               : 100\n",
      "Processing ComplexData in ME-model...                                      : 100\n",
      "Adding ComplexFormation into the ME-model...                               : 100\n",
      "Adding SubReactions into TranslationReactions...                           : 100\n",
      "Adding Transcription SubReactions...                                       : 100\n",
      "Processing StoichiometricData in SubReactionData...                        : 100\n",
      "Adding reaction subsystems from M-model into the ME-model...               : 100\n",
      "Processing StoichiometricData in ME-model...                               : 100\n",
      "Updating ME-model Reactions...                                             : 100\n",
      "Updating all FormationReactions...                                         : 100\n",
      "Recalculation of the elemental contribution in SubReactions...             : 100\n",
      "Updating all FormationReactions...                                         : 100\n",
      "Updating FormationReactions involving a lipoyl prosthetic group...         : 0.0\n",
      "Updating FormationReactions involving a glycyl radical...                  : 100\n",
      "Estimating effective turnover rates for reactions using the SASA method... : 100\n",
      "Mapping effective turnover rates from user input...                        : 0.0\n",
      "Setting the effective turnover rates using user input...                   : 100\n",
      "Pruning unnecessary ComplexData reactions...                               : 100\n",
      "Pruning unnecessary FoldedProtein reactions...                             : 0.0\n",
      "Pruning unnecessary ProcessedProtein reactions...                          : 100\n",
      "Pruning unnecessary TranslatedGene reactions...                            : 100\n",
      "Pruning unnecessary TranscribedGene reactions...                           : 100\n",
      "Pruning unnecessary Transcriptional Units...                               : 100\n",
      "Pruning unnecessary ComplexData reactions...                               : 100\n",
      "Pruning unnecessary FoldedProtein reactions...                             : 0.0\n",
      "Pruning unnecessary ProcessedProtein reactions...                          : 100\n",
      "Pruning unnecessary TranslatedGene reactions...                            : 100\n",
      "Pruning unnecessary TranscribedGene reactions...                           : 100\n",
      "Pruning unnecessary Transcriptional Units...                               : 100\n",
      "Pruning unnecessary ComplexData reactions...                               : 100\n",
      "Pruning unnecessary FoldedProtein reactions...                             : 0.0\n",
      "Pruning unnecessary ProcessedProtein reactions...                          : 100\n",
      "Pruning unnecessary TranslatedGene reactions...                            : 100\n",
      "Pruning unnecessary TranscribedGene reactions...                           : 100\n",
      "Pruning unnecessary Transcriptional Units...                               : 100\n"
     ]
    },
    {
     "name": "stdout",
     "output_type": "stream",
     "text": [
      "ME-model was saved in the ../../species_files/Zymomonas_mobilis/./outputs directory as MEModel-step2-zymomonas.pkl\n",
      "ME-model reconstruction is done.\n",
      "Number of metabolites in the ME-model is 3138 (+286.45%, from 812)\n",
      "Number of reactions in the ME-model is 5378 (+516.74%, from 872)\n",
      "Number of genes in the ME-model is 786 (+62.73%, from 483)\n"
     ]
    }
   ],
   "source": [
    "builder.build_me_model(overwrite=True)"
   ]
  },
  {
   "cell_type": "markdown",
   "id": "eb86277a-16e5-490b-bcb2-99e0536e49da",
   "metadata": {},
   "source": [
    "## Troubleshoot ME-model\n",
    "\n",
    "This corresponds to _Find gaps_ in [Arquitecture of coralME](../../docs/coralMEArquitecture.ipynb)"
   ]
  },
  {
   "cell_type": "code",
   "execution_count": null,
   "id": "49a10838-9065-402e-a364-0898f5a4d2ad",
   "metadata": {
    "scrolled": true,
    "tags": []
   },
   "outputs": [
    {
     "name": "stdout",
     "output_type": "stream",
     "text": [
      "The MINOS and quad MINOS solvers are a courtesy of Prof Michael A. Saunders. Please cite Ma, D., Yang, L., Fleming, R. et al. Reliable and efficient solution of genome-scale models of Metabolism and macromolecular Expression. Sci Rep 7, 40863 (2017). https://doi.org/10.1038/srep40863\n",
      "\n",
      "~ Troubleshooting started...\n",
      "  Checking if the ME-model can simulate growth without gapfilling reactions...\n"
     ]
    }
   ],
   "source": [
    "# Reload the modules\n",
    "#import sys\n",
    "#sys.path.insert(0, '../../')\n",
    "#importlib.reload(coralme.solver.solver)\n",
    "#importlib.reload(coralme.builder.main)\n",
    "#importlib.reload(coralme.core.model)\n",
    "#from coralme.builder.main import MEBuilder\n",
    "\n",
    "builder.troubleshoot(growth_key_and_value = { builder.me_model.mu : 0.001 })"
   ]
  },
  {
   "cell_type": "code",
   "execution_count": null,
   "id": "bef57c76-44cb-43ae-871a-b24ecb3414fe",
   "metadata": {},
   "outputs": [],
   "source": []
  }
 ],
 "metadata": {
  "kernelspec": {
   "display_name": "Python 3 (ipykernel)",
   "language": "python",
   "name": "python3"
  },
  "language_info": {
   "codemirror_mode": {
    "name": "ipython",
    "version": 3
   },
   "file_extension": ".py",
   "mimetype": "text/x-python",
   "name": "python",
   "nbconvert_exporter": "python",
   "pygments_lexer": "ipython3",
   "version": "3.10.16"
  },
  "toc-autonumbering": true,
  "toc-showcode": true
 },
 "nbformat": 4,
 "nbformat_minor": 5
}
