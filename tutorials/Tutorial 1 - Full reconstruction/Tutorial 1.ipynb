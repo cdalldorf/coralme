{
 "cells": [
  {
   "cell_type": "markdown",
   "id": "fb270ec2-29da-4100-9485-39da5cce1663",
   "metadata": {},
   "source": [
    "# Tutorial 1: Full reconstruction\n",
    "\n",
    "In this tutorial we will reconstruct a _Bacillus subtilis_ ME-model from just the input files."
   ]
  },
  {
   "cell_type": "markdown",
   "id": "dbcc45ef-215d-4ee1-8383-bedd2efd084f",
   "metadata": {},
   "source": [
    "## Import libraries"
   ]
  },
  {
   "cell_type": "code",
   "execution_count": 1,
   "id": "d048f35f-6a3b-4642-86cd-49e4c4e4a187",
   "metadata": {
    "ExecuteTime": {
     "end_time": "2022-12-12T06:27:35.182100Z",
     "start_time": "2022-12-12T06:27:35.157355Z"
    }
   },
   "outputs": [
    {
     "data": {
      "text/html": [
       "<style>.container { width:95% !important; }</style>"
      ],
      "text/plain": [
       "<IPython.core.display.HTML object>"
      ]
     },
     "metadata": {},
     "output_type": "display_data"
    }
   ],
   "source": [
    "from IPython.display import display, HTML, Math, Markdown\n",
    "display(HTML(\"<style>.container { width:95% !important; }</style>\"))\n",
    "\n",
    "import sys\n",
    "sys.path.insert(0, '../../')\n",
    "\n",
    "from coralme.builder.main import MEBuilder"
   ]
  },
  {
   "cell_type": "markdown",
   "id": "f40390ac-ebd6-4c7c-88dc-fb7d5b276383",
   "metadata": {},
   "source": [
    "## Path to configuration files"
   ]
  },
  {
   "cell_type": "markdown",
   "id": "fe8269c7-24de-4f65-b01f-3412883f238e",
   "metadata": {},
   "source": [
    "For more information about these files see [Description of inputs](../../docs/BasicInputs.ipynb)"
   ]
  },
  {
   "cell_type": "code",
   "execution_count": 2,
   "id": "d62ee683-429e-481b-87ea-8758c47886bb",
   "metadata": {},
   "outputs": [],
   "source": [
    "organism = '../../Zymomonas_mobilis/organism.json'\n",
    "inputs = '../../Zymomonas_mobilis/input.json'\n",
    "#organism = './organism.json'\n",
    "#inputs = './input.json'"
   ]
  },
  {
   "cell_type": "markdown",
   "id": "962f97bf-a03d-432f-916d-be11877033c4",
   "metadata": {},
   "source": [
    "## Create MEBuilder instance"
   ]
  },
  {
   "cell_type": "markdown",
   "id": "f9988c4f-9bc2-4716-b8f9-46b02d533b90",
   "metadata": {},
   "source": [
    "For more information about this class see [Arquitecture of coralME](../../docs/coralMEArquitecture.ipynb)"
   ]
  },
  {
   "cell_type": "code",
   "execution_count": 3,
   "id": "f83fbefc-c392-496d-9e1e-7820d1b6d60b",
   "metadata": {
    "tags": []
   },
   "outputs": [],
   "source": [
    "builder = MEBuilder(*[organism, inputs])"
   ]
  },
  {
   "cell_type": "markdown",
   "id": "32472ecb-9d39-477c-a611-3fb43d2e3254",
   "metadata": {},
   "source": [
    "## Generate files\n",
    "\n",
    "This corresponds to _Synchronyze_ and _Complement_ steps in [Arquitecture of coralME](../../docs/coralMEArquitecture.ipynb)"
   ]
  },
  {
   "cell_type": "code",
   "execution_count": 4,
   "id": "33e8a1a3-3206-4bc9-9407-3c31f5367d29",
   "metadata": {
    "ExecuteTime": {
     "end_time": "2022-12-12T06:30:28.060280Z",
     "start_time": "2022-12-12T06:30:01.706785Z"
    },
    "scrolled": true,
    "tags": []
   },
   "outputs": [
    {
     "name": "stdout",
     "output_type": "stream",
     "text": [
      "Initiating file processing...\n",
      "~ Processing files for zymomonas...\n"
     ]
    },
    {
     "name": "stderr",
     "output_type": "stream",
     "text": [
      "Checking M-model metabolites...                                            : 100.0%|█|   813/  813 [00:00<00:0\n",
      "Checking M-model genes...                                                  : 100.0%|█|   483/  483 [00:00<00:0\n",
      "Checking M-model reactions...                                              : 100.0%|█|   872/  872 [00:00<00:0\n",
      "Generating complexes dataframe from optional proteins file...              : 100.0%|█|  1745/ 1745 [00:00<00:0\n",
      "Syncing optional genes file...                                             : 100.0%|█|  1811/ 1811 [00:00<00:0\n",
      "Looking for duplicates within datasets...                                  : 100.0%|█|     5/    5 [00:00<00:0\n",
      "Gathering ID occurrences across datasets...                                : 100.0%|█|  4564/ 4564 [00:00<00:0\n",
      "Solving duplicates across datasets...                                      : 0.0%|     |     0/    0 [00:00<?]\n",
      "Pruning GenBank...                                                         : 100.0%|█|     1/    1 [00:00<00:0\n",
      "Updating Genbank file with optional files...                               : 100.0%|█|  1811/ 1811 [00:00<00:0\n",
      "Syncing optional files with genbank contigs...                             : 100.0%|█|  1789/ 1789 [00:24<00:0\n",
      "Modifying metabolites with manual curation...                              : 0.0%|     |     0/    0 [00:00<?]\n",
      "Modifying metabolic reactions with manual curation...                      : 0.0%|     |     0/    0 [00:00<?]\n",
      "Adding manual curation of complexes...                                     : 0.0%|     |     0/    0 [00:00<?]\n",
      "Getting sigma factors...                                                   : 100.0%|█|    10/   10 [00:00<00:0\n",
      "Getting generics from Genbank contigs...                                   : 100.0%|█|  1789/ 1789 [00:00<00:0\n",
      "Getting TU-gene associations from optional TUs file...                     : 100.0%|█|  1259/ 1259 [00:00<00:0\n",
      "Gathering ribosome stoichiometry...                                        : 100.0%|█|   108/  108 [00:00<00:0\n",
      "Adding protein location...                                                 : 100.0%|█|  3504/ 3504 [00:00<00:0\n",
      "Purging M-model genes...                                                   : 100.0%|█|   483/  483 [00:00<00:0\n",
      "Getting enzyme-reaction associations...                                    : 100.0%|█|   872/  872 [00:07<00:0\n"
     ]
    },
    {
     "name": "stdout",
     "output_type": "stream",
     "text": [
      "Reading zymomonas done.\n"
     ]
    },
    {
     "name": "stderr",
     "output_type": "stream",
     "text": [
      "Gathering M-model compartments...                                          : 100.0%|█|     3/    3 [00:00<00:0\n",
      "Fixing compartments in M-model metabolites...                              : 100.0%|█|   812/  812 [00:00<00:0\n",
      "Fixing missing names in M-model reactions...                               : 100.0%|█|   872/  872 [00:00<00:0\n"
     ]
    },
    {
     "name": "stdout",
     "output_type": "stream",
     "text": [
      "~ Processing files for iJL1678b...\n"
     ]
    },
    {
     "name": "stderr",
     "output_type": "stream",
     "text": [
      "Checking M-model metabolites...                                            : 100.0%|█|  1660/ 1660 [00:00<00:0\n",
      "Checking M-model genes...                                                  : 100.0%|█|  1271/ 1271 [00:00<00:0\n",
      "Checking M-model reactions...                                              : 100.0%|█|  2377/ 2377 [00:00<00:0\n",
      "Looking for duplicates within datasets...                                  : 100.0%|█|     5/    5 [00:00<00:0\n",
      "Gathering ID occurrences across datasets...                                : 100.0%|█|  5606/ 5606 [00:00<00:0\n",
      "Solving duplicates across datasets...                                      : 0.0%|     |     0/    0 [00:00<?]\n",
      "Getting sigma factors...                                                   : 100.0%|█|     7/    7 [00:00<00:0\n",
      "Getting TU-gene associations from optional TUs file...                     : 100.0%|█|  1259/ 1259 [00:00<00:0\n",
      "Adding protein location...                                                 : 100.0%|█|  1304/ 1304 [00:00<00:0\n",
      "Purging M-model genes...                                                   : 100.0%|█|  1271/ 1271 [00:00<00:0\n"
     ]
    },
    {
     "name": "stdout",
     "output_type": "stream",
     "text": [
      "Reading iJL1678b done.\n",
      "~ Running BLAST with 4 threads...\n"
     ]
    },
    {
     "name": "stderr",
     "output_type": "stream",
     "text": [
      "Converting Genbank contigs to FASTA for BLAST...                           : 100.0%|█|  1789/ 1789 [00:00<00:0\n",
      "Converting Genbank contigs to FASTA for BLAST...                           : 100.0%|█|     1/    1 [00:00<00:0\n"
     ]
    },
    {
     "name": "stdout",
     "output_type": "stream",
     "text": [
      "BLAST done.\n"
     ]
    },
    {
     "name": "stderr",
     "output_type": "stream",
     "text": [
      "Updating translocation machinery from homology...                          : 100.0%|█|     9/    9 [00:00<00:0\n",
      "Updating protein location from homology...                                 : 100.0%|█|   514/  514 [00:00<00:0\n",
      "Updating translocation multipliers from homology...                        : 100.0%|█|     3/    3 [00:00<00:0\n",
      "Updating lipoprotein precursors from homology...                           : 100.0%|█|    14/   14 [00:00<00:0\n",
      "Updating cleaved-methionine proteins from homology...                      : 100.0%|█|   343/  343 [00:00<00:0\n",
      "Mapping M-metabolites to E-metabolites...                                  : 100.0%|█|   147/  147 [00:00<00:0\n",
      "Updating generics from homology...                                         : 100.0%|█|    10/   10 [00:00<00:0\n",
      "Updating folding from homology...                                          : 100.0%|█|     2/    2 [00:00<00:0\n",
      "Updating ribosome subreaction machinery from homology...                   : 100.0%|█|     3/    3 [00:00<00:0\n",
      "Updating tRNA synthetases from homology...                                 : 100.0%|█|    20/   20 [00:00<00:0\n",
      "Updating peptide release factors from homology...                          : 100.0%|█|     3/    3 [00:00<00:0\n",
      "Updating transcription subreactions machinery from homology...             : 100.0%|█|     4/    4 [00:00<00:0\n",
      "Updating translation initiation subreactions from homology...              : 100.0%|█|     4/    4 [00:00<00:0\n",
      "Updating translation elongation subreactions from homology...              : 100.0%|█|     2/    2 [00:00<00:0\n",
      "Updating translation termination subreactions from homology...             : 100.0%|█|     9/    9 [00:00<00:0\n",
      "Updating special tRNA subreactions from homology...                        : 100.0%|█|     1/    1 [00:00<00:0\n",
      "Updating RNA degradosome composition from homology...                      : 100.0%|█|     1/    1 [00:00<00:0\n",
      "Updating excision machinery from homology...                               : 100.0%|█|     3/    3 [00:00<00:0\n",
      "Updating tRNA subreactions from homology...                                : 100.0%|█|     6/    6 [00:00<00:0\n",
      "Updating lipid modification machinery from homology...                     : 100.0%|█|     2/    2 [00:00<00:0\n",
      "Fixing M-model metabolites with homology...                                : 100.0%|█|   812/  812 [00:00<00:0\n",
      "Updating enzyme reaction association...                                    : 100.0%|█|   622/  622 [00:00<00:0\n",
      "Checking defined translocation pathways...                                 : 100.0%|█|     9/    9 [00:00<00:0\n",
      "Getting reaction Keffs...                                                  : 100.0%|█|   622/  622 [00:00<00:0\n"
     ]
    },
    {
     "name": "stdout",
     "output_type": "stream",
     "text": [
      "File processing done.\n"
     ]
    }
   ],
   "source": [
    "builder.generate_files(overwrite=True)"
   ]
  },
  {
   "cell_type": "markdown",
   "id": "0e9f5993-cbad-44e9-a1ce-51c43e69f565",
   "metadata": {},
   "source": [
    "## Build ME-model\n",
    "\n",
    "This corresponds to _Build_ in [Arquitecture of coralME](../../docs/coralMEArquitecture.ipynb)"
   ]
  },
  {
   "cell_type": "code",
   "execution_count": 5,
   "id": "df64d444-7726-4ab3-b597-74990636c428",
   "metadata": {
    "ExecuteTime": {
     "end_time": "2022-12-12T06:28:36.607889Z",
     "start_time": "2022-12-12T06:27:59.542579Z"
    },
    "scrolled": true,
    "tags": []
   },
   "outputs": [
    {
     "name": "stdout",
     "output_type": "stream",
     "text": [
      "Initiating ME-model reconstruction...\n"
     ]
    },
    {
     "name": "stderr",
     "output_type": "stream",
     "text": [
      "Adding biomass constraint(s) into the ME-model...                          : 100.0%|█|    11/   11 [00:00<00:0\n",
      "Adding Metabolites from M-model into the ME-model...                       : 100.0%|█|   814/  814 [00:00<00:0\n",
      "Adding Reactions from M-model into the ME-model...                         : 100.0%|█|   869/  869 [00:00<00:0\n",
      "Adding Transcriptional Units into the ME-model...                          : 100.0%|█|  1245/ 1245 [00:19<00:0\n",
      "Updating all TranslationReaction and TranscriptionReaction...              : 100.0%|█|  6982/ 6982 [00:18<00:0\n",
      "Removing SubReactions from ComplexData...                                  : 100.0%|█|  3794/ 3794 [00:00<00:0\n",
      "Adding ComplexFormation into the ME-model...                               : 100.0%|█|  3794/ 3794 [00:04<00:0\n",
      "Adding Generic(s) into the ME-model...                                     : 100.0%|█|    25/   25 [00:00<00:0\n",
      "Processing StoichiometricData in ME-model...                               : 100.0%|█|   773/  773 [00:01<00:0\n"
     ]
    },
    {
     "name": "stdout",
     "output_type": "stream",
     "text": [
      "ME-model was saved in the ../../Zymomonas_mobilis/./outputs directory as MEModel-step1-zymomonas.pkl\n"
     ]
    },
    {
     "name": "stderr",
     "output_type": "stream",
     "text": [
      "Adding tRNA synthetase(s) information into the ME-model...                 : 100.0%|█|   372/  372 [00:00<00:0\n",
      "Adding tRNA modification SubReactions...                                   : 0.0%|     |     0/    0 [00:00<?]\n",
      "Associating tRNA modification enzyme(s) to tRNA(s)...                      : 0.0%|     |     0/    0 [00:00<?]\n",
      "Adding SubReactions into TranslationReactions...                           : 100.0%|█|  3463/ 3463 [00:04<00:0\n",
      "Adding RNA Polymerase(s) into the ME-model...                              : 100.0%|█|    10/   10 [00:00<00:0\n",
      "Associating a RNA Polymerase to each Transcriptional Unit...               : 100.0%|█|  1245/ 1245 [00:00<00:0\n",
      "Processing ComplexData in ME-model...                                      : 100.0%|█|   248/  248 [00:00<00:0\n",
      "Adding ComplexFormation into the ME-model...                               : 100.0%|█|  3810/ 3810 [00:00<00:0\n",
      "Adding SubReactions into TranslationReactions...                           : 100.0%|█|  3463/ 3463 [00:03<00:0\n",
      "Adding Transcription SubReactions...                                       : 100.0%|█|  3041/ 3041 [00:00<00:0\n",
      "Processing StoichiometricData in SubReactionData...                        : 100.0%|█|   241/  241 [00:00<00:0\n",
      "Adding reaction subsystems from M-model into the ME-model...               : 100.0%|█|   869/  869 [00:00<00:0\n",
      "Processing StoichiometricData in ME-model...                               : 100.0%|█|   773/  773 [00:00<00:0\n",
      "Updating ME-model Reactions...                                             : 100.0%|█| 12740/12740 [03:44<00:0\n",
      "Updating all FormationReactions...                                         : 100.0%|█|  3810/ 3810 [00:00<00:0\n",
      "Recalculation of the elemental contribution in SubReactions...             : 100.0%|█|   272/  272 [00:00<00:0\n",
      "Updating all FormationReactions...                                         : 100.0%|█|  3810/ 3810 [00:00<00:0\n",
      "Updating FormationReactions involving a lipoyl prosthetic group...         : 0.0%|     |     0/    0 [00:00<?]\n",
      "Updating FormationReactions involving a glycyl radical...                  : 100.0%|█|     1/    1 [00:00<00:0\n",
      "Estimating effective turnover rates for reactions using the SASA method... : 100.0%|█|  1816/ 1816 [00:00<00:0\n",
      "Mapping effective turnover rates from user input...                        : 0.0%|     |     0/    0 [00:00<?]\n",
      "Setting the effective turnover rates using user input...                   : 100.0%|█|  1514/ 1514 [00:01<00:0\n",
      "Pruning unnecessary ComplexData reactions...                               : 100.0%|█|  3810/ 3810 [00:19<00:0\n",
      "Pruning unnecessary FoldedProtein reactions...                             : 0.0%|     |     0/    0 [00:00<?]\n",
      "Pruning unnecessary ProcessedProtein reactions...                          : 100.0%|█|  3682/ 3682 [00:00<00:0\n",
      "Pruning unnecessary TranslatedGene reactions...                            : 100.0%|█|  3505/ 3505 [00:16<00:0\n",
      "Pruning unnecessary TranscribedGene reactions...                           : 100.0%|█|  3584/ 3584 [00:08<00:0\n",
      "Pruning unnecessary Transcriptional Units...                               : 100.0%|█|  3040/ 3040 [00:11<00:0\n",
      "Pruning unnecessary ComplexData reactions...                               : 100.0%|█|   732/  732 [00:00<00:0\n",
      "Pruning unnecessary FoldedProtein reactions...                             : 0.0%|     |     0/    0 [00:00<?]\n",
      "Pruning unnecessary ProcessedProtein reactions...                          : 100.0%|█|   718/  718 [00:00<00:0\n",
      "Pruning unnecessary TranslatedGene reactions...                            : 100.0%|█|   718/  718 [00:00<00:0\n",
      "Pruning unnecessary TranscribedGene reactions...                           : 100.0%|█|   797/  797 [00:00<00:0\n",
      "Pruning unnecessary Transcriptional Units...                               : 100.0%|█|   763/  763 [00:06<00:0\n",
      "Pruning unnecessary ComplexData reactions...                               : 100.0%|█|   723/  723 [00:00<00:0\n",
      "Pruning unnecessary FoldedProtein reactions...                             : 0.0%|     |     0/    0 [00:00<?]\n",
      "Pruning unnecessary ProcessedProtein reactions...                          : 100.0%|█|   709/  709 [00:00<00:0\n",
      "Pruning unnecessary TranslatedGene reactions...                            : 100.0%|█|   709/  709 [00:00<00:0\n",
      "Pruning unnecessary TranscribedGene reactions...                           : 100.0%|█|   788/  788 [00:00<00:0\n",
      "Pruning unnecessary Transcriptional Units...                               : 100.0%|█|   754/  754 [00:06<00:0\n"
     ]
    },
    {
     "name": "stdout",
     "output_type": "stream",
     "text": [
      "ME-model was saved in the ../../Zymomonas_mobilis/./outputs directory as MEModel-step2-zymomonas.pkl\n",
      "ME-model reconstruction is done.\n",
      "Number of metabolites in the ME-model is 3138 (+286.45%, from 812)\n",
      "Number of reactions in the ME-model is 5378 (+516.74%, from 872)\n",
      "Number of genes in the ME-model is 786 (+62.73%, from 483)\n"
     ]
    }
   ],
   "source": [
    "builder.build_me_model(overwrite=True)"
   ]
  },
  {
   "cell_type": "markdown",
   "id": "eb86277a-16e5-490b-bcb2-99e0536e49da",
   "metadata": {},
   "source": [
    "## Troubleshoot ME-model\n",
    "\n",
    "This corresponds to _Find gaps_ in [Arquitecture of coralME](../../docs/coralMEArquitecture.ipynb)"
   ]
  },
  {
   "cell_type": "code",
   "execution_count": 8,
   "id": "49a10838-9065-402e-a364-0898f5a4d2ad",
   "metadata": {
    "tags": []
   },
   "outputs": [
    {
     "name": "stdout",
     "output_type": "stream",
     "text": [
      "The MINOS and quad MINOS solvers are a courtesy of Prof Michael A. Saunders. Please cite Ma, D., Yang, L., Fleming, R. et al. Reliable and efficient solution of genome-scale models of Metabolism and macromolecular Expression. Sci Rep 7, 40863 (2017). https://doi.org/10.1038/srep40863\n",
      "\n",
      "~ Troubleshooting started...\n",
      "  Checking if the ME-model can simulate growth without gapfilling reactions...\n"
     ]
    },
    {
     "ename": "AttributeError",
     "evalue": "'coo_matrix' object has no attribute 'flat'",
     "output_type": "error",
     "traceback": [
      "\u001b[0;31m---------------------------------------------------------------------------\u001b[0m",
      "\u001b[0;31mAttributeError\u001b[0m                            Traceback (most recent call last)",
      "Cell \u001b[0;32mIn[8], line 1\u001b[0m\n\u001b[0;32m----> 1\u001b[0m \u001b[43mbuilder\u001b[49m\u001b[38;5;241;43m.\u001b[39;49m\u001b[43mtroubleshoot\u001b[49m\u001b[43m(\u001b[49m\u001b[43mgrowth_key_and_value\u001b[49m\u001b[43m \u001b[49m\u001b[38;5;241;43m=\u001b[39;49m\u001b[43m \u001b[49m\u001b[43m{\u001b[49m\u001b[43m \u001b[49m\u001b[43mbuilder\u001b[49m\u001b[38;5;241;43m.\u001b[39;49m\u001b[43mme_model\u001b[49m\u001b[38;5;241;43m.\u001b[39;49m\u001b[43mmu\u001b[49m\u001b[43m \u001b[49m\u001b[43m:\u001b[49m\u001b[43m \u001b[49m\u001b[38;5;241;43m0.001\u001b[39;49m\u001b[43m \u001b[49m\u001b[43m}\u001b[49m\u001b[43m)\u001b[49m\n",
      "File \u001b[0;32m~/zuniga/coralme/tutorials/Tutorial 1 - Full reconstruction/../../coralme/builder/main.py:1571\u001b[0m, in \u001b[0;36mMEBuilder.troubleshoot\u001b[0;34m(self, growth_key_and_value, skip, guesses, platform, solver, savefile, gapfill_cofactors)\u001b[0m\n\u001b[1;32m   1550\u001b[0m \u001b[38;5;28;01mdef\u001b[39;00m\u001b[38;5;250m \u001b[39m\u001b[38;5;21mtroubleshoot\u001b[39m(\u001b[38;5;28mself\u001b[39m, growth_key_and_value \u001b[38;5;241m=\u001b[39m \u001b[38;5;28;01mNone\u001b[39;00m, skip \u001b[38;5;241m=\u001b[39m \u001b[38;5;28mset\u001b[39m(), guesses \u001b[38;5;241m=\u001b[39m \u001b[38;5;28mset\u001b[39m(), platform \u001b[38;5;241m=\u001b[39m \u001b[38;5;28;01mNone\u001b[39;00m, solver \u001b[38;5;241m=\u001b[39m \u001b[38;5;124m'\u001b[39m\u001b[38;5;124mgurobi\u001b[39m\u001b[38;5;124m'\u001b[39m, savefile \u001b[38;5;241m=\u001b[39m \u001b[38;5;28;01mNone\u001b[39;00m, gapfill_cofactors\u001b[38;5;241m=\u001b[39m\u001b[38;5;28;01mFalse\u001b[39;00m):\n\u001b[1;32m   1551\u001b[0m \u001b[38;5;250m\t\u001b[39m\u001b[38;5;124;03m\"\"\"\u001b[39;00m\n\u001b[1;32m   1552\u001b[0m \u001b[38;5;124;03m\tgrowth_key_and_value:\u001b[39;00m\n\u001b[1;32m   1553\u001b[0m \u001b[38;5;124;03m\t\tdictionary of Sympy.Symbol and value to replace\u001b[39;00m\n\u001b[0;32m   (...)\u001b[0m\n\u001b[1;32m   1568\u001b[0m \u001b[38;5;124;03m\t\tfile path (absolute or relative) to save the ME-model as a pickle file\u001b[39;00m\n\u001b[1;32m   1569\u001b[0m \u001b[38;5;124;03m\t\"\"\"\u001b[39;00m\n\u001b[0;32m-> 1571\u001b[0m \t\u001b[43mcoralme\u001b[49m\u001b[38;5;241;43m.\u001b[39;49m\u001b[43mbuilder\u001b[49m\u001b[38;5;241;43m.\u001b[39;49m\u001b[43mmain\u001b[49m\u001b[38;5;241;43m.\u001b[39;49m\u001b[43mMETroubleshooter\u001b[49m\u001b[43m(\u001b[49m\u001b[38;5;28;43mself\u001b[39;49m\u001b[43m)\u001b[49m\u001b[38;5;241;43m.\u001b[39;49m\u001b[43mtroubleshoot\u001b[49m\u001b[43m(\u001b[49m\u001b[43mgrowth_key_and_value\u001b[49m\u001b[43m,\u001b[49m\u001b[43m \u001b[49m\u001b[43mskip\u001b[49m\u001b[43m \u001b[49m\u001b[38;5;241;43m=\u001b[39;49m\u001b[43m \u001b[49m\u001b[43mskip\u001b[49m\u001b[43m,\u001b[49m\u001b[43m \u001b[49m\u001b[43mguesses\u001b[49m\u001b[43m \u001b[49m\u001b[38;5;241;43m=\u001b[39;49m\u001b[43m \u001b[49m\u001b[43mguesses\u001b[49m\u001b[43m,\u001b[49m\u001b[43m \u001b[49m\u001b[43mplatform\u001b[49m\u001b[43m \u001b[49m\u001b[38;5;241;43m=\u001b[39;49m\u001b[43m \u001b[49m\u001b[43mplatform\u001b[49m\u001b[43m,\u001b[49m\u001b[43m \u001b[49m\u001b[43msolver\u001b[49m\u001b[43m \u001b[49m\u001b[38;5;241;43m=\u001b[39;49m\u001b[43m \u001b[49m\u001b[43msolver\u001b[49m\u001b[43m,\u001b[49m\u001b[43m \u001b[49m\u001b[43msavefile\u001b[49m\u001b[43m \u001b[49m\u001b[38;5;241;43m=\u001b[39;49m\u001b[43m \u001b[49m\u001b[43msavefile\u001b[49m\u001b[43m,\u001b[49m\u001b[43mgapfill_cofactors\u001b[49m\u001b[38;5;241;43m=\u001b[39;49m\u001b[43mgapfill_cofactors\u001b[49m\u001b[43m)\u001b[49m\n\u001b[1;32m   1572\u001b[0m \tcoralme\u001b[38;5;241m.\u001b[39mbuilder\u001b[38;5;241m.\u001b[39mhelper_functions\u001b[38;5;241m.\u001b[39msave_curation_notes(\n\u001b[1;32m   1573\u001b[0m \t\t\t\u001b[38;5;28mself\u001b[39m\u001b[38;5;241m.\u001b[39mcuration_notes,\n\u001b[1;32m   1574\u001b[0m \t\t\t\u001b[38;5;28mself\u001b[39m\u001b[38;5;241m.\u001b[39mconfiguration[\u001b[38;5;124m'\u001b[39m\u001b[38;5;124mout_directory\u001b[39m\u001b[38;5;124m'\u001b[39m] \u001b[38;5;241m+\u001b[39m \u001b[38;5;124m'\u001b[39m\u001b[38;5;124m/curation_notes.json\u001b[39m\u001b[38;5;124m'\u001b[39m\n\u001b[1;32m   1575\u001b[0m \t\t)\n\u001b[1;32m   1576\u001b[0m \tcoralme\u001b[38;5;241m.\u001b[39mbuilder\u001b[38;5;241m.\u001b[39mhelper_functions\u001b[38;5;241m.\u001b[39mpublish_curation_notes(\n\u001b[1;32m   1577\u001b[0m \t\t\t\u001b[38;5;28mself\u001b[39m\u001b[38;5;241m.\u001b[39mcuration_notes,\n\u001b[1;32m   1578\u001b[0m \t\t\t\u001b[38;5;28mself\u001b[39m\u001b[38;5;241m.\u001b[39mconfiguration[\u001b[38;5;124m'\u001b[39m\u001b[38;5;124mout_directory\u001b[39m\u001b[38;5;124m'\u001b[39m]\u001b[38;5;241m+\u001b[39m \u001b[38;5;124m'\u001b[39m\u001b[38;5;124m/curation_notes.txt\u001b[39m\u001b[38;5;124m'\u001b[39m\n\u001b[1;32m   1579\u001b[0m \t\t)\n",
      "File \u001b[0;32m~/zuniga/coralme/tutorials/Tutorial 1 - Full reconstruction/../../coralme/builder/main.py:2965\u001b[0m, in \u001b[0;36mMETroubleshooter.troubleshoot\u001b[0;34m(self, growth_key_and_value, skip, guesses, met_types, platform, solver, savefile, gapfill_cofactors)\u001b[0m\n\u001b[1;32m   2963\u001b[0m \u001b[38;5;66;03m# Step 1. Test if current ME-model is feasible\u001b[39;00m\n\u001b[1;32m   2964\u001b[0m logging\u001b[38;5;241m.\u001b[39mwarning(\u001b[38;5;124m'\u001b[39m\u001b[38;5;124m  \u001b[39m\u001b[38;5;124m'\u001b[39m\u001b[38;5;241m*\u001b[39m\u001b[38;5;241m1\u001b[39m \u001b[38;5;241m+\u001b[39m \u001b[38;5;124m'\u001b[39m\u001b[38;5;124mChecking if the ME-model can simulate growth without gapfilling reactions...\u001b[39m\u001b[38;5;124m'\u001b[39m)\n\u001b[0;32m-> 2965\u001b[0m \u001b[38;5;28;01mif\u001b[39;00m \u001b[38;5;28;43mself\u001b[39;49m\u001b[38;5;241;43m.\u001b[39;49m\u001b[43mme_model\u001b[49m\u001b[38;5;241;43m.\u001b[39;49m\u001b[43mcheck_feasibility\u001b[49m\u001b[43m(\u001b[49m\u001b[43mkeys\u001b[49m\u001b[43m \u001b[49m\u001b[38;5;241;43m=\u001b[39;49m\u001b[43m \u001b[49m\u001b[43mgrowth_key_and_value\u001b[49m\u001b[43m)\u001b[49m:\n\u001b[1;32m   2966\u001b[0m \tlogging\u001b[38;5;241m.\u001b[39mwarning(\u001b[38;5;124m'\u001b[39m\u001b[38;5;124m  \u001b[39m\u001b[38;5;124m'\u001b[39m\u001b[38;5;241m*\u001b[39m\u001b[38;5;241m1\u001b[39m \u001b[38;5;241m+\u001b[39m \u001b[38;5;124m'\u001b[39m\u001b[38;5;124mOriginal ME-model is feasible with a tested growth rate of \u001b[39m\u001b[38;5;132;01m{:f}\u001b[39;00m\u001b[38;5;124m 1/h\u001b[39m\u001b[38;5;124m'\u001b[39m\u001b[38;5;241m.\u001b[39mformat(\u001b[38;5;28mlist\u001b[39m(growth_value)[\u001b[38;5;241m0\u001b[39m]))\n\u001b[1;32m   2967\u001b[0m \tworks \u001b[38;5;241m=\u001b[39m \u001b[38;5;28;01mTrue\u001b[39;00m\n",
      "File \u001b[0;32m~/zuniga/coralme/tutorials/Tutorial 1 - Full reconstruction/../../coralme/core/model.py:1563\u001b[0m, in \u001b[0;36mMEModel.feasibility\u001b[0;34m(self, keys, tolerance, precision, basis, **kwargs)\u001b[0m\n\u001b[1;32m   1561\u001b[0m \u001b[38;5;66;03m#me_nlp = ME_NLP(me)\u001b[39;00m\n\u001b[1;32m   1562\u001b[0m me_nlp \u001b[38;5;241m=\u001b[39m ME_NLP(Sf, \u001b[38;5;28mdict\u001b[39m(), b, c, lb, ub, cs, \u001b[38;5;28mset\u001b[39m(keys\u001b[38;5;241m.\u001b[39mkeys()), \u001b[38;5;28;01mNone\u001b[39;00m)\n\u001b[0;32m-> 1563\u001b[0m muopt, xopt, yopt, zopt, basis, stat \u001b[38;5;241m=\u001b[39m \u001b[43mme_nlp\u001b[49m\u001b[38;5;241;43m.\u001b[39;49m\u001b[43mbisectmu\u001b[49m\u001b[43m(\u001b[49m\n\u001b[1;32m   1564\u001b[0m \u001b[43m\t\t\u001b[49m\u001b[43mmumax\u001b[49m\u001b[43m \u001b[49m\u001b[38;5;241;43m=\u001b[39;49m\u001b[43m \u001b[49m\u001b[38;5;241;43m1.\u001b[39;49m\u001b[43m,\u001b[49m\u001b[43m \u001b[49m\u001b[38;5;66;43;03m# mu was already replaced and maxIter is one, so a value here doesn't matter\u001b[39;49;00m\n\u001b[1;32m   1565\u001b[0m \u001b[43m\t\t\u001b[49m\u001b[43mmumin\u001b[49m\u001b[43m \u001b[49m\u001b[38;5;241;43m=\u001b[39;49m\u001b[43m \u001b[49m\u001b[38;5;241;43m0.\u001b[39;49m\u001b[43m,\u001b[49m\n\u001b[1;32m   1566\u001b[0m \u001b[43m\t\t\u001b[49m\u001b[43mmaxIter\u001b[49m\u001b[43m \u001b[49m\u001b[38;5;241;43m=\u001b[39;49m\u001b[43m \u001b[49m\u001b[38;5;241;43m1\u001b[39;49m\u001b[43m,\u001b[49m\n\u001b[1;32m   1567\u001b[0m \u001b[43m\t\t\u001b[49m\u001b[43mbasis\u001b[49m\u001b[43m \u001b[49m\u001b[38;5;241;43m=\u001b[39;49m\u001b[43m \u001b[49m\u001b[43mbasis\u001b[49m\u001b[43m,\u001b[49m\n\u001b[1;32m   1568\u001b[0m \u001b[43m\t\t\u001b[49m\u001b[43mtolerance\u001b[49m\u001b[43m \u001b[49m\u001b[38;5;241;43m=\u001b[39;49m\u001b[43m \u001b[49m\u001b[43mtolerance\u001b[49m\u001b[43m,\u001b[49m\n\u001b[1;32m   1569\u001b[0m \u001b[43m\t\t\u001b[49m\u001b[43mprecision\u001b[49m\u001b[43m \u001b[49m\u001b[38;5;241;43m=\u001b[39;49m\u001b[43m \u001b[49m\u001b[43mprecision\u001b[49m\u001b[43m,\u001b[49m\n\u001b[1;32m   1570\u001b[0m \u001b[43m\t\t\u001b[49m\u001b[43mverbose\u001b[49m\u001b[43m \u001b[49m\u001b[38;5;241;43m=\u001b[39;49m\u001b[43m \u001b[49m\u001b[38;5;28;43;01mFalse\u001b[39;49;00m\u001b[43m)\u001b[49m\n\u001b[1;32m   1572\u001b[0m \u001b[38;5;28;01mif\u001b[39;00m stat \u001b[38;5;241m==\u001b[39m \u001b[38;5;124m'\u001b[39m\u001b[38;5;124moptimal\u001b[39m\u001b[38;5;124m'\u001b[39m:\n\u001b[1;32m   1573\u001b[0m \t\u001b[38;5;66;03m#f = sum([ rxn.objective_coefficient * xopt[idx] for idx, rxn in enumerate(self.reactions) ])\u001b[39;00m\n\u001b[1;32m   1574\u001b[0m \tx_primal \u001b[38;5;241m=\u001b[39m xopt[ \u001b[38;5;241m0\u001b[39m:\u001b[38;5;28mlen\u001b[39m(\u001b[38;5;28mself\u001b[39m\u001b[38;5;241m.\u001b[39mreactions) ]   \u001b[38;5;66;03m# The remainder are the slacks\u001b[39;00m\n",
      "File \u001b[0;32m~/zuniga/coralme/tutorials/Tutorial 1 - Full reconstruction/../../coralme/solver/solver.py:416\u001b[0m, in \u001b[0;36mME_NLP.bisectmu\u001b[0;34m(self, mumin, mumax, maxIter, basis, tolerance, precision, verbose)\u001b[0m\n\u001b[1;32m    413\u001b[0m     \u001b[38;5;28mprint\u001b[39m(\u001b[38;5;124m'\u001b[39m\u001b[38;5;124m---------\u001b[39m\u001b[38;5;130;01m\\t\u001b[39;00m\u001b[38;5;124m------------------\u001b[39m\u001b[38;5;130;01m\\t\u001b[39;00m\u001b[38;5;124m-------------\u001b[39m\u001b[38;5;124m'\u001b[39m)\n\u001b[1;32m    415\u001b[0m \u001b[38;5;66;03m# test mumax\u001b[39;00m\n\u001b[0;32m--> 416\u001b[0m x_new, y_new, z_new, stat_new, hs_new \u001b[38;5;241m=\u001b[39m \u001b[38;5;28;43mself\u001b[39;49m\u001b[38;5;241;43m.\u001b[39;49m\u001b[43msolvelp\u001b[49m\u001b[43m(\u001b[49m\u001b[43mmumax\u001b[49m\u001b[43m,\u001b[49m\u001b[43m \u001b[49m\u001b[43mbasis\u001b[49m\u001b[43m,\u001b[49m\u001b[43m \u001b[49m\u001b[43mprecision\u001b[49m\u001b[43m)\u001b[49m\n\u001b[1;32m    418\u001b[0m \u001b[38;5;28;01mdef\u001b[39;00m\u001b[38;5;250m \u001b[39m\u001b[38;5;21mget_stat_msg\u001b[39m(stat):\n\u001b[1;32m    419\u001b[0m     \u001b[38;5;28;01mif\u001b[39;00m stat \u001b[38;5;241m==\u001b[39m \u001b[38;5;124m\"\u001b[39m\u001b[38;5;124moptimal\u001b[39m\u001b[38;5;124m\"\u001b[39m:\n",
      "File \u001b[0;32m~/zuniga/coralme/tutorials/Tutorial 1 - Full reconstruction/../../coralme/solver/solver.py:333\u001b[0m, in \u001b[0;36mME_NLP.solvelp\u001b[0;34m(self, muf, basis, precision, probname)\u001b[0m\n\u001b[1;32m    316\u001b[0m \u001b[38;5;250m\u001b[39m\u001b[38;5;124;03m\"\"\"\u001b[39;00m\n\u001b[1;32m    317\u001b[0m \u001b[38;5;124;03mx, status, hs = solvelp(self, muf, basis = None, precision = 'quad')\u001b[39;00m\n\u001b[1;32m    318\u001b[0m \n\u001b[0;32m   (...)\u001b[0m\n\u001b[1;32m    329\u001b[0m \u001b[38;5;124;03mhs: basis\u001b[39;00m\n\u001b[1;32m    330\u001b[0m \u001b[38;5;124;03m\"\"\"\u001b[39;00m\n\u001b[1;32m    331\u001b[0m \u001b[38;5;66;03m#me = self.me\u001b[39;00m\n\u001b[0;32m--> 333\u001b[0m m, n, ha, ka, ad, bld, bud, hs0, _ \u001b[38;5;241m=\u001b[39m \u001b[38;5;28;43mself\u001b[39;49m\u001b[38;5;241;43m.\u001b[39;49m\u001b[43mmake_lp\u001b[49m\u001b[43m(\u001b[49m\u001b[43mmuf\u001b[49m\u001b[43m)\u001b[49m\n\u001b[1;32m    335\u001b[0m hs \u001b[38;5;241m=\u001b[39m basis\n\u001b[1;32m    336\u001b[0m \u001b[38;5;28;01mif\u001b[39;00m hs \u001b[38;5;129;01mis\u001b[39;00m \u001b[38;5;28;01mNone\u001b[39;00m:\n",
      "File \u001b[0;32m~/zuniga/coralme/tutorials/Tutorial 1 - Full reconstruction/../../coralme/solver/solver.py:308\u001b[0m, in \u001b[0;36mME_NLP.make_lp\u001b[0;34m(self, muf, obj_inds0, obj_coeffs)\u001b[0m\n\u001b[1;32m    306\u001b[0m ka \u001b[38;5;241m=\u001b[39m P\n\u001b[1;32m    307\u001b[0m ad \u001b[38;5;241m=\u001b[39m V\n\u001b[0;32m--> 308\u001b[0m bld \u001b[38;5;241m=\u001b[39m [ bi \u001b[38;5;28;01mfor\u001b[39;00m bi \u001b[38;5;129;01min\u001b[39;00m \u001b[43mbl\u001b[49m\u001b[38;5;241;43m.\u001b[39;49m\u001b[43mflat\u001b[49m ]\n\u001b[1;32m    309\u001b[0m bud \u001b[38;5;241m=\u001b[39m [ bi \u001b[38;5;28;01mfor\u001b[39;00m bi \u001b[38;5;129;01min\u001b[39;00m bu\u001b[38;5;241m.\u001b[39mflat ]\n\u001b[1;32m    310\u001b[0m nb \u001b[38;5;241m=\u001b[39m m \u001b[38;5;241m+\u001b[39m n\n",
      "\u001b[0;31mAttributeError\u001b[0m: 'coo_matrix' object has no attribute 'flat'"
     ]
    }
   ],
   "source": [
    "builder.troubleshoot(growth_key_and_value = { builder.me_model.mu : 0.001 })"
   ]
  },
  {
   "cell_type": "code",
   "execution_count": null,
   "id": "beefc86f-7a1d-4586-9e72-e6720ed36dfc",
   "metadata": {},
   "outputs": [],
   "source": []
  }
 ],
 "metadata": {
  "kernelspec": {
   "display_name": "Python 3 (ipykernel)",
   "language": "python",
   "name": "python3"
  },
  "language_info": {
   "codemirror_mode": {
    "name": "ipython",
    "version": 3
   },
   "file_extension": ".py",
   "mimetype": "text/x-python",
   "name": "python",
   "nbconvert_exporter": "python",
   "pygments_lexer": "ipython3",
   "version": "3.10.16"
  },
  "toc-autonumbering": true,
  "toc-showcode": true
 },
 "nbformat": 4,
 "nbformat_minor": 5
}
