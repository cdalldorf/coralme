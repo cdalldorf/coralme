{
 "cells": [
  {
   "cell_type": "code",
   "execution_count": 2,
   "id": "8dbf4dd4-dd63-42c8-a059-290081ce9978",
   "metadata": {},
   "outputs": [
    {
     "name": "stdout",
     "output_type": "stream",
     "text": [
      "extracted_genes.fasta  genomic.fasta.fai  results.txt\n",
      "genomic.fasta          genomic.gff\n"
     ]
    }
   ],
   "source": [
    "ls ./og_model_genome_files"
   ]
  },
  {
   "cell_type": "code",
   "execution_count": 1,
   "id": "ccf000b3-df4e-4718-8083-d2b18e26ba59",
   "metadata": {},
   "outputs": [
    {
     "ename": "FileNotFoundError",
     "evalue": "[Errno 2] No such file or directory: './og_model_genome_files/genomic.gff'",
     "output_type": "error",
     "traceback": [
      "\u001b[0;31m---------------------------------------------------------------------------\u001b[0m",
      "\u001b[0;31mFileNotFoundError\u001b[0m                         Traceback (most recent call last)",
      "Cell \u001b[0;32mIn[1], line 2\u001b[0m\n\u001b[1;32m      1\u001b[0m \u001b[38;5;66;03m# convert blast_id to ZM id for model genes\u001b[39;00m\n\u001b[0;32m----> 2\u001b[0m f \u001b[38;5;241m=\u001b[39m \u001b[38;5;28;43mopen\u001b[39;49m\u001b[43m(\u001b[49m\u001b[38;5;124;43m'\u001b[39;49m\u001b[38;5;124;43m./og_model_genome_files/genomic.gff\u001b[39;49m\u001b[38;5;124;43m'\u001b[39;49m\u001b[43m,\u001b[49m\u001b[43m \u001b[49m\u001b[38;5;124;43m'\u001b[39;49m\u001b[38;5;124;43mr\u001b[39;49m\u001b[38;5;124;43m'\u001b[39;49m\u001b[43m)\u001b[49m\n\u001b[1;32m      3\u001b[0m lines \u001b[38;5;241m=\u001b[39m f\u001b[38;5;241m.\u001b[39mreadlines()\n\u001b[1;32m      4\u001b[0m f\u001b[38;5;241m.\u001b[39mclose()\n",
      "File \u001b[0;32m~/miniforge3/envs/coralme/lib/python3.10/site-packages/IPython/core/interactiveshell.py:324\u001b[0m, in \u001b[0;36m_modified_open\u001b[0;34m(file, *args, **kwargs)\u001b[0m\n\u001b[1;32m    317\u001b[0m \u001b[38;5;28;01mif\u001b[39;00m file \u001b[38;5;129;01min\u001b[39;00m {\u001b[38;5;241m0\u001b[39m, \u001b[38;5;241m1\u001b[39m, \u001b[38;5;241m2\u001b[39m}:\n\u001b[1;32m    318\u001b[0m     \u001b[38;5;28;01mraise\u001b[39;00m \u001b[38;5;167;01mValueError\u001b[39;00m(\n\u001b[1;32m    319\u001b[0m         \u001b[38;5;124mf\u001b[39m\u001b[38;5;124m\"\u001b[39m\u001b[38;5;124mIPython won\u001b[39m\u001b[38;5;124m'\u001b[39m\u001b[38;5;124mt let you open fd=\u001b[39m\u001b[38;5;132;01m{\u001b[39;00mfile\u001b[38;5;132;01m}\u001b[39;00m\u001b[38;5;124m by default \u001b[39m\u001b[38;5;124m\"\u001b[39m\n\u001b[1;32m    320\u001b[0m         \u001b[38;5;124m\"\u001b[39m\u001b[38;5;124mas it is likely to crash IPython. If you know what you are doing, \u001b[39m\u001b[38;5;124m\"\u001b[39m\n\u001b[1;32m    321\u001b[0m         \u001b[38;5;124m\"\u001b[39m\u001b[38;5;124myou can use builtins\u001b[39m\u001b[38;5;124m'\u001b[39m\u001b[38;5;124m open.\u001b[39m\u001b[38;5;124m\"\u001b[39m\n\u001b[1;32m    322\u001b[0m     )\n\u001b[0;32m--> 324\u001b[0m \u001b[38;5;28;01mreturn\u001b[39;00m \u001b[43mio_open\u001b[49m\u001b[43m(\u001b[49m\u001b[43mfile\u001b[49m\u001b[43m,\u001b[49m\u001b[43m \u001b[49m\u001b[38;5;241;43m*\u001b[39;49m\u001b[43margs\u001b[49m\u001b[43m,\u001b[49m\u001b[43m \u001b[49m\u001b[38;5;241;43m*\u001b[39;49m\u001b[38;5;241;43m*\u001b[39;49m\u001b[43mkwargs\u001b[49m\u001b[43m)\u001b[49m\n",
      "\u001b[0;31mFileNotFoundError\u001b[0m: [Errno 2] No such file or directory: './og_model_genome_files/genomic.gff'"
     ]
    }
   ],
   "source": [
    "# convert blast_id to ZM id for model genes\n",
    "f = open('./og_model_genome_files/genome.gb', 'r')\n",
    "lines = f.readlines()\n",
    "f.close()\n",
    "id_to_locus = {}\n",
    "for line in lines[7:-1]:\n",
    "    opts = line.split('\\t')\n",
    "    if opts[2] != 'gene':\n",
    "        continue\n",
    "    new_name = opts[0]+':'+str(int(opts[3])-1)+'-'+opts[4]\n",
    "    id_to_locus.update({new_name : opts[-1].split('Name=')[1].split(';')[0]})\n"
   ]
  },
  {
   "cell_type": "code",
   "execution_count": 52,
   "id": "26b76110-fbb3-4688-81ca-f21f7448d109",
   "metadata": {},
   "outputs": [],
   "source": [
    "# convert model genes to biocyc genes\n",
    "f = open('./og_model_genome_files/results.txt', 'r')\n",
    "lines = f.readlines()\n",
    "f.close()\n",
    "ZM_gene_to_biocyc = {}\n",
    "for line in lines:\n",
    "    opts = line.split('\\t')\n",
    "    if opts[0] not in id_to_locus:\n",
    "        continue\n",
    "    ZM_gene = id_to_locus[opts[0]]\n",
    "    biocyc_gene = opts[1].split('|')[2]\n",
    "    ZM_gene_to_biocyc.update({ZM_gene : biocyc_gene})"
   ]
  },
  {
   "cell_type": "code",
   "execution_count": 83,
   "id": "0f9a6603-fe0b-4696-8e59-67778df564e1",
   "metadata": {},
   "outputs": [],
   "source": [
    "# convert model values\n",
    "f = open('./inputs/i_ZM4_481.json', 'r')\n",
    "lines = f.readlines()\n",
    "f.close()\n",
    "f = open('./inputs/converted_model.json', 'w')\n",
    "new_lines = []\n",
    "for line in lines:\n",
    "    if 'kegg.gene' in line:\n",
    "        pre_gene = line.split('zmo')[0]\n",
    "        gene = line.split('zmo:')[1].split('\\\"')[0]\n",
    "        if gene in ZM_gene_to_biocyc:\n",
    "            new_gene = ZM_gene_to_biocyc[gene]\n",
    "        else:\n",
    "            new_gene = gene\n",
    "        post_gene = '\\\"'+post_gene.split('\\\"')[1]\n",
    "        new_line = pre_gene+new_gene+post_gene\n",
    "    else:\n",
    "        new_line = line\n",
    "    f.write(new_line)\n",
    "f.close()"
   ]
  },
  {
   "cell_type": "code",
   "execution_count": null,
   "id": "1901a275-1037-44ea-b4c5-855e9a1a6664",
   "metadata": {},
   "outputs": [],
   "source": []
  }
 ],
 "metadata": {
  "kernelspec": {
   "display_name": "Python 3 (ipykernel)",
   "language": "python",
   "name": "python3"
  },
  "language_info": {
   "codemirror_mode": {
    "name": "ipython",
    "version": 3
   },
   "file_extension": ".py",
   "mimetype": "text/x-python",
   "name": "python",
   "nbconvert_exporter": "python",
   "pygments_lexer": "ipython3",
   "version": "3.10.16"
  }
 },
 "nbformat": 4,
 "nbformat_minor": 5
}
